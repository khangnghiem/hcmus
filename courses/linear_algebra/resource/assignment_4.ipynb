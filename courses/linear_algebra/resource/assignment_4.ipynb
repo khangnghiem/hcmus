{
 "cells": [
  {
   "cell_type": "code",
   "execution_count": 2,
   "id": "391986d1",
   "metadata": {},
   "outputs": [],
   "source": [
    "# Step 1: Library\n",
    "import numpy as np\n",
    "from scipy.linalg import svd"
   ]
  },
  {
   "cell_type": "code",
   "execution_count": 13,
   "id": "5fcc654d",
   "metadata": {},
   "outputs": [
    {
     "name": "stdout",
     "output_type": "stream",
     "text": [
      "[[1.01  0.9   0.2   1.001 0.3  ]\n",
      " [0.2   1.01  0.3   0.8   0.4  ]\n",
      " [1.    1.002 2.    0.98  2.   ]\n",
      " [0.3   2.    0.4   1.01  0.9  ]\n",
      " [1.1   0.2   0.03  2.    0.87 ]]\n",
      "Singular values: [4.681907 1.793252 1.57961  0.549034 0.178596]\n",
      "Cumulative info retained: [0.7839 0.8989 0.9881 0.9989 1.    ]\n",
      "Chosen kλ = 3\n",
      "Matrix U_k:\n",
      "[[-0.3281  0.3293 -0.0878]\n",
      " [-0.2737  0.0912 -0.315 ]\n",
      " [-0.6482 -0.6587  0.3795]\n",
      " [-0.4661  0.0207 -0.7192]\n",
      " [-0.4243  0.67    0.4814]]\n",
      "\n",
      "Matrix Σ_k:\n",
      "[[4.6819 0.     0.    ]\n",
      " [0.     1.7933 0.    ]\n",
      " [0.     0.     1.5796]]\n",
      "\n",
      "Matrix V_k^T:\n",
      "[[-0.3505 -0.4781 -0.351  -0.5344 -0.4897]\n",
      " [ 0.2427 -0.0536 -0.6669  0.6234 -0.3238]\n",
      " [ 0.3429 -0.8604  0.2366  0.17    0.2395]]\n",
      "\n",
      "Reconstructed A_k (approx):\n",
      "[[0.6342 0.8222 0.1126 1.1656 0.528 ]\n",
      " [0.3183 1.0321 0.223  0.7023 0.4555]\n",
      " [0.9824 0.9983 1.9947 0.9872 2.0122]\n",
      " [0.3843 2.0187 0.4723 0.9962 0.7846]\n",
      " [1.2487 0.2311 0.0759 1.9399 0.766 ]]\n",
      "\n",
      "Information retained: 98.81%\n"
     ]
    }
   ],
   "source": [
    "A = np.array(\n",
    "    [\n",
    "        [1.01, 0.9, 0.2, 1.001, 0.3],\n",
    "        [0.2, 1.01, 0.3, 0.8, 0.4],\n",
    "        [1, 1.002, 2, 0.98, 2],\n",
    "        [0.3, 2, 0.4, 1.01, 0.9],\n",
    "        [1.1, 0.2, 0.03, 2, 0.87],\n",
    "    ]\n",
    ")\n",
    "print(A)\n",
    "\n",
    "# Step 1: Construct SVD\n",
    "U, S, Vt = svd(A)\n",
    "\n",
    "# Step 2: Find minimum k such that >= 90% info retained\n",
    "target_info_retained = 0.90  # 90%\n",
    "I_retained = np.cumsum(S**2) / np.sum(S**2)\n",
    "k_lambda = np.argmax(I_retained >= target_info_retained) + 1\n",
    "\n",
    "print(\"Singular values:\", np.round(S, 6))\n",
    "print(\"Cumulative info retained:\", np.round(I_retained, 4))\n",
    "print(\"Chosen kλ =\", k_lambda)\n",
    "\n",
    "# Step 3, 4, 5: Build truncated SVD\n",
    "U_k = U[:, :k_lambda]  # m x k\n",
    "S_k = np.diag(S[:k_lambda])  # k x k\n",
    "V_k = Vt[:k_lambda, :]  # k x n\n",
    "\n",
    "# Step 6: Reconstruction\n",
    "A_k = U_k @ S_k @ V_k\n",
    "\n",
    "# Step 7: % info retained\n",
    "info_retained = (np.sum(S[:k_lambda] ** 2) / np.sum(S**2)) * 100\n",
    "\n",
    "print(f\"Matrix U_k:\\n{np.round(U_k, 4)}\\n\")\n",
    "print(f\"Matrix Σ_k:\\n{np.round(S_k, 4)}\\n\")\n",
    "print(f\"Matrix V_k^T:\\n{np.round(V_k, 4)}\\n\")\n",
    "print(f\"Reconstructed A_k (approx):\\n{np.round(A_k, 4)}\\n\")\n",
    "print(f\"Information retained: {info_retained:.2f}%\")"
   ]
  }
 ],
 "metadata": {
  "kernelspec": {
   "display_name": "Python 3",
   "language": "python",
   "name": "python3"
  },
  "language_info": {
   "codemirror_mode": {
    "name": "ipython",
    "version": 3
   },
   "file_extension": ".py",
   "mimetype": "text/x-python",
   "name": "python",
   "nbconvert_exporter": "python",
   "pygments_lexer": "ipython3",
   "version": "3.13.1"
  }
 },
 "nbformat": 4,
 "nbformat_minor": 5
}
