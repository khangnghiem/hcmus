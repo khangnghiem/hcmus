{
 "cells": [
  {
   "cell_type": "code",
   "execution_count": 2,
   "id": "391986d1",
   "metadata": {},
   "outputs": [],
   "source": [
    "# Step 1: Library\n",
    "import numpy as np\n",
    "from scipy.linalg import svd"
   ]
  },
  {
   "cell_type": "code",
   "execution_count": 13,
   "id": "5fcc654d",
   "metadata": {},
   "outputs": [
    {
     "name": "stdout",
     "output_type": "stream",
     "text": [
      "Information retained: 99.89%\n",
      "\n",
      "Matrix U_k:\n",
      "[[-0.32813554  0.32928789 -0.08780746  0.88098834]\n",
      " [-0.27374756  0.09123211 -0.31504405 -0.16061502]\n",
      " [-0.64816455 -0.65873014  0.3795124   0.04270121]\n",
      " [-0.46609071  0.0207275  -0.71918456 -0.25646457]\n",
      " [-0.4243012   0.66999341  0.4814364  -0.36119923]]\n",
      "\n",
      "\n",
      "Matrix Σ_k:\n",
      "[[4.68190663 0.         0.         0.        ]\n",
      " [0.         1.79325215 0.         0.        ]\n",
      " [0.         0.         1.57960998 0.        ]\n",
      " [0.         0.         0.         0.54903356]]\n",
      "\n",
      "\n",
      "Matrix V_k^T:\n",
      "[[-0.35047463 -0.4780765  -0.35097791 -0.5344013  -0.48973477]\n",
      " [ 0.24274782 -0.05358443 -0.66685673  0.62343097 -0.32378718]\n",
      " [ 0.3428965  -0.86035897  0.23658964  0.1699711   0.2394569 ]\n",
      " [ 0.77612359  0.16080247  0.18212689 -0.3391472  -0.47284639]]\n",
      "\n",
      "\n",
      "Truncated Reconstruction A_k:\n",
      "[[1.0096 0.8999 0.2007 1.0015 0.2993]\n",
      " [0.2498 1.0179 0.2069 0.7322 0.4972]\n",
      " [1.0006 1.0021 1.9989 0.9792 2.0011]\n",
      " [0.275  1.996  0.4467 1.044  0.8512]\n",
      " [1.0947 0.1992 0.0398 2.0072 0.8597]]\n",
      "\n"
     ]
    }
   ],
   "source": [
    "# Step 1: Compute SVD\n",
    "A = np.array(\n",
    "    [\n",
    "        [1.01, 0.9, 0.2, 1.001, 0.3],\n",
    "        [0.2, 1.01, 0.3, 0.8, 0.4],\n",
    "        [1, 1.002, 2, 0.98, 2],\n",
    "        [0.3, 2, 0.4, 1.01, 0.9],\n",
    "        [1.1, 0.2, 0.03, 2, 0.87],\n",
    "    ]\n",
    ")\n",
    "\n",
    "U, S, Vt = svd(A)\n",
    "\n",
    "# Step 2: Truncate to keep only top k=4 singular values\n",
    "k = 4\n",
    "S_k = np.diag(S[:k])  # k x k Sigma_k\n",
    "\n",
    "# Step 3: Construct U_k with k=4 columns\n",
    "U_k = U[:, :k]  # m x k\n",
    "\n",
    "# Step 4: Construct V_kt with k=4 rows\n",
    "V_kt = Vt[:k, :]  # k x n\n",
    "\n",
    "\n",
    "# Step 5: Compute information retained\n",
    "retain_percent = (np.sum(S[:k] ** 2) / np.sum(S**2)) * 100\n",
    "print(f\"Information retained: {retain_percent:.2f}%\")\n",
    "\n",
    "# Step 6: Print results\n",
    "print(f\"\\nMatrix U_k:\\n{U_k}\\n\")\n",
    "print(f\"\\nMatrix Σ_k:\\n{S_k}\\n\")\n",
    "print(f\"\\nMatrix V_k^T:\\n{V_kt}\\n\")\n",
    "\n",
    "# Step 7: Reconstruct truncated A\n",
    "A_trunc = U_k @ S_k @ V_kt\n",
    "\n",
    "print(f\"\\nTruncated Reconstruction A_k:\\n{np.round(A_trunc, 4)}\\n\")"
   ]
  }
 ],
 "metadata": {
  "kernelspec": {
   "display_name": "Python 3",
   "language": "python",
   "name": "python3"
  },
  "language_info": {
   "codemirror_mode": {
    "name": "ipython",
    "version": 3
   },
   "file_extension": ".py",
   "mimetype": "text/x-python",
   "name": "python",
   "nbconvert_exporter": "python",
   "pygments_lexer": "ipython3",
   "version": "3.13.1"
  }
 },
 "nbformat": 4,
 "nbformat_minor": 5
}
