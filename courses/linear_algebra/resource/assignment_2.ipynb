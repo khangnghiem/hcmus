{
 "cells": [
  {
   "cell_type": "code",
   "execution_count": 1,
   "id": "391986d1",
   "metadata": {},
   "outputs": [],
   "source": [
    "# Step 1: Library\n",
    "import numpy as np\n",
    "from scipy.linalg import svd"
   ]
  },
  {
   "cell_type": "code",
   "execution_count": 21,
   "id": "5fcc654d",
   "metadata": {},
   "outputs": [
    {
     "name": "stdout",
     "output_type": "stream",
     "text": [
      "Number of non-zero singular values (λ): 3\n",
      "\n",
      "Compact U_r:\n",
      "[[0. 1. 0.]\n",
      " [1. 0. 0.]\n",
      " [0. 0. 0.]\n",
      " [0. 0. 1.]]\n",
      "\n",
      "Compact Σ_r:\n",
      "[[3.         0.         0.        ]\n",
      " [0.         2.23606798 0.        ]\n",
      " [0.         0.         2.        ]]\n",
      "\n",
      "Compact V_r^T:\n",
      "[[-0.          0.          1.         -0.          0.        ]\n",
      " [ 0.4472136   0.          0.          0.          0.89442719]\n",
      " [-0.          1.          0.         -0.          0.        ]]\n",
      "\n",
      "Reconstructed A (from compact SVD):\n",
      "[[1. 0. 0. 0. 2.]\n",
      " [0. 0. 3. 0. 0.]\n",
      " [0. 0. 0. 0. 0.]\n",
      " [0. 2. 0. 0. 0.]]\n",
      "\n"
     ]
    }
   ],
   "source": [
    "A = np.array(\n",
    "    [\n",
    "        [1, 0, 0, 0, 2],\n",
    "        [0, 0, 3, 0, 0],\n",
    "        [0, 0, 0, 0, 0],\n",
    "        [0, 2, 0, 0, 0],\n",
    "    ]\n",
    ")\n",
    "\n",
    "# Step 1: Full SVD\n",
    "U, S_diag, Vt = svd(A)\n",
    "\n",
    "# Step 2: Find rank r by counting how many singular values λ that are not 0\n",
    "tol = 1e-10  # use this tolerance to avoid python computation floating point error\n",
    "r = np.count_nonzero(np.abs(S_diag) > tol)\n",
    "print(f\"Number of non-zero singular values (λ): {r}\\n\")\n",
    "\n",
    "# Step 3: Construct compact SVD components\n",
    "S_r = np.diag(S_diag[:r])  # r x r diagonal matrix\n",
    "\n",
    "# Step 4: Construct first r columns of U to create U_r\n",
    "U_r = U[:, :r]\n",
    "\n",
    "# Step 5: Construct first r rows of V^T to create V_r^T\n",
    "V_rt = Vt[:r, :]\n",
    "\n",
    "# Step 6: Display results\n",
    "print(f\"Compact U_r:\\n{U_r}\\n\")\n",
    "print(f\"Compact Σ_r:\\n{S_r}\\n\")\n",
    "print(f\"Compact V_r^T:\\n{V_rt}\\n\")\n",
    "\n",
    "# Step 7: Verify reconstruction\n",
    "A_reconstructed = U_r @ S_r @ V_rt\n",
    "print(f\"Reconstructed A (from compact SVD):\\n{np.round(A_reconstructed, 5)}\\n\")"
   ]
  }
 ],
 "metadata": {
  "kernelspec": {
   "display_name": "Python 3",
   "language": "python",
   "name": "python3"
  },
  "language_info": {
   "codemirror_mode": {
    "name": "ipython",
    "version": 3
   },
   "file_extension": ".py",
   "mimetype": "text/x-python",
   "name": "python",
   "nbconvert_exporter": "python",
   "pygments_lexer": "ipython3",
   "version": "3.13.1"
  }
 },
 "nbformat": 4,
 "nbformat_minor": 5
}
