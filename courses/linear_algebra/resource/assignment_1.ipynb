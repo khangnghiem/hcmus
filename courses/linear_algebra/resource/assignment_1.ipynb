{
 "cells": [
  {
   "cell_type": "code",
   "execution_count": 1,
   "id": "391986d1",
   "metadata": {},
   "outputs": [],
   "source": [
    "# Step 1: Library\n",
    "import numpy as np\n",
    "from scipy.linalg import svd"
   ]
  },
  {
   "cell_type": "code",
   "execution_count": 8,
   "id": "5fcc654d",
   "metadata": {},
   "outputs": [
    {
     "name": "stdout",
     "output_type": "stream",
     "text": [
      "Matrix A:\n",
      "[[1 0 0 0 2]\n",
      " [0 0 3 0 0]\n",
      " [0 0 0 0 0]\n",
      " [0 2 0 0 0]]\n",
      "\n",
      "Matrix U:\n",
      "[[ 0.  1.  0.  0.]\n",
      " [ 1.  0.  0.  0.]\n",
      " [ 0.  0.  0. -1.]\n",
      " [ 0.  0.  1.  0.]]\n",
      "\n",
      "Singular values:\n",
      "[3.         2.23606798 2.         0.        ]\n",
      "\n",
      "Matrix Σ (Sigma):\n",
      "[[3.         0.         0.         0.         0.        ]\n",
      " [0.         2.23606798 0.         0.         0.        ]\n",
      " [0.         0.         2.         0.         0.        ]\n",
      " [0.         0.         0.         0.         0.        ]]\n",
      "\n",
      "Matrix V^T:\n",
      "[[-0.          0.          1.         -0.          0.        ]\n",
      " [ 0.4472136   0.          0.          0.          0.89442719]\n",
      " [-0.          1.          0.         -0.          0.        ]\n",
      " [ 0.          0.          0.          1.          0.        ]\n",
      " [-0.89442719  0.          0.          0.          0.4472136 ]]\n",
      "\n",
      "Reconstructed A (from UΣV^T):\n",
      "[[1. 0. 0. 0. 2.]\n",
      " [0. 0. 3. 0. 0.]\n",
      " [0. 0. 0. 0. 0.]\n",
      " [0. 2. 0. 0. 0.]]\n",
      "\n",
      "[[1. 0. 0. 0. 2.]\n",
      " [0. 0. 3. 0. 0.]\n",
      " [0. 0. 0. 0. 0.]\n",
      " [0. 2. 0. 0. 0.]]\n"
     ]
    }
   ],
   "source": [
    "# Step 2: Define the matrix A\n",
    "A = np.array(\n",
    "    [\n",
    "        [1, 0, 0, 0, 2],\n",
    "        [0, 0, 3, 0, 0],\n",
    "        [0, 0, 0, 0, 0],\n",
    "        [0, 2, 0, 0, 0],\n",
    "    ]\n",
    ")\n",
    "\n",
    "print(f\"Matrix A:\\n{A}\\n\")\n",
    "\n",
    "# Step 3: Compute SVD\n",
    "U, S_diag, Vt = svd(A)\n",
    "\n",
    "# Step 4: Convert singular values vector into a diagonal matrix Σ\n",
    "# 4.1 and 4.3 Create a zero matrix Σ with the same shape as A\n",
    "Sigma = np.zeros_like(A, dtype=float)\n",
    "# 4.2 Fill the diagonal of Σ with the singular values\n",
    "np.fill_diagonal(Sigma, S_diag)\n",
    "\n",
    "print(f\"Matrix U:\\n{U}\\n\")\n",
    "print(f\"Singular values:\\n{S_diag}\\n\")\n",
    "print(f\"Matrix Σ (Sigma):\\n{Sigma}\\n\")\n",
    "print(f\"Matrix V^T:\\n{Vt}\\n\")\n",
    "\n",
    "# Step 5: Verify decomposition\n",
    "A_reconstructed = U @ Sigma @ Vt\n",
    "print(f\"Reconstructed A (from UΣV^T):\\n{A_reconstructed}\\n\")\n",
    "print(np.round(A_reconstructed, 5))"
   ]
  }
 ],
 "metadata": {
  "kernelspec": {
   "display_name": "Python 3",
   "language": "python",
   "name": "python3"
  },
  "language_info": {
   "codemirror_mode": {
    "name": "ipython",
    "version": 3
   },
   "file_extension": ".py",
   "mimetype": "text/x-python",
   "name": "python",
   "nbconvert_exporter": "python",
   "pygments_lexer": "ipython3",
   "version": "3.13.1"
  }
 },
 "nbformat": 4,
 "nbformat_minor": 5
}
