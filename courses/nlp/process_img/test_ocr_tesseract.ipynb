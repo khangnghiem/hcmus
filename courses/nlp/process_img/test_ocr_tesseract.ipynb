{
 "cells": [
  {
   "cell_type": "code",
   "execution_count": 1,
   "id": "50cc6188",
   "metadata": {},
   "outputs": [],
   "source": [
    "import os\n",
    "import pytesseract\n",
    "from pdf2image import convert_from_path\n",
    "from PIL import Image, ImageFilter\n",
    "import shutil\n",
    "import sys\n",
    "import numpy as np\n",
    "from scipy.ndimage import binary_opening"
   ]
  },
  {
   "cell_type": "code",
   "execution_count": 2,
   "id": "3c249fea",
   "metadata": {},
   "outputs": [
    {
     "name": "stdout",
     "output_type": "stream",
     "text": [
      "第 囊 卻 宙 操 蟬 全 加 中 及 傘 惠 34 你 收 羯 說 1 季 4 恰 放 生\n",
      "\n",
      "昌 Do : 只\n",
      "\n",
      "二 0 丰 寢 We 人 和 說 同 如 喇 @ ri\n",
      "玉生 信和 卻說 : 放 和 各 RE 條\n",
      "\n",
      "只 和 從 人 和光 中 條 生 Ka 休 尋\n",
      "\n",
      "人 計 器 約 蔡 寺 池 仙人 人 和 人 光 全\n",
      "\n",
      "花生 下 二 者 和 2 點 六 記 克 全 加 福家 上 電 打 次 想 下 冀\n",
      "\n",
      "十 誤 本 導 友 枯 失 有 員 販 學 對 生 0 蠅 At 器 點 加\n",
      "2 全\n",
      "\n",
      "人\n",
      "\n",
      "和\n",
      "\n",
      "同 和 2\n",
      "\n",
      "字 濕 間 、 昌 全 和 - 必 蔡 -“ 落 . 。- 特 人\n",
      "0\n",
      "7 交 放 : Ki 還 設 、. ~ - Re\n",
      "\n",
      "并 玉 密 字 墮 2 和 下 呈 閃 說 辣 玉 全 抽\n",
      "1 主 章 戰 生 和 2 加\n",
      "圖 1 語 0 2 6 和 一 和 4\n",
      "人 號 轉 - 、 弓 蟬 V . 和 / 人 < 沁 Ex 呈\n",
      "一 昌 作 We 說 ASA 。 由 說 “ 閣 .\n",
      "\n",
      ".!- 六 必 衣 二 他 一\n",
      "主 三 (本 的 f 樣 WK 7 , 人 ee” 下 ※ 拱 ,\n",
      "\n",
      "二 cs 同 和 富 ? 全 還 4 人 性 語\n",
      "\n",
      "玲\n",
      "\n",
      "說 生 . 下 化 1 同 肯 尊 Wg 一 客\n",
      "\n",
      ":\n",
      "“ 售\n",
      "\n",
      "人 全\n",
      "\n",
      "下\n",
      "\n",
      "AV 9 導\n",
      "\n",
      "全\n",
      "\n",
      "悍\n",
      "陣 /\n",
      "\n",
      "說 際 S3\n",
      "\n",
      "耳 2\n",
      "1\n",
      "\n",
      "cs\n",
      "\n",
      "ON 99 2 史 池 全 人 7 全 太 920 8109 9M6N : g2o29A 2 兄 dd 0 5uondo (Hd) HNYH SnHL 5OH ovo N3iA-(o343) oo 5yd oNGd N 引 和 人 N3IA- WON NYH nno N3IHON N3A\n",
      "\n",
      "(9572)\n",
      "\n",
      "9571\n",
      "\n",
      "562\n",
      "\n"
     ]
    }
   ],
   "source": [
    "# png_files = os.listdir(\"../png\")\n",
    "png_files = Image.open(\"../png/test_page_1.png\")\n",
    "text = \"\"\n",
    "text += pytesseract.image_to_string(png_files, lang=\"chi_tra\")\n",
    "# text = \"\"\n",
    "# for png_file in png_files:\n",
    "#     img = Image.open(png_file)\n",
    "#     text += pytesseract.image_to_string(img)\n",
    "\n",
    "\n",
    "print(text)"
   ]
  },
  {
   "cell_type": "code",
   "execution_count": 3,
   "id": "5dafb596",
   "metadata": {},
   "outputs": [
    {
     "name": "stdout",
     "output_type": "stream",
     "text": [
      "WON UBH OBU4 UBA N91} 9BU) 1eyy nN UEIUBN : deyd-IOIA 993 doy Yul Buanys\n",
      "\n",
      "wee ig al ge ed ee Be eB at ta ee | RL de 2\n",
      "Hak eee eer ee\n",
      "ee: Sataguetarsra iaace\n",
      "pices Pana as\n",
      "cence EA RK KW Xe CS Kone aR ED\n",
      "Sent ge bead SENT ARS MMA Ee Rae 7\n",
      "Sh RAE RARE ORIENT GAH eR PH RHE CUES Re .\n",
      ": a SO pad aed. +e (eg\n",
      "seit ae Bae oe Me\n",
      "eRe °\n",
      "ane ae i |\n",
      "re bi ms\n",
      ". “eee ve io\n",
      "of. a, gee MER\n",
      "ett wees Roe, ae . Ss\n",
      "Bg exe.) Rae: spew wet\n",
      "Be Aa - Me END es\n",
      "an BAPE tte: vet\n",
      "\n",
      "(@Hda) HNYH OAHL OH OVD N3IA - (0444) GO DYE ONQG NIA NJIA - WON NYH MND NJIHON NZIA\n",
      "\n"
     ]
    }
   ],
   "source": [
    "print(text)"
   ]
  }
 ],
 "metadata": {
  "kernelspec": {
   "display_name": ".venv",
   "language": "python",
   "name": "python3"
  },
  "language_info": {
   "codemirror_mode": {
    "name": "ipython",
    "version": 3
   },
   "file_extension": ".py",
   "mimetype": "text/x-python",
   "name": "python",
   "nbconvert_exporter": "python",
   "pygments_lexer": "ipython3",
   "version": "3.12.8"
  }
 },
 "nbformat": 4,
 "nbformat_minor": 5
}
