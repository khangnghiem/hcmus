{
 "cells": [
  {
   "cell_type": "code",
   "execution_count": 2,
   "id": "45daf6f7",
   "metadata": {},
   "outputs": [
    {
     "name": "stdout",
     "output_type": "stream",
     "text": [
      "Running verify PaddlePaddle program ... \n",
      "PaddlePaddle works well on 1 CPU.\n",
      "PaddlePaddle is installed successfully! Let's start deep learning with PaddlePaddle now.\n"
     ]
    },
    {
     "name": "stderr",
     "output_type": "stream",
     "text": [
      "I0615 22:59:00.147918 26872960 pir_interpreter.cc:1485] New Executor is Running ...\n",
      "I0615 22:59:00.150738 26872960 pir_interpreter.cc:1508] pir interpreter is running by multi-thread mode ...\n"
     ]
    }
   ],
   "source": [
    "import paddle\n",
    "from paddleocr import PaddleOCR\n",
    "\n",
    "paddle.utils.run_check()"
   ]
  },
  {
   "cell_type": "code",
   "execution_count": 1,
   "id": "50cc6188",
   "metadata": {},
   "outputs": [
    {
     "name": "stderr",
     "output_type": "stream",
     "text": [
      "\u001b[32mCreating model: ('PP-OCRv5_server_det', None)\u001b[0m\n",
      "\u001b[32mUsing official model (PP-OCRv5_server_det), the model files will be automatically downloaded and saved in /Users/khangnghiem/.paddlex/official_models.\u001b[0m\n",
      "/Users/khangnghiem/hcmus/.venv/lib/python3.12/site-packages/paddle/utils/cpp_extension/extension_utils.py:715: UserWarning: No ccache found. Please be aware that recompiling all source files may be required. You can download and install ccache from: https://github.com/ccache/ccache/blob/master/doc/INSTALL.md\n",
      "  warnings.warn(warning_message)\n",
      "\u001b[32mCreating model: ('PP-OCRv5_server_rec', None)\u001b[0m\n",
      "\u001b[32mUsing official model (PP-OCRv5_server_rec), the model files will be automatically downloaded and saved in /Users/khangnghiem/.paddlex/official_models.\u001b[0m\n"
     ]
    },
    {
     "ename": "",
     "evalue": "",
     "output_type": "error",
     "traceback": [
      "\u001b[1;31mThe Kernel crashed while executing code in the current cell or a previous cell. \n",
      "\u001b[1;31mPlease review the code in the cell(s) to identify a possible cause of the failure. \n",
      "\u001b[1;31mClick <a href='https://aka.ms/vscodeJupyterKernelCrash'>here</a> for more info. \n",
      "\u001b[1;31mView Jupyter <a href='command:jupyter.viewOutput'>log</a> for further details."
     ]
    }
   ],
   "source": [
    "from paddleocr import PaddleOCR\n",
    "\n",
    "paddle_ocr = PaddleOCR(\n",
    "    # ocr_version=\"PP-OCRv5\",\n",
    "    enable_mkldnn=False,  # Disables MKLDNN acceleration for CPU inference\n",
    "    use_doc_orientation_classify=False,  # Disables document orientation classification model via this parameter\n",
    "    use_doc_unwarping=False,  # Disables text image rectification model via this parameter\n",
    "    use_textline_orientation=False,  # Disables text line orientation classification model via this parameter\n",
    ")\n",
    "# ocr = PaddleOCR(lang=\"en\") # Uses English model by specifying language parameter\n",
    "# ocr = PaddleOCR(ocr_version=\"PP-OCRv4\") # Uses other PP-OCR versions via version parameter\n",
    "# ocr = PaddleOCR(device=\"gpu\") # Enables GPU acceleration for model inference via device parameter\n",
    "# ocr = PaddleOCR(\n",
    "#     text_detection_model_name=\"PP-OCRv5_mobile_det\",\n",
    "#     text_recognition_model_name=\"PP-OCRv5_mobile_rec\",\n",
    "#     use_doc_orientation_classify=False,\n",
    "#     use_doc_unwarping=False,\n",
    "#     use_textline_orientation=False,\n",
    "# ) # Switch to PP-OCRv5_mobile models\n",
    "# result = paddle_ocr.predict(\n",
    "#     \"/Users/khangnghiem/Library/CloudStorage/GoogleDrive-khangnghiem@gmail.com/My Drive/data/nlp/Hình ảnh các bia_T01.pdf\"\n",
    "# )\n",
    "result = paddle_ocr.predict(\"page_1.png\")\n",
    "for res in result:\n",
    "    res.print()\n",
    "    res.save_to_img(\"output\")\n",
    "    res.save_to_json(\"output\")"
   ]
  },
  {
   "cell_type": "code",
   "execution_count": 10,
   "id": "0a99542b",
   "metadata": {},
   "outputs": [
    {
     "name": "stderr",
     "output_type": "stream",
     "text": [
      "\u001b[32mCreating model: ('PP-OCRv5_server_det', None)\u001b[0m\n",
      "\u001b[32mUsing official model (PP-OCRv5_server_det), the model files will be automatically downloaded and saved in /Users/khangnghiem/.paddlex/official_models.\u001b[0m\n",
      "\u001b[32mCreating model: ('PP-OCRv5_server_rec', None)\u001b[0m\n",
      "\u001b[32mUsing official model (PP-OCRv5_server_rec), the model files will be automatically downloaded and saved in /Users/khangnghiem/.paddlex/official_models.\u001b[0m\n"
     ]
    },
    {
     "name": "stdout",
     "output_type": "stream",
     "text": [
      "../png/test_page_1.png\n"
     ]
    },
    {
     "ename": "",
     "evalue": "",
     "output_type": "error",
     "traceback": [
      "\u001b[1;31mThe Kernel crashed while executing code in the current cell or a previous cell. \n",
      "\u001b[1;31mPlease review the code in the cell(s) to identify a possible cause of the failure. \n",
      "\u001b[1;31mClick <a href='https://aka.ms/vscodeJupyterKernelCrash'>here</a> for more info. \n",
      "\u001b[1;31mView Jupyter <a href='command:jupyter.viewOutput'>log</a> for further details."
     ]
    }
   ],
   "source": [
    "from paddleocr import PaddleOCR\n",
    "from PIL import Image, ImageFilter\n",
    "\n",
    "# Initialize PaddleOCR instance\n",
    "ocr = PaddleOCR(\n",
    "    enable_mkldnn=False,  # Disables MKLDNN acceleration for CPU inference\n",
    "    use_doc_orientation_classify=False,\n",
    "    use_doc_unwarping=False,\n",
    "    use_textline_orientation=False,\n",
    ")\n",
    "\n",
    "img_path = \"../png/test_page_1.png\"\n",
    "# Run OCR inference on a sample image\n",
    "result = ocr.predict(img_path)\n",
    "print(result)\n",
    "# Visualize the results and save the JSON results\n",
    "for res in result:\n",
    "    print(res)\n",
    "    res.print()\n",
    "    res.save_to_img(\"output\")\n",
    "    res.save_to_json(\"output\")"
   ]
  }
 ],
 "metadata": {
  "kernelspec": {
   "display_name": ".venv",
   "language": "python",
   "name": "python3"
  },
  "language_info": {
   "codemirror_mode": {
    "name": "ipython",
    "version": 3
   },
   "file_extension": ".py",
   "mimetype": "text/x-python",
   "name": "python",
   "nbconvert_exporter": "python",
   "pygments_lexer": "ipython3",
   "version": "3.12.8"
  }
 },
 "nbformat": 4,
 "nbformat_minor": 5
}
