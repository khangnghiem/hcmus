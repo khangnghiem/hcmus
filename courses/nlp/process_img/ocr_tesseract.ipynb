{
 "cells": [
  {
   "cell_type": "code",
   "execution_count": 2,
   "id": "50cc6188",
   "metadata": {},
   "outputs": [],
   "source": [
    "import os\n",
    "import pytesseract\n",
    "from pdf2image import convert_from_path\n",
    "from PIL import Image, ImageFilter\n",
    "import shutil\n",
    "import sys\n",
    "import numpy as np\n",
    "from scipy.ndimage import binary_opening"
   ]
  },
  {
   "cell_type": "code",
   "execution_count": null,
   "id": "3c249fea",
   "metadata": {},
   "outputs": [
    {
     "data": {
      "text/plain": [
       "['page_1.png']"
      ]
     },
     "execution_count": 3,
     "metadata": {},
     "output_type": "execute_result"
    }
   ],
   "source": [
    "png_files = os.listdir(\"../png\")\n",
    "png_files\n",
    "# text = \"\"\n",
    "# for png_file in png_files:\n",
    "#     img = Image.open(png_file)\n",
    "#     text += pytesseract.image_to_string(img)\n",
    "\n",
    "# print(text)"
   ]
  }
 ],
 "metadata": {
  "kernelspec": {
   "display_name": ".venv",
   "language": "python",
   "name": "python3"
  },
  "language_info": {
   "codemirror_mode": {
    "name": "ipython",
    "version": 3
   },
   "file_extension": ".py",
   "mimetype": "text/x-python",
   "name": "python",
   "nbconvert_exporter": "python",
   "pygments_lexer": "ipython3",
   "version": "3.12.8"
  }
 },
 "nbformat": 4,
 "nbformat_minor": 5
}
