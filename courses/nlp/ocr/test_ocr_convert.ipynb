{
 "cells": [
  {
   "cell_type": "code",
   "execution_count": 1,
   "id": "50cc6188",
   "metadata": {},
   "outputs": [
    {
     "name": "stderr",
     "output_type": "stream",
     "text": [
      "/Users/khangnghiem/hcmus/.venv/lib/python3.12/site-packages/paddle/utils/cpp_extension/extension_utils.py:711: UserWarning: No ccache found. Please be aware that recompiling all source files may be required. You can download and install ccache from: https://github.com/ccache/ccache/blob/master/doc/INSTALL.md\n",
      "  warnings.warn(warning_message)\n"
     ]
    },
    {
     "name": "stdout",
     "output_type": "stream",
     "text": [
      "[2025/06/14 13:42:42] ppocr DEBUG: Namespace(help='==SUPPRESS==', use_gpu=False, use_xpu=False, use_npu=False, use_mlu=False, use_gcu=False, ir_optim=True, use_tensorrt=False, min_subgraph_size=15, precision='fp32', gpu_mem=500, gpu_id=0, image_dir=None, page_num=0, det_algorithm='DB', det_model_dir='/Users/khangnghiem/.paddleocr/whl/det/ch/ch_PP-OCRv4_det_infer', det_limit_side_len=960, det_limit_type='max', det_box_type='quad', det_db_thresh=0.3, det_db_box_thresh=0.6, det_db_unclip_ratio=1.5, max_batch_size=10, use_dilation=False, det_db_score_mode='fast', det_east_score_thresh=0.8, det_east_cover_thresh=0.1, det_east_nms_thresh=0.2, det_sast_score_thresh=0.5, det_sast_nms_thresh=0.2, det_pse_thresh=0, det_pse_box_thresh=0.85, det_pse_min_area=16, det_pse_scale=1, scales=[8, 16, 32], alpha=1.0, beta=1.0, fourier_degree=5, rec_algorithm='SVTR_LCNet', rec_model_dir='/Users/khangnghiem/.paddleocr/whl/rec/ch/ch_PP-OCRv4_rec_infer', rec_image_inverse=True, rec_image_shape='3, 48, 320', rec_batch_num=6, max_text_length=25, rec_char_dict_path='/Users/khangnghiem/hcmus/.venv/lib/python3.12/site-packages/paddleocr/ppocr/utils/ppocr_keys_v1.txt', use_space_char=True, vis_font_path='./doc/fonts/simfang.ttf', drop_score=0.5, e2e_algorithm='PGNet', e2e_model_dir=None, e2e_limit_side_len=768, e2e_limit_type='max', e2e_pgnet_score_thresh=0.5, e2e_char_dict_path='./ppocr/utils/ic15_dict.txt', e2e_pgnet_valid_set='totaltext', e2e_pgnet_mode='fast', use_angle_cls=False, cls_model_dir='/Users/khangnghiem/.paddleocr/whl/cls/ch_ppocr_mobile_v2.0_cls_infer', cls_image_shape='3, 48, 192', label_list=['0', '180'], cls_batch_num=6, cls_thresh=0.9, enable_mkldnn=False, cpu_threads=10, use_pdserving=False, warmup=False, sr_model_dir=None, sr_image_shape='3, 32, 128', sr_batch_num=1, draw_img_save_dir='./inference_results', save_crop_res=False, crop_res_save_dir='./output', use_mp=False, total_process_num=1, process_id=0, benchmark=False, save_log_path='./log_output/', show_log=True, use_onnx=False, onnx_providers=False, onnx_sess_options=False, return_word_box=False, output='./output', table_max_len=488, table_algorithm='TableAttn', table_model_dir=None, merge_no_span_structure=True, table_char_dict_path=None, formula_algorithm='LaTeXOCR', formula_model_dir=None, formula_char_dict_path=None, formula_batch_num=1, layout_model_dir=None, layout_dict_path=None, layout_score_threshold=0.5, layout_nms_threshold=0.5, kie_algorithm='LayoutXLM', ser_model_dir=None, re_model_dir=None, use_visual_backbone=True, ser_dict_path='../train_data/XFUND/class_list_xfun.txt', ocr_order_method=None, mode='structure', image_orientation=False, layout=True, table=True, formula=False, ocr=True, recovery=False, recovery_to_markdown=False, use_pdf2docx_api=False, invert=False, binarize=False, alphacolor=(255, 255, 255), lang='ch', det=True, rec=True, type='ocr', savefile=False, ocr_version='PP-OCRv4', structure_version='PP-StructureV2', use_doc_orientation_classify=False, use_doc_unwarping=False, use_textline_orientation=False)\n",
      "[2025/06/14 13:42:43] ppocr WARNING: Since the angle classifier is not initialized, it will not be used during the forward process\n",
      "[2025/06/14 13:44:08] ppocr DEBUG: dt_boxes num : 13, elapsed : 0.7008581161499023\n",
      "[2025/06/14 13:44:09] ppocr DEBUG: rec_res num  : 13, elapsed : 1.4768900871276855\n",
      "[2025/06/14 13:44:10] ppocr DEBUG: dt_boxes num : 11, elapsed : 0.23590397834777832\n"
     ]
    },
    {
     "ename": "RuntimeError",
     "evalue": "(NotFound) No allocator found for the place, Place(undefined:0)\n  [Hint: Expected iter != allocators.end(), but received iter == allocators.end().] (at /Users/paddle/xly/workspace/7b5bf7ed-f223-4c37-9311-a1c9d604457b/Paddle/paddle/phi/core/memory/allocation/allocator_facade.cc:381)\n  [operator < matmul > error]",
     "output_type": "error",
     "traceback": [
      "\u001b[31m---------------------------------------------------------------------------\u001b[39m",
      "\u001b[31mRuntimeError\u001b[39m                              Traceback (most recent call last)",
      "\u001b[36mCell\u001b[39m\u001b[36m \u001b[39m\u001b[32mIn[1]\u001b[39m\u001b[32m, line 20\u001b[39m\n\u001b[32m      3\u001b[39m paddle_ocr = PaddleOCR(\n\u001b[32m      4\u001b[39m     \u001b[38;5;66;03m# ocr_version=\"PP-OCRv5\",\u001b[39;00m\n\u001b[32m      5\u001b[39m     use_gpu=\u001b[38;5;28;01mFalse\u001b[39;00m,\n\u001b[32m   (...)\u001b[39m\u001b[32m      8\u001b[39m     use_textline_orientation=\u001b[38;5;28;01mFalse\u001b[39;00m,  \u001b[38;5;66;03m# Disables text line orientation classification model via this parameter\u001b[39;00m\n\u001b[32m      9\u001b[39m )\n\u001b[32m     10\u001b[39m \u001b[38;5;66;03m# ocr = PaddleOCR(lang=\"en\") # Uses English model by specifying language parameter\u001b[39;00m\n\u001b[32m     11\u001b[39m \u001b[38;5;66;03m# ocr = PaddleOCR(ocr_version=\"PP-OCRv4\") # Uses other PP-OCR versions via version parameter\u001b[39;00m\n\u001b[32m     12\u001b[39m \u001b[38;5;66;03m# ocr = PaddleOCR(device=\"gpu\") # Enables GPU acceleration for model inference via device parameter\u001b[39;00m\n\u001b[32m   (...)\u001b[39m\u001b[32m     18\u001b[39m \u001b[38;5;66;03m#     use_textline_orientation=False,\u001b[39;00m\n\u001b[32m     19\u001b[39m \u001b[38;5;66;03m# ) # Switch to PP-OCRv5_mobile models\u001b[39;00m\n\u001b[32m---> \u001b[39m\u001b[32m20\u001b[39m result = \u001b[43mpaddle_ocr\u001b[49m\u001b[43m.\u001b[49m\u001b[43mocr\u001b[49m\u001b[43m(\u001b[49m\n\u001b[32m     21\u001b[39m \u001b[43m    \u001b[49m\u001b[33;43m\"\u001b[39;49m\u001b[33;43m/Users/khangnghiem/Library/CloudStorage/GoogleDrive-khangnghiem@gmail.com/My Drive/data/nlp/Hình ảnh các bia_T01.pdf\u001b[39;49m\u001b[33;43m\"\u001b[39;49m\n\u001b[32m     22\u001b[39m \u001b[43m)\u001b[49m\n\u001b[32m     23\u001b[39m \u001b[38;5;28;01mfor\u001b[39;00m res \u001b[38;5;129;01min\u001b[39;00m result:\n\u001b[32m     24\u001b[39m     res.print()\n",
      "\u001b[36mFile \u001b[39m\u001b[32m~/hcmus/.venv/lib/python3.12/site-packages/paddleocr/paddleocr.py:766\u001b[39m, in \u001b[36mPaddleOCR.ocr\u001b[39m\u001b[34m(self, img, det, rec, cls, bin, inv, alpha_color, slice)\u001b[39m\n\u001b[32m    764\u001b[39m \u001b[38;5;28;01mfor\u001b[39;00m img \u001b[38;5;129;01min\u001b[39;00m imgs:\n\u001b[32m    765\u001b[39m     img = preprocess_image(img)\n\u001b[32m--> \u001b[39m\u001b[32m766\u001b[39m     dt_boxes, rec_res, _ = \u001b[38;5;28;43mself\u001b[39;49m\u001b[43m.\u001b[49m\u001b[34;43m__call__\u001b[39;49m\u001b[43m(\u001b[49m\u001b[43mimg\u001b[49m\u001b[43m,\u001b[49m\u001b[43m \u001b[49m\u001b[38;5;28;43mcls\u001b[39;49m\u001b[43m,\u001b[49m\u001b[43m \u001b[49m\u001b[38;5;28;43mslice\u001b[39;49m\u001b[43m)\u001b[49m\n\u001b[32m    767\u001b[39m     \u001b[38;5;28;01mif\u001b[39;00m \u001b[38;5;129;01mnot\u001b[39;00m dt_boxes \u001b[38;5;129;01mand\u001b[39;00m \u001b[38;5;129;01mnot\u001b[39;00m rec_res:\n\u001b[32m    768\u001b[39m         ocr_res.append(\u001b[38;5;28;01mNone\u001b[39;00m)\n",
      "\u001b[36mFile \u001b[39m\u001b[32m~/hcmus/.venv/lib/python3.12/site-packages/paddleocr/tools/infer/predict_system.py:144\u001b[39m, in \u001b[36mTextSystem.__call__\u001b[39m\u001b[34m(self, img, cls, slice)\u001b[39m\n\u001b[32m    139\u001b[39m \u001b[38;5;28;01mif\u001b[39;00m \u001b[38;5;28mlen\u001b[39m(img_crop_list) > \u001b[32m1000\u001b[39m:\n\u001b[32m    140\u001b[39m     logger.debug(\n\u001b[32m    141\u001b[39m         \u001b[33mf\u001b[39m\u001b[33m\"\u001b[39m\u001b[33mrec crops num: \u001b[39m\u001b[38;5;132;01m{\u001b[39;00m\u001b[38;5;28mlen\u001b[39m(img_crop_list)\u001b[38;5;132;01m}\u001b[39;00m\u001b[33m, time and memory cost may be large.\u001b[39m\u001b[33m\"\u001b[39m\n\u001b[32m    142\u001b[39m     )\n\u001b[32m--> \u001b[39m\u001b[32m144\u001b[39m rec_res, elapse = \u001b[38;5;28;43mself\u001b[39;49m\u001b[43m.\u001b[49m\u001b[43mtext_recognizer\u001b[49m\u001b[43m(\u001b[49m\u001b[43mimg_crop_list\u001b[49m\u001b[43m)\u001b[49m\n\u001b[32m    145\u001b[39m time_dict[\u001b[33m\"\u001b[39m\u001b[33mrec\u001b[39m\u001b[33m\"\u001b[39m] = elapse\n\u001b[32m    146\u001b[39m logger.debug(\u001b[33m\"\u001b[39m\u001b[33mrec_res num  : \u001b[39m\u001b[38;5;132;01m{}\u001b[39;00m\u001b[33m, elapsed : \u001b[39m\u001b[38;5;132;01m{}\u001b[39;00m\u001b[33m\"\u001b[39m.format(\u001b[38;5;28mlen\u001b[39m(rec_res), elapse))\n",
      "\u001b[36mFile \u001b[39m\u001b[32m~/hcmus/.venv/lib/python3.12/site-packages/paddleocr/tools/infer/predict_rec.py:793\u001b[39m, in \u001b[36mTextRecognizer.__call__\u001b[39m\u001b[34m(self, img_list)\u001b[39m\n\u001b[32m    791\u001b[39m \u001b[38;5;28;01melse\u001b[39;00m:\n\u001b[32m    792\u001b[39m     \u001b[38;5;28mself\u001b[39m.input_tensor.copy_from_cpu(norm_img_batch)\n\u001b[32m--> \u001b[39m\u001b[32m793\u001b[39m     \u001b[38;5;28;43mself\u001b[39;49m\u001b[43m.\u001b[49m\u001b[43mpredictor\u001b[49m\u001b[43m.\u001b[49m\u001b[43mrun\u001b[49m\u001b[43m(\u001b[49m\u001b[43m)\u001b[49m\n\u001b[32m    794\u001b[39m     outputs = []\n\u001b[32m    795\u001b[39m     \u001b[38;5;28;01mfor\u001b[39;00m output_tensor \u001b[38;5;129;01min\u001b[39;00m \u001b[38;5;28mself\u001b[39m.output_tensors:\n",
      "\u001b[31mRuntimeError\u001b[39m: (NotFound) No allocator found for the place, Place(undefined:0)\n  [Hint: Expected iter != allocators.end(), but received iter == allocators.end().] (at /Users/paddle/xly/workspace/7b5bf7ed-f223-4c37-9311-a1c9d604457b/Paddle/paddle/phi/core/memory/allocation/allocator_facade.cc:381)\n  [operator < matmul > error]"
     ]
    }
   ],
   "source": [
    "from paddleocr import PaddleOCR\n",
    "\n",
    "paddle_ocr = PaddleOCR(\n",
    "    # ocr_version=\"PP-OCRv5\",\n",
    "    use_gpu=False,\n",
    "    use_doc_orientation_classify=False,  # Disables document orientation classification model via this parameter\n",
    "    use_doc_unwarping=False,  # Disables text image rectification model via this parameter\n",
    "    use_textline_orientation=False,  # Disables text line orientation classification model via this parameter\n",
    ")\n",
    "# ocr = PaddleOCR(lang=\"en\") # Uses English model by specifying language parameter\n",
    "# ocr = PaddleOCR(ocr_version=\"PP-OCRv4\") # Uses other PP-OCR versions via version parameter\n",
    "# ocr = PaddleOCR(device=\"gpu\") # Enables GPU acceleration for model inference via device parameter\n",
    "# ocr = PaddleOCR(\n",
    "#     text_detection_model_name=\"PP-OCRv5_mobile_det\",\n",
    "#     text_recognition_model_name=\"PP-OCRv5_mobile_rec\",\n",
    "#     use_doc_orientation_classify=False,\n",
    "#     use_doc_unwarping=False,\n",
    "#     use_textline_orientation=False,\n",
    "# ) # Switch to PP-OCRv5_mobile models\n",
    "result = paddle_ocr.ocr(\n",
    "    \"/Users/khangnghiem/Library/CloudStorage/GoogleDrive-khangnghiem@gmail.com/My Drive/data/nlp/Hình ảnh các bia_T01.pdf\"\n",
    ")\n",
    "for res in result:\n",
    "    res.print()\n",
    "    res.save_to_img(\"output\")\n",
    "    res.save_to_json(\"output\")"
   ]
  }
 ],
 "metadata": {
  "kernelspec": {
   "display_name": ".venv",
   "language": "python",
   "name": "python3"
  },
  "language_info": {
   "codemirror_mode": {
    "name": "ipython",
    "version": 3
   },
   "file_extension": ".py",
   "mimetype": "text/x-python",
   "name": "python",
   "nbconvert_exporter": "python",
   "pygments_lexer": "ipython3",
   "version": "3.12.8"
  }
 },
 "nbformat": 4,
 "nbformat_minor": 5
}
