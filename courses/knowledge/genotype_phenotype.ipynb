{
 "cells": [
  {
   "cell_type": "code",
   "execution_count": null,
   "id": "ccc40366",
   "metadata": {},
   "outputs": [
    {
     "name": "stdout",
     "output_type": "stream",
     "text": [
      "\n",
      "Parents: AaBbCc x AaBbCc\n",
      "\n",
      "Genotype Distribution:\n"
     ]
    },
    {
     "data": {
      "text/html": [
       "<div><style>\n",
       ".dataframe > thead > tr,\n",
       ".dataframe > tbody > tr {\n",
       "  text-align: right;\n",
       "  white-space: pre-wrap;\n",
       "}\n",
       "</style>\n",
       "<small>shape: (27, 2)</small><table border=\"1\" class=\"dataframe\"><thead><tr><th>Genotype</th><th>Probability</th></tr><tr><td>str</td><td>str</td></tr></thead><tbody><tr><td>&quot;AABBCC&quot;</td><td>&quot;1/64&quot;</td></tr><tr><td>&quot;AABBCc&quot;</td><td>&quot;1/32&quot;</td></tr><tr><td>&quot;AABbCC&quot;</td><td>&quot;1/32&quot;</td></tr><tr><td>&quot;AABbCc&quot;</td><td>&quot;1/16&quot;</td></tr><tr><td>&quot;AaBBCC&quot;</td><td>&quot;1/32&quot;</td></tr><tr><td>&hellip;</td><td>&hellip;</td></tr><tr><td>&quot;aaBBcc&quot;</td><td>&quot;1/64&quot;</td></tr><tr><td>&quot;aaBbcc&quot;</td><td>&quot;1/32&quot;</td></tr><tr><td>&quot;aabbCC&quot;</td><td>&quot;1/64&quot;</td></tr><tr><td>&quot;aabbCc&quot;</td><td>&quot;1/32&quot;</td></tr><tr><td>&quot;aabbcc&quot;</td><td>&quot;1/64&quot;</td></tr></tbody></table></div>"
      ],
      "text/plain": [
       "shape: (27, 2)\n",
       "┌──────────┬─────────────┐\n",
       "│ Genotype ┆ Probability │\n",
       "│ ---      ┆ ---         │\n",
       "│ str      ┆ str         │\n",
       "╞══════════╪═════════════╡\n",
       "│ AABBCC   ┆ 1/64        │\n",
       "│ AABBCc   ┆ 1/32        │\n",
       "│ AABbCC   ┆ 1/32        │\n",
       "│ AABbCc   ┆ 1/16        │\n",
       "│ AaBBCC   ┆ 1/32        │\n",
       "│ …        ┆ …           │\n",
       "│ aaBBcc   ┆ 1/64        │\n",
       "│ aaBbcc   ┆ 1/32        │\n",
       "│ aabbCC   ┆ 1/64        │\n",
       "│ aabbCc   ┆ 1/32        │\n",
       "│ aabbcc   ┆ 1/64        │\n",
       "└──────────┴─────────────┘"
      ]
     },
     "metadata": {},
     "output_type": "display_data"
    },
    {
     "name": "stdout",
     "output_type": "stream",
     "text": [
      "\n",
      "Phenotype Distribution:\n"
     ]
    },
    {
     "data": {
      "text/html": [
       "<div><style>\n",
       ".dataframe > thead > tr,\n",
       ".dataframe > tbody > tr {\n",
       "  text-align: right;\n",
       "  white-space: pre-wrap;\n",
       "}\n",
       "</style>\n",
       "<small>shape: (8, 2)</small><table border=\"1\" class=\"dataframe\"><thead><tr><th>Phenotype</th><th>Probability</th></tr><tr><td>str</td><td>str</td></tr></thead><tbody><tr><td>&quot;Hoa Đỏ Nụ Xanh Quả Vàng&quot;</td><td>&quot;27/64&quot;</td></tr><tr><td>&quot;Hoa Đỏ Nụ Xanh Quả Trắng&quot;</td><td>&quot;9/64&quot;</td></tr><tr><td>&quot;Hoa Đỏ Nụ Trắng Quả Vàng&quot;</td><td>&quot;9/64&quot;</td></tr><tr><td>&quot;Hoa Đỏ Nụ Trắng Quả Trắng&quot;</td><td>&quot;3/64&quot;</td></tr><tr><td>&quot;Hoa Trắng Nụ Xanh Quả Vàng&quot;</td><td>&quot;9/64&quot;</td></tr><tr><td>&quot;Hoa Trắng Nụ Xanh Quả Trắng&quot;</td><td>&quot;3/64&quot;</td></tr><tr><td>&quot;Hoa Trắng Nụ Trắng Quả Vàng&quot;</td><td>&quot;3/64&quot;</td></tr><tr><td>&quot;Hoa Trắng Nụ Trắng Quả Trắng&quot;</td><td>&quot;1/64&quot;</td></tr></tbody></table></div>"
      ],
      "text/plain": [
       "shape: (8, 2)\n",
       "┌──────────────────────────────┬─────────────┐\n",
       "│ Phenotype                    ┆ Probability │\n",
       "│ ---                          ┆ ---         │\n",
       "│ str                          ┆ str         │\n",
       "╞══════════════════════════════╪═════════════╡\n",
       "│ Hoa Đỏ Nụ Xanh Quả Vàng      ┆ 27/64       │\n",
       "│ Hoa Đỏ Nụ Xanh Quả Trắng     ┆ 9/64        │\n",
       "│ Hoa Đỏ Nụ Trắng Quả Vàng     ┆ 9/64        │\n",
       "│ Hoa Đỏ Nụ Trắng Quả Trắng    ┆ 3/64        │\n",
       "│ Hoa Trắng Nụ Xanh Quả Vàng   ┆ 9/64        │\n",
       "│ Hoa Trắng Nụ Xanh Quả Trắng  ┆ 3/64        │\n",
       "│ Hoa Trắng Nụ Trắng Quả Vàng  ┆ 3/64        │\n",
       "│ Hoa Trắng Nụ Trắng Quả Trắng ┆ 1/64        │\n",
       "└──────────────────────────────┴─────────────┘"
      ]
     },
     "metadata": {},
     "output_type": "display_data"
    },
    {
     "name": "stdout",
     "output_type": "stream",
     "text": [
      "\n",
      "Parents: Aa x Aa\n",
      "\n",
      "Genotype Distribution:\n"
     ]
    },
    {
     "data": {
      "text/html": [
       "<div><style>\n",
       ".dataframe > thead > tr,\n",
       ".dataframe > tbody > tr {\n",
       "  text-align: right;\n",
       "  white-space: pre-wrap;\n",
       "}\n",
       "</style>\n",
       "<small>shape: (3, 2)</small><table border=\"1\" class=\"dataframe\"><thead><tr><th>Genotype</th><th>Probability</th></tr><tr><td>str</td><td>str</td></tr></thead><tbody><tr><td>&quot;AA&quot;</td><td>&quot;1/4&quot;</td></tr><tr><td>&quot;Aa&quot;</td><td>&quot;1/2&quot;</td></tr><tr><td>&quot;aa&quot;</td><td>&quot;1/4&quot;</td></tr></tbody></table></div>"
      ],
      "text/plain": [
       "shape: (3, 2)\n",
       "┌──────────┬─────────────┐\n",
       "│ Genotype ┆ Probability │\n",
       "│ ---      ┆ ---         │\n",
       "│ str      ┆ str         │\n",
       "╞══════════╪═════════════╡\n",
       "│ AA       ┆ 1/4         │\n",
       "│ Aa       ┆ 1/2         │\n",
       "│ aa       ┆ 1/4         │\n",
       "└──────────┴─────────────┘"
      ]
     },
     "metadata": {},
     "output_type": "display_data"
    },
    {
     "name": "stdout",
     "output_type": "stream",
     "text": [
      "\n",
      "Phenotype Distribution:\n"
     ]
    },
    {
     "data": {
      "text/html": [
       "<div><style>\n",
       ".dataframe > thead > tr,\n",
       ".dataframe > tbody > tr {\n",
       "  text-align: right;\n",
       "  white-space: pre-wrap;\n",
       "}\n",
       "</style>\n",
       "<small>shape: (2, 2)</small><table border=\"1\" class=\"dataframe\"><thead><tr><th>Phenotype</th><th>Probability</th></tr><tr><td>str</td><td>str</td></tr></thead><tbody><tr><td>&quot;Hoa Đỏ&quot;</td><td>&quot;3/4&quot;</td></tr><tr><td>&quot;Hoa Trắng&quot;</td><td>&quot;1/4&quot;</td></tr></tbody></table></div>"
      ],
      "text/plain": [
       "shape: (2, 2)\n",
       "┌───────────┬─────────────┐\n",
       "│ Phenotype ┆ Probability │\n",
       "│ ---       ┆ ---         │\n",
       "│ str       ┆ str         │\n",
       "╞═══════════╪═════════════╡\n",
       "│ Hoa Đỏ    ┆ 3/4         │\n",
       "│ Hoa Trắng ┆ 1/4         │\n",
       "└───────────┴─────────────┘"
      ]
     },
     "metadata": {},
     "output_type": "display_data"
    },
    {
     "name": "stdout",
     "output_type": "stream",
     "text": [
      "\n",
      "Parents: AaBb x AaBb\n",
      "\n",
      "Genotype Distribution:\n"
     ]
    },
    {
     "data": {
      "text/html": [
       "<div><style>\n",
       ".dataframe > thead > tr,\n",
       ".dataframe > tbody > tr {\n",
       "  text-align: right;\n",
       "  white-space: pre-wrap;\n",
       "}\n",
       "</style>\n",
       "<small>shape: (9, 2)</small><table border=\"1\" class=\"dataframe\"><thead><tr><th>Genotype</th><th>Probability</th></tr><tr><td>str</td><td>str</td></tr></thead><tbody><tr><td>&quot;AABB&quot;</td><td>&quot;1/16&quot;</td></tr><tr><td>&quot;AABb&quot;</td><td>&quot;1/8&quot;</td></tr><tr><td>&quot;AaBB&quot;</td><td>&quot;1/8&quot;</td></tr><tr><td>&quot;AaBb&quot;</td><td>&quot;1/4&quot;</td></tr><tr><td>&quot;AAbb&quot;</td><td>&quot;1/16&quot;</td></tr><tr><td>&quot;Aabb&quot;</td><td>&quot;1/8&quot;</td></tr><tr><td>&quot;aaBB&quot;</td><td>&quot;1/16&quot;</td></tr><tr><td>&quot;aaBb&quot;</td><td>&quot;1/8&quot;</td></tr><tr><td>&quot;aabb&quot;</td><td>&quot;1/16&quot;</td></tr></tbody></table></div>"
      ],
      "text/plain": [
       "shape: (9, 2)\n",
       "┌──────────┬─────────────┐\n",
       "│ Genotype ┆ Probability │\n",
       "│ ---      ┆ ---         │\n",
       "│ str      ┆ str         │\n",
       "╞══════════╪═════════════╡\n",
       "│ AABB     ┆ 1/16        │\n",
       "│ AABb     ┆ 1/8         │\n",
       "│ AaBB     ┆ 1/8         │\n",
       "│ AaBb     ┆ 1/4         │\n",
       "│ AAbb     ┆ 1/16        │\n",
       "│ Aabb     ┆ 1/8         │\n",
       "│ aaBB     ┆ 1/16        │\n",
       "│ aaBb     ┆ 1/8         │\n",
       "│ aabb     ┆ 1/16        │\n",
       "└──────────┴─────────────┘"
      ]
     },
     "metadata": {},
     "output_type": "display_data"
    },
    {
     "name": "stdout",
     "output_type": "stream",
     "text": [
      "\n",
      "Phenotype Distribution:\n"
     ]
    },
    {
     "data": {
      "text/html": [
       "<div><style>\n",
       ".dataframe > thead > tr,\n",
       ".dataframe > tbody > tr {\n",
       "  text-align: right;\n",
       "  white-space: pre-wrap;\n",
       "}\n",
       "</style>\n",
       "<small>shape: (4, 2)</small><table border=\"1\" class=\"dataframe\"><thead><tr><th>Phenotype</th><th>Probability</th></tr><tr><td>str</td><td>str</td></tr></thead><tbody><tr><td>&quot;Hoa Đỏ Nụ Xanh&quot;</td><td>&quot;9/16&quot;</td></tr><tr><td>&quot;Hoa Đỏ Nụ Trắng&quot;</td><td>&quot;3/16&quot;</td></tr><tr><td>&quot;Hoa Trắng Nụ Xanh&quot;</td><td>&quot;3/16&quot;</td></tr><tr><td>&quot;Hoa Trắng Nụ Trắng&quot;</td><td>&quot;1/16&quot;</td></tr></tbody></table></div>"
      ],
      "text/plain": [
       "shape: (4, 2)\n",
       "┌────────────────────┬─────────────┐\n",
       "│ Phenotype          ┆ Probability │\n",
       "│ ---                ┆ ---         │\n",
       "│ str                ┆ str         │\n",
       "╞════════════════════╪═════════════╡\n",
       "│ Hoa Đỏ Nụ Xanh     ┆ 9/16        │\n",
       "│ Hoa Đỏ Nụ Trắng    ┆ 3/16        │\n",
       "│ Hoa Trắng Nụ Xanh  ┆ 3/16        │\n",
       "│ Hoa Trắng Nụ Trắng ┆ 1/16        │\n",
       "└────────────────────┴─────────────┘"
      ]
     },
     "metadata": {},
     "output_type": "display_data"
    },
    {
     "name": "stdout",
     "output_type": "stream",
     "text": [
      "\n",
      "Parents: AABB x aabb\n",
      "\n",
      "Genotype Distribution:\n"
     ]
    },
    {
     "data": {
      "text/html": [
       "<div><style>\n",
       ".dataframe > thead > tr,\n",
       ".dataframe > tbody > tr {\n",
       "  text-align: right;\n",
       "  white-space: pre-wrap;\n",
       "}\n",
       "</style>\n",
       "<small>shape: (1, 2)</small><table border=\"1\" class=\"dataframe\"><thead><tr><th>Genotype</th><th>Probability</th></tr><tr><td>str</td><td>str</td></tr></thead><tbody><tr><td>&quot;AaBb&quot;</td><td>&quot;1&quot;</td></tr></tbody></table></div>"
      ],
      "text/plain": [
       "shape: (1, 2)\n",
       "┌──────────┬─────────────┐\n",
       "│ Genotype ┆ Probability │\n",
       "│ ---      ┆ ---         │\n",
       "│ str      ┆ str         │\n",
       "╞══════════╪═════════════╡\n",
       "│ AaBb     ┆ 1           │\n",
       "└──────────┴─────────────┘"
      ]
     },
     "metadata": {},
     "output_type": "display_data"
    },
    {
     "name": "stdout",
     "output_type": "stream",
     "text": [
      "\n",
      "Phenotype Distribution:\n"
     ]
    },
    {
     "data": {
      "text/html": [
       "<div><style>\n",
       ".dataframe > thead > tr,\n",
       ".dataframe > tbody > tr {\n",
       "  text-align: right;\n",
       "  white-space: pre-wrap;\n",
       "}\n",
       "</style>\n",
       "<small>shape: (1, 2)</small><table border=\"1\" class=\"dataframe\"><thead><tr><th>Phenotype</th><th>Probability</th></tr><tr><td>str</td><td>str</td></tr></thead><tbody><tr><td>&quot;Hoa Đỏ Nụ Xanh&quot;</td><td>&quot;1&quot;</td></tr></tbody></table></div>"
      ],
      "text/plain": [
       "shape: (1, 2)\n",
       "┌────────────────┬─────────────┐\n",
       "│ Phenotype      ┆ Probability │\n",
       "│ ---            ┆ ---         │\n",
       "│ str            ┆ str         │\n",
       "╞════════════════╪═════════════╡\n",
       "│ Hoa Đỏ Nụ Xanh ┆ 1           │\n",
       "└────────────────┴─────────────┘"
      ]
     },
     "metadata": {},
     "output_type": "display_data"
    },
    {
     "name": "stdout",
     "output_type": "stream",
     "text": [
      "\n",
      "Parents: AaBB x aaBb\n",
      "\n",
      "Genotype Distribution:\n"
     ]
    },
    {
     "data": {
      "text/html": [
       "<div><style>\n",
       ".dataframe > thead > tr,\n",
       ".dataframe > tbody > tr {\n",
       "  text-align: right;\n",
       "  white-space: pre-wrap;\n",
       "}\n",
       "</style>\n",
       "<small>shape: (4, 2)</small><table border=\"1\" class=\"dataframe\"><thead><tr><th>Genotype</th><th>Probability</th></tr><tr><td>str</td><td>str</td></tr></thead><tbody><tr><td>&quot;AaBB&quot;</td><td>&quot;1/4&quot;</td></tr><tr><td>&quot;AaBb&quot;</td><td>&quot;1/4&quot;</td></tr><tr><td>&quot;aaBB&quot;</td><td>&quot;1/4&quot;</td></tr><tr><td>&quot;aaBb&quot;</td><td>&quot;1/4&quot;</td></tr></tbody></table></div>"
      ],
      "text/plain": [
       "shape: (4, 2)\n",
       "┌──────────┬─────────────┐\n",
       "│ Genotype ┆ Probability │\n",
       "│ ---      ┆ ---         │\n",
       "│ str      ┆ str         │\n",
       "╞══════════╪═════════════╡\n",
       "│ AaBB     ┆ 1/4         │\n",
       "│ AaBb     ┆ 1/4         │\n",
       "│ aaBB     ┆ 1/4         │\n",
       "│ aaBb     ┆ 1/4         │\n",
       "└──────────┴─────────────┘"
      ]
     },
     "metadata": {},
     "output_type": "display_data"
    },
    {
     "name": "stdout",
     "output_type": "stream",
     "text": [
      "\n",
      "Phenotype Distribution:\n"
     ]
    },
    {
     "data": {
      "text/html": [
       "<div><style>\n",
       ".dataframe > thead > tr,\n",
       ".dataframe > tbody > tr {\n",
       "  text-align: right;\n",
       "  white-space: pre-wrap;\n",
       "}\n",
       "</style>\n",
       "<small>shape: (2, 2)</small><table border=\"1\" class=\"dataframe\"><thead><tr><th>Phenotype</th><th>Probability</th></tr><tr><td>str</td><td>str</td></tr></thead><tbody><tr><td>&quot;Hoa Đỏ Nụ Xanh&quot;</td><td>&quot;1/2&quot;</td></tr><tr><td>&quot;Hoa Trắng Nụ Xanh&quot;</td><td>&quot;1/2&quot;</td></tr></tbody></table></div>"
      ],
      "text/plain": [
       "shape: (2, 2)\n",
       "┌───────────────────┬─────────────┐\n",
       "│ Phenotype         ┆ Probability │\n",
       "│ ---               ┆ ---         │\n",
       "│ str               ┆ str         │\n",
       "╞═══════════════════╪═════════════╡\n",
       "│ Hoa Đỏ Nụ Xanh    ┆ 1/2         │\n",
       "│ Hoa Trắng Nụ Xanh ┆ 1/2         │\n",
       "└───────────────────┴─────────────┘"
      ]
     },
     "metadata": {},
     "output_type": "display_data"
    },
    {
     "name": "stdout",
     "output_type": "stream",
     "text": [
      "\n",
      "Parents: AaBb x Aabb\n",
      "\n",
      "Genotype Distribution:\n"
     ]
    },
    {
     "data": {
      "text/html": [
       "<div><style>\n",
       ".dataframe > thead > tr,\n",
       ".dataframe > tbody > tr {\n",
       "  text-align: right;\n",
       "  white-space: pre-wrap;\n",
       "}\n",
       "</style>\n",
       "<small>shape: (6, 2)</small><table border=\"1\" class=\"dataframe\"><thead><tr><th>Genotype</th><th>Probability</th></tr><tr><td>str</td><td>str</td></tr></thead><tbody><tr><td>&quot;AABb&quot;</td><td>&quot;1/8&quot;</td></tr><tr><td>&quot;AaBb&quot;</td><td>&quot;1/4&quot;</td></tr><tr><td>&quot;AAbb&quot;</td><td>&quot;1/8&quot;</td></tr><tr><td>&quot;Aabb&quot;</td><td>&quot;1/4&quot;</td></tr><tr><td>&quot;aaBb&quot;</td><td>&quot;1/8&quot;</td></tr><tr><td>&quot;aabb&quot;</td><td>&quot;1/8&quot;</td></tr></tbody></table></div>"
      ],
      "text/plain": [
       "shape: (6, 2)\n",
       "┌──────────┬─────────────┐\n",
       "│ Genotype ┆ Probability │\n",
       "│ ---      ┆ ---         │\n",
       "│ str      ┆ str         │\n",
       "╞══════════╪═════════════╡\n",
       "│ AABb     ┆ 1/8         │\n",
       "│ AaBb     ┆ 1/4         │\n",
       "│ AAbb     ┆ 1/8         │\n",
       "│ Aabb     ┆ 1/4         │\n",
       "│ aaBb     ┆ 1/8         │\n",
       "│ aabb     ┆ 1/8         │\n",
       "└──────────┴─────────────┘"
      ]
     },
     "metadata": {},
     "output_type": "display_data"
    },
    {
     "name": "stdout",
     "output_type": "stream",
     "text": [
      "\n",
      "Phenotype Distribution:\n"
     ]
    },
    {
     "data": {
      "text/html": [
       "<div><style>\n",
       ".dataframe > thead > tr,\n",
       ".dataframe > tbody > tr {\n",
       "  text-align: right;\n",
       "  white-space: pre-wrap;\n",
       "}\n",
       "</style>\n",
       "<small>shape: (4, 2)</small><table border=\"1\" class=\"dataframe\"><thead><tr><th>Phenotype</th><th>Probability</th></tr><tr><td>str</td><td>str</td></tr></thead><tbody><tr><td>&quot;Hoa Đỏ Nụ Xanh&quot;</td><td>&quot;3/8&quot;</td></tr><tr><td>&quot;Hoa Đỏ Nụ Trắng&quot;</td><td>&quot;3/8&quot;</td></tr><tr><td>&quot;Hoa Trắng Nụ Xanh&quot;</td><td>&quot;1/8&quot;</td></tr><tr><td>&quot;Hoa Trắng Nụ Trắng&quot;</td><td>&quot;1/8&quot;</td></tr></tbody></table></div>"
      ],
      "text/plain": [
       "shape: (4, 2)\n",
       "┌────────────────────┬─────────────┐\n",
       "│ Phenotype          ┆ Probability │\n",
       "│ ---                ┆ ---         │\n",
       "│ str                ┆ str         │\n",
       "╞════════════════════╪═════════════╡\n",
       "│ Hoa Đỏ Nụ Xanh     ┆ 3/8         │\n",
       "│ Hoa Đỏ Nụ Trắng    ┆ 3/8         │\n",
       "│ Hoa Trắng Nụ Xanh  ┆ 1/8         │\n",
       "│ Hoa Trắng Nụ Trắng ┆ 1/8         │\n",
       "└────────────────────┴─────────────┘"
      ]
     },
     "metadata": {},
     "output_type": "display_data"
    }
   ],
   "source": [
    "import polars as pl\n",
    "import itertools\n",
    "from fractions import Fraction\n",
    "\n",
    "\n",
    "def calculate_genotypes(parent1, parent2):\n",
    "    gene_pairs1 = [parent1[i : i + 2] for i in range(0, len(parent1), 2)]\n",
    "    gene_pairs2 = [parent2[i : i + 2] for i in range(0, len(parent2), 2)]\n",
    "    gametes1 = [list(pair) for pair in gene_pairs1]\n",
    "    gametes2 = [list(pair) for pair in gene_pairs2]\n",
    "    parent1_gametes = list(itertools.product(*gametes1))\n",
    "    parent2_gametes = list(itertools.product(*gametes2))\n",
    "    genotype_counts = {}\n",
    "    total = 0\n",
    "    for g1 in parent1_gametes:\n",
    "        for g2 in parent2_gametes:\n",
    "            genotype = \"\".join(\"\".join(sorted([a1, a2])) for a1, a2 in zip(g1, g2))\n",
    "            genotype_counts[genotype] = genotype_counts.get(genotype, 0) + 1\n",
    "            total += 1\n",
    "    return {k: Fraction(v, total) for k, v in genotype_counts.items()}\n",
    "\n",
    "\n",
    "def calculate_phenotypes(genotype_dist, dominance_map):\n",
    "    phenotype_counts = {}\n",
    "    for genotype, prob in genotype_dist.items():\n",
    "        phenotype = []\n",
    "        for i in range(0, len(genotype), 2):\n",
    "            gene_pair = genotype[i : i + 2]\n",
    "            if gene_pair[0].isupper():\n",
    "                phenotype.append(dominance_map[gene_pair[0].upper()])\n",
    "            else:\n",
    "                phenotype.append(dominance_map[gene_pair[0]])\n",
    "        phenotype_key = \" \".join(phenotype)\n",
    "        phenotype_counts[phenotype_key] = (\n",
    "            phenotype_counts.get(phenotype_key, Fraction(0)) + prob\n",
    "        )\n",
    "    return phenotype_counts\n",
    "\n",
    "\n",
    "dominance_map = {\n",
    "    \"A\": \"Hoa Đỏ\",\n",
    "    \"a\": \"Hoa Trắng\",\n",
    "    \"B\": \"Nụ Xanh\",\n",
    "    \"b\": \"Nụ Trắng\",\n",
    "    \"C\": \"Quả Vàng\",\n",
    "    \"c\": \"Quả Trắng\",\n",
    "}\n",
    "\n",
    "\n",
    "# Example 0: Aa x Aa\n",
    "parent1_ex0 = \"Aa\"\n",
    "parent2_ex0 = \"Aa\"\n",
    "genotype_dist_ex0 = calculate_genotypes(parent1_ex0, parent2_ex0)\n",
    "phenotype_dist_ex0 = calculate_phenotypes(genotype_dist_ex0, dominance_map)\n",
    "\n",
    "# Example 1: AaBb x AaBb\n",
    "parent1_ex1 = \"AaBb\"\n",
    "parent2_ex1 = \"AaBb\"\n",
    "genotype_dist_ex1 = calculate_genotypes(parent1_ex1, parent2_ex1)\n",
    "phenotype_dist_ex1 = calculate_phenotypes(genotype_dist_ex1, dominance_map)\n",
    "\n",
    "# Example 2: AABB x aabb\n",
    "parent1_ex2 = \"AABB\"\n",
    "parent2_ex2 = \"aabb\"\n",
    "genotype_dist_ex2 = calculate_genotypes(parent1_ex2, parent2_ex2)\n",
    "phenotype_dist_ex2 = calculate_phenotypes(genotype_dist_ex2, dominance_map)\n",
    "\n",
    "# Example 3: AaBB x aaBb\n",
    "parent1_ex3 = \"AaBB\"\n",
    "parent2_ex3 = \"aaBb\"\n",
    "genotype_dist_ex3 = calculate_genotypes(parent1_ex3, parent2_ex3)\n",
    "phenotype_dist_ex3 = calculate_phenotypes(genotype_dist_ex3, dominance_map)\n",
    "\n",
    "# Example 4: AaBb x Aabb\n",
    "parent1_ex4 = \"AaBb\"\n",
    "parent2_ex4 = \"Aabb\"\n",
    "genotype_dist_ex4 = calculate_genotypes(parent1_ex4, parent2_ex4)\n",
    "phenotype_dist_ex4 = calculate_phenotypes(genotype_dist_ex4, dominance_map)\n",
    "\n",
    "# Example 5: AaBbCc x AaBbCc\n",
    "parent1_ex5 = \"AaBbCc\"\n",
    "parent2_ex5 = \"AaBbCc\"\n",
    "genotype_dist_ex5 = calculate_genotypes(parent1_ex5, parent2_ex5)\n",
    "phenotype_dist_ex5 = calculate_phenotypes(genotype_dist_ex5, dominance_map)\n",
    "\n",
    "\n",
    "def dist_to_df(genotype_dist, phenotype_dist):\n",
    "    # Convert genotype and phenotype distributions to Polars DataFrames\n",
    "    geno_df = pl.DataFrame(\n",
    "        {\n",
    "            \"Genotype\": list(genotype_dist.keys()),\n",
    "            \"Probability\": [str(p) for p in genotype_dist.values()],\n",
    "        }\n",
    "    )\n",
    "    pheno_df = pl.DataFrame(\n",
    "        {\n",
    "            \"Phenotype\": list(phenotype_dist.keys()),\n",
    "            \"Probability\": [str(p) for p in phenotype_dist.values()],\n",
    "        }\n",
    "    )\n",
    "    return geno_df, pheno_df\n",
    "\n",
    "\n",
    "def show_demo_table(parent1, parent2, genotype_dist, phenotype_dist):\n",
    "    print(f\"\\nParents: {parent1} x {parent2}\")\n",
    "    geno_df, pheno_df = dist_to_df(genotype_dist, phenotype_dist)\n",
    "    print(\"\\nGenotype Distribution:\")\n",
    "    display(geno_df)\n",
    "    print(\"\\nPhenotype Distribution:\")\n",
    "    display(pheno_df)\n",
    "\n",
    "\n",
    "# Demo tables for all examples\n",
    "show_demo_table(parent1_ex5, parent2_ex5, genotype_dist_ex5, phenotype_dist_ex5)\n",
    "show_demo_table(parent1_ex0, parent2_ex0, genotype_dist_ex0, phenotype_dist_ex0)\n",
    "show_demo_table(parent1_ex1, parent2_ex1, genotype_dist_ex1, phenotype_dist_ex1)\n",
    "show_demo_table(parent1_ex2, parent2_ex2, genotype_dist_ex2, phenotype_dist_ex2)\n",
    "show_demo_table(parent1_ex3, parent2_ex3, genotype_dist_ex3, phenotype_dist_ex3)\n",
    "show_demo_table(parent1_ex4, parent2_ex4, genotype_dist_ex4, phenotype_dist_ex4)"
   ]
  }
 ],
 "metadata": {
  "kernelspec": {
   "display_name": ".venv",
   "language": "python",
   "name": "python3"
  },
  "language_info": {
   "codemirror_mode": {
    "name": "ipython",
    "version": 3
   },
   "file_extension": ".py",
   "mimetype": "text/x-python",
   "name": "python",
   "nbconvert_exporter": "python",
   "pygments_lexer": "ipython3",
   "version": "3.12.8"
  }
 },
 "nbformat": 4,
 "nbformat_minor": 5
}
