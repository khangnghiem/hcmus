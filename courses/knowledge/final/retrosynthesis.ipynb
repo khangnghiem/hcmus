{
 "cells": [
  {
   "cell_type": "code",
   "execution_count": null,
   "id": "75f55f12",
   "metadata": {},
   "outputs": [],
   "source": [
    "from rdkit import Chem\n",
    "from rdkit import RDLogger\n",
    "from rdkit.Chem import AllChem\n",
    "\n",
    "# RDLogger.DisableLog('rdApp.*')  # silence RDKit\n",
    "\n",
    "\n",
    "def mol_from_smiles(smiles):\n",
    "    return Chem.MolFromSmiles(smiles)\n",
    "\n",
    "\n",
    "mol = mol_from_smiles(\"CCO\")"
   ]
  },
  {
   "cell_type": "code",
   "execution_count": null,
   "id": "81188b98",
   "metadata": {},
   "outputs": [
    {
     "ename": "AttributeError",
     "evalue": "module 'rdkit.Chem.AllChem' has no attribute 'ReactionFromSmiles'",
     "output_type": "error",
     "traceback": [
      "\u001b[31m---------------------------------------------------------------------------\u001b[39m",
      "\u001b[31mAttributeError\u001b[39m                            Traceback (most recent call last)",
      "\u001b[36mCell\u001b[39m\u001b[36m \u001b[39m\u001b[32mIn[14]\u001b[39m\u001b[32m, line 3\u001b[39m\n\u001b[32m      1\u001b[39m \u001b[38;5;66;03m# rxn = AllChem.ReactionFromSmarts('[C:1](=O)[O:2][C:3]>>[C:1](=O)[O-].[C:3][OH]')\u001b[39;00m\n\u001b[32m      2\u001b[39m \u001b[38;5;66;03m# rxn = AllChem.ReactionFromSmarts('2Na.[Cl][Cl]>>2NaCl')\u001b[39;00m\n\u001b[32m----> \u001b[39m\u001b[32m3\u001b[39m rxn = \u001b[43mAllChem\u001b[49m\u001b[43m.\u001b[49m\u001b[43mReactionFromSmiles\u001b[49m(\u001b[33m'\u001b[39m\u001b[33m2Na + [Cl][Cl] -> 2NaCl\u001b[39m\u001b[33m'\u001b[39m)\n",
      "\u001b[31mAttributeError\u001b[39m: module 'rdkit.Chem.AllChem' has no attribute 'ReactionFromSmiles'"
     ]
    }
   ],
   "source": [
    "# rxn = AllChem.ReactionFromSmarts('[C:1](=O)[O:2][C:3]>>[C:1](=O)[O-].[C:3][OH]')\n",
    "rxn = AllChem.ReactionFromSmarts('2Na.[Cl][Cl]>>2NaCl')\n",
    "\n",
    "\n",
    "def run_reaction(mol, rxn):\n",
    "    products = rxn.RunReactants((mol,))\n",
    "    return [Chem.MolToSmiles(prod[0]) for prod in products]"
   ]
  },
  {
   "cell_type": "code",
   "execution_count": 22,
   "id": "df4018b1",
   "metadata": {},
   "outputs": [
    {
     "ename": "RuntimeError",
     "evalue": "Pre-condition Violation\n\tnull SMARTS string\n\tViolation occurred on line 302 in file Code/GraphMol/ChemReactions/Wrap/rdChemReactions.cpp\n\tFailed Expression: smarts\n\tRDKIT: 2025.03.3\n\tBOOST: 1_85\n",
     "output_type": "error",
     "traceback": [
      "\u001b[31m---------------------------------------------------------------------------\u001b[39m",
      "\u001b[31mRuntimeError\u001b[39m                              Traceback (most recent call last)",
      "\u001b[36mCell\u001b[39m\u001b[36m \u001b[39m\u001b[32mIn[22]\u001b[39m\u001b[32m, line 1\u001b[39m\n\u001b[32m----> \u001b[39m\u001b[32m1\u001b[39m \u001b[43mAllChem\u001b[49m\u001b[43m.\u001b[49m\u001b[43mReactionFromSmarts\u001b[49m\u001b[43m(\u001b[49m\u001b[43mChem\u001b[49m\u001b[43m.\u001b[49m\u001b[43mMolFromSmiles\u001b[49m\u001b[43m(\u001b[49m\u001b[33;43m'\u001b[39;49m\u001b[33;43m[Na].[Cl][Cl]>>[Na+].[Cl-]\u001b[39;49m\u001b[33;43m'\u001b[39;49m\u001b[43m)\u001b[49m\u001b[43m)\u001b[49m\n",
      "\u001b[31mRuntimeError\u001b[39m: Pre-condition Violation\n\tnull SMARTS string\n\tViolation occurred on line 302 in file Code/GraphMol/ChemReactions/Wrap/rdChemReactions.cpp\n\tFailed Expression: smarts\n\tRDKIT: 2025.03.3\n\tBOOST: 1_85\n"
     ]
    }
   ],
   "source": [
    "AllChem.ReactionFromSmarts(Chem.MolFromSmiles('[Na].[Cl][Cl]>>[Na+].[Cl-]'))"
   ]
  },
  {
   "cell_type": "code",
   "execution_count": 9,
   "id": "a27459e9",
   "metadata": {},
   "outputs": [
    {
     "data": {
      "image/png": "[encoded data removed]",
      "text/plain": [
       "<rdkit.Chem.rdChemReactions.ChemicalReaction at 0x10fe62030>"
      ]
     },
     "execution_count": 9,
     "metadata": {},
     "output_type": "execute_result"
    }
   ],
   "source": [
    "rxn"
   ]
  },
  {
   "cell_type": "code",
   "execution_count": null,
   "id": "f44c8e13",
   "metadata": {},
   "outputs": [],
   "source": [
    "def retrosynthesis(target_smiles, reactant_pool, reaction_rules, max_depth=5):\n",
    "    from collections import deque\n",
    "\n",
    "    visited = set()\n",
    "    queue = deque()\n",
    "    queue.append((target_smiles, []))  # (current molecule, path)\n",
    "\n",
    "    for depth in range(max_depth):\n",
    "        next_queue = deque()\n",
    "        while queue:\n",
    "            mol_smiles, path = queue.popleft()\n",
    "            if mol_smiles in reactant_pool:\n",
    "                return path + [(mol_smiles, None)]  # Found a match\n",
    "            if mol_smiles in visited:\n",
    "                continue\n",
    "            visited.add(mol_smiles)\n",
    "\n",
    "            mol = Chem.MolFromSmiles(mol_smiles)\n",
    "            for rule in reaction_rules:\n",
    "                try:\n",
    "                    products = rule.RunReactants((mol,))\n",
    "                    for prod_tuple in products:\n",
    "                        for prod in prod_tuple:\n",
    "                            new_smiles = Chem.MolToSmiles(prod, isomericSmiles=True)\n",
    "                            next_queue.append((new_smiles, path + [(mol_smiles, rule)]))\n",
    "                except:\n",
    "                    continue\n",
    "        queue = next_queue\n",
    "    return None"
   ]
  },
  {
   "cell_type": "code",
   "execution_count": 4,
   "id": "05efa7f7",
   "metadata": {},
   "outputs": [
    {
     "ename": "NameError",
     "evalue": "name 'AllChem' is not defined",
     "output_type": "error",
     "traceback": [
      "\u001b[31m---------------------------------------------------------------------------\u001b[39m",
      "\u001b[31mNameError\u001b[39m                                 Traceback (most recent call last)",
      "\u001b[36mCell\u001b[39m\u001b[36m \u001b[39m\u001b[32mIn[4]\u001b[39m\u001b[32m, line 4\u001b[39m\n\u001b[32m      1\u001b[39m target = \u001b[33m'\u001b[39m\u001b[33mCC(=O)OC\u001b[39m\u001b[33m'\u001b[39m  \u001b[38;5;66;03m# Methyl acetate\u001b[39;00m\n\u001b[32m      2\u001b[39m reactants = \u001b[38;5;28mset\u001b[39m([\u001b[33m'\u001b[39m\u001b[33mCC(=O)O\u001b[39m\u001b[33m'\u001b[39m, \u001b[33m'\u001b[39m\u001b[33mCO\u001b[39m\u001b[33m'\u001b[39m])  \u001b[38;5;66;03m# Acetic acid and methanol\u001b[39;00m\n\u001b[32m----> \u001b[39m\u001b[32m4\u001b[39m reaction_rules = [\u001b[43mAllChem\u001b[49m.ReactionFromSmarts(\u001b[33m'\u001b[39m\u001b[33m[C:1](=O)[O:2][C:3]>>[C:1](=O)[O-].[C:3][OH]\u001b[39m\u001b[33m'\u001b[39m)]\n\u001b[32m      6\u001b[39m path = retrosynthesis(target, reactants, reaction_rules)\n\u001b[32m      7\u001b[39m \u001b[38;5;28;01mif\u001b[39;00m path:\n",
      "\u001b[31mNameError\u001b[39m: name 'AllChem' is not defined"
     ]
    }
   ],
   "source": [
    "target = 'CC(=O)OC'  # Methyl acetate\n",
    "reactants = set(['CC(=O)O', 'CO'])  # Acetic acid and methanol\n",
    "\n",
    "reaction_rules = [AllChem.ReactionFromSmarts('[C:1](=O)[O:2][C:3]>>[C:1](=O)[O-].[C:3][OH]')]\n",
    "\n",
    "path = retrosynthesis(target, reactants, reaction_rules)\n",
    "if path:\n",
    "    for step in path:\n",
    "        print(step)\n",
    "else:\n",
    "    print(\"No path found\")"
   ]
  }
 ],
 "metadata": {
  "kernelspec": {
   "display_name": "hcmus",
   "language": "python",
   "name": "python3"
  },
  "language_info": {
   "codemirror_mode": {
    "name": "ipython",
    "version": 3
   },
   "file_extension": ".py",
   "mimetype": "text/x-python",
   "name": "python",
   "nbconvert_exporter": "python",
   "pygments_lexer": "ipython3",
   "version": "3.12.8"
  }
 },
 "nbformat": 4,
 "nbformat_minor": 5
}
