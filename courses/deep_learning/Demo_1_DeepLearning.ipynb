{
  "cells": [
    {
      "cell_type": "markdown",
      "metadata": {
        "id": "reXlp2wVTo-I"
      },
      "source": [
        "# Deep learning with AlexNet and cifar10"
      ]
    },
    {
      "cell_type": "markdown",
      "metadata": {
        "id": "fwlEKcyCT6Zt"
      },
      "source": [
        "cifar10 (https://www.cs.toronto.edu/~kriz/cifar.html) consists of 60,000 32x32 colour images in 10 classes, with 6,000 images per class. There are 50,000 training images and 10,000 test images. Here follow the ten object classes:\n",
        "* airplane\n",
        "*\tautomobile\n",
        "*\tbird\n",
        "*\tcat\n",
        "*\tdeer\n",
        "*\tdog\n",
        "*\tfrog\n",
        "*\thorse\n",
        "*\tship\n",
        "*\ttruck\n",
        "\n",
        "Here follows some data samples in the dataset:\n",
        "\n",
        "![alt text](https://docs.pytorch.org/tutorials/_images/cifar10.png)"
      ]
    },
    {
      "cell_type": "code",
      "execution_count": 1,
      "metadata": {
        "id": "Gh1ZVWaBTUxH"
      },
      "outputs": [
        {
          "ename": "",
          "evalue": "",
          "output_type": "error",
          "traceback": [
            "\u001b[1;31mThe Kernel crashed while executing code in the current cell or a previous cell. \n",
            "\u001b[1;31mPlease review the code in the cell(s) to identify a possible cause of the failure. \n",
            "\u001b[1;31mClick <a href='https://aka.ms/vscodeJupyterKernelCrash'>here</a> for more info. \n",
            "\u001b[1;31mView Jupyter <a href='command:jupyter.viewOutput'>log</a> for further details."
          ]
        }
      ],
      "source": [
        "# Import libraries\n",
        "import numpy as np\n",
        "import tensorflow as tf\n",
        "import keras  # Keras is the high-level API of TensorFlow"
      ]
    },
    {
      "cell_type": "code",
      "execution_count": 1,
      "metadata": {
        "colab": {
          "base_uri": "https://localhost:8080/"
        },
        "id": "ChmmXQ3wTgUs",
        "outputId": "4d8f3f29-6ed7-4ebf-8e30-a00802352cbb"
      },
      "outputs": [
        {
          "ename": "NameError",
          "evalue": "name 'tf' is not defined",
          "output_type": "error",
          "traceback": [
            "\u001b[31m---------------------------------------------------------------------------\u001b[39m",
            "\u001b[31mNameError\u001b[39m                                 Traceback (most recent call last)",
            "\u001b[36mCell\u001b[39m\u001b[36m \u001b[39m\u001b[32mIn[1]\u001b[39m\u001b[32m, line 2\u001b[39m\n\u001b[32m      1\u001b[39m \u001b[38;5;66;03m# Load the cifar10 dataset and split train/test\u001b[39;00m\n\u001b[32m----> \u001b[39m\u001b[32m2\u001b[39m (X_train, y_train), (X_test, y_test) = \u001b[43mtf\u001b[49m.keras.datasets.cifar10.load_data()\n\u001b[32m      4\u001b[39m \u001b[38;5;28mprint\u001b[39m(\u001b[33m\"\u001b[39m\u001b[33mTrain shape: X_train = \u001b[39m\u001b[33m\"\u001b[39m + \u001b[38;5;28mstr\u001b[39m(X_train.shape) + \u001b[33m\"\u001b[39m\u001b[33m, y_train = \u001b[39m\u001b[33m\"\u001b[39m + \u001b[38;5;28mstr\u001b[39m(y_train.shape))\n\u001b[32m      5\u001b[39m \u001b[38;5;28mprint\u001b[39m(\u001b[33m\"\u001b[39m\u001b[33mTest shape: X_test = \u001b[39m\u001b[33m\"\u001b[39m + \u001b[38;5;28mstr\u001b[39m(X_test.shape) + \u001b[33m\"\u001b[39m\u001b[33m, y_test = \u001b[39m\u001b[33m\"\u001b[39m + \u001b[38;5;28mstr\u001b[39m(y_test.shape))\n",
            "\u001b[31mNameError\u001b[39m: name 'tf' is not defined"
          ]
        }
      ],
      "source": [
        "# Load the cifar10 dataset and split train/test\n",
        "(X_train, y_train), (X_test, y_test) = tf.keras.datasets.cifar10.load_data()\n",
        "\n",
        "print(\"Train shape: X_train = \" + str(X_train.shape) + \", y_train = \" + str(y_train.shape))\n",
        "print(\"Test shape: X_test = \" + str(X_test.shape) + \", y_test = \" + str(y_test.shape))"
      ]
    },
    {
      "cell_type": "code",
      "execution_count": null,
      "metadata": {
        "colab": {
          "base_uri": "https://localhost:8080/",
          "height": 515
        },
        "id": "T7K3BNmRUSy1",
        "outputId": "409b7004-6655-4883-af79-2455666c33bd"
      },
      "outputs": [
        {
          "data": {
            "image/png": "[encoded data removed]",
            "text/plain": [
              "<Figure size 432x288 with 1 Axes>"
            ]
          },
          "metadata": {
            "needs_background": "light"
          },
          "output_type": "display_data"
        },
        {
          "data": {
            "image/png": "[encoded data removed]",
            "text/plain": [
              "<Figure size 432x288 with 1 Axes>"
            ]
          },
          "metadata": {
            "needs_background": "light"
          },
          "output_type": "display_data"
        }
      ],
      "source": [
        "# Show some samples in the dataset\n",
        "import matplotlib.pyplot as plt\n",
        "\n",
        "imgplot = plt.imshow(X_train[5])\n",
        "plt.show()\n",
        "imgplot = plt.imshow(X_test[10])\n",
        "plt.show()"
      ]
    },
    {
      "cell_type": "code",
      "execution_count": null,
      "metadata": {
        "id": "HPbw0rbgBFyb"
      },
      "outputs": [],
      "source": [
        "# Normalize pixel values\n",
        "X_train, X_test = X_train / 255.0, X_test / 255.0"
      ]
    },
    {
      "cell_type": "code",
      "execution_count": null,
      "metadata": {
        "colab": {
          "base_uri": "https://localhost:8080/"
        },
        "id": "619lpoesBSdc",
        "outputId": "b3e7031b-b5b3-483a-8034-e053c4077682"
      },
      "outputs": [
        {
          "name": "stdout",
          "output_type": "stream",
          "text": [
            "Train shape: X_train = (45000, 32, 32, 3), y_train = (45000, 1)\n",
            "Val shape: X_val = (5000, 32, 32, 3), y_val = (5000, 1)\n",
            "Test shape: X_test = (10000, 32, 32, 3), y_test = (10000, 1)\n"
          ]
        }
      ],
      "source": [
        "# Split train/valid from the training set\n",
        "from sklearn.model_selection import train_test_split\n",
        "\n",
        "X_train, X_val, y_train, y_val = train_test_split(X_train, y_train, test_size=0.1, random_state=5)\n",
        "\n",
        "print(\"Train shape: X_train = \" + str(X_train.shape) + \", y_train = \" + str(y_train.shape))\n",
        "print(\"Val shape: X_val = \" + str(X_val.shape) + \", y_val = \" + str(y_val.shape))\n",
        "print(\"Test shape: X_test = \" + str(X_test.shape) + \", y_test = \" + str(y_test.shape))"
      ]
    },
    {
      "cell_type": "markdown",
      "metadata": {
        "id": "dlt8V7vFCeIg"
      },
      "source": [
        "## Build AlexNet model"
      ]
    },
    {
      "cell_type": "code",
      "execution_count": null,
      "metadata": {
        "colab": {
          "base_uri": "https://localhost:8080/"
        },
        "id": "G-h7ZzZN_zgi",
        "outputId": "179cd056-3eee-4090-fcc2-ca107897013e"
      },
      "outputs": [
        {
          "name": "stdout",
          "output_type": "stream",
          "text": [
            "Model: \"AlexNet\"\n",
            "_________________________________________________________________\n",
            " Layer (type)                Output Shape              Param #   \n",
            "=================================================================\n",
            " Block_1_Conv (Conv2D)       (None, 8, 8, 96)          34944     \n",
            "                                                                 \n",
            " activation_49 (Activation)  (None, 8, 8, 96)          0         \n",
            "                                                                 \n",
            " Block_1_MaxPool (MaxPooling  (None, 4, 4, 96)         0         \n",
            " 2D)                                                             \n",
            "                                                                 \n",
            " Block_2_Conv (Conv2D)       (None, 4, 4, 256)         614656    \n",
            "                                                                 \n",
            " activation_50 (Activation)  (None, 4, 4, 256)         0         \n",
            "                                                                 \n",
            " Block_2_maxPool (MaxPooling  (None, 2, 2, 256)        0         \n",
            " 2D)                                                             \n",
            "                                                                 \n",
            " Block_3_Conv (Conv2D)       (None, 2, 2, 384)         885120    \n",
            "                                                                 \n",
            " activation_51 (Activation)  (None, 2, 2, 384)         0         \n",
            "                                                                 \n",
            " Block_4_Conv (Conv2D)       (None, 2, 2, 384)         1327488   \n",
            "                                                                 \n",
            " activation_52 (Activation)  (None, 2, 2, 384)         0         \n",
            "                                                                 \n",
            " Block_5_Conv (Conv2D)       (None, 2, 2, 256)         884992    \n",
            "                                                                 \n",
            " activation_53 (Activation)  (None, 2, 2, 256)         0         \n",
            "                                                                 \n",
            " Block_5_MaxPool (MaxPooling  (None, 1, 1, 256)        0         \n",
            " 2D)                                                             \n",
            "                                                                 \n",
            " flatten_5 (Flatten)         (None, 256)               0         \n",
            "                                                                 \n",
            " dense_20 (Dense)            (None, 4096)              1052672   \n",
            "                                                                 \n",
            " activation_54 (Activation)  (None, 4096)              0         \n",
            "                                                                 \n",
            " dropout_15 (Dropout)        (None, 4096)              0         \n",
            "                                                                 \n",
            " dense_21 (Dense)            (None, 4096)              16781312  \n",
            "                                                                 \n",
            " batch_normalization_10 (Bat  (None, 4096)             16384     \n",
            " chNormalization)                                                \n",
            "                                                                 \n",
            " activation_55 (Activation)  (None, 4096)              0         \n",
            "                                                                 \n",
            " dropout_16 (Dropout)        (None, 4096)              0         \n",
            "                                                                 \n",
            " dense_22 (Dense)            (None, 1000)              4097000   \n",
            "                                                                 \n",
            " batch_normalization_11 (Bat  (None, 1000)             4000      \n",
            " chNormalization)                                                \n",
            "                                                                 \n",
            " activation_56 (Activation)  (None, 1000)              0         \n",
            "                                                                 \n",
            " dropout_17 (Dropout)        (None, 1000)              0         \n",
            "                                                                 \n",
            " dense_23 (Dense)            (None, 10)                10010     \n",
            "                                                                 \n",
            " activation_57 (Activation)  (None, 10)                0         \n",
            "                                                                 \n",
            "=================================================================\n",
            "Total params: 25,708,578\n",
            "Trainable params: 25,698,386\n",
            "Non-trainable params: 10,192\n",
            "_________________________________________________________________\n"
          ]
        }
      ],
      "source": [
        "# Import library\n",
        "from tensorflow.keras.models import Sequential\n",
        "from tensorflow.keras.layers import Dense, Activation, Dropout, Flatten, Conv2D, MaxPooling2D, BatchNormalization\n",
        "\n",
        "# Initialize AlexNet as an Sequential model.\n",
        "# A Sequential model is appropriate for a plain stack of layers where each layer has exactly one input tensor and one output tensor.\n",
        "AlexNet = Sequential(name='AlexNet')\n",
        "\n",
        "# Block 1\n",
        "AlexNet.add(\n",
        "    Conv2D(filters=96, input_shape=(32, 32, 3), kernel_size=(11, 11), strides=(4, 4), padding='same', name='Block_1_Conv')\n",
        ")  # padding=\"same\" means input and output have the same spatial dimension.\n",
        "AlexNet.add(Activation('relu'))  # Add RELU activation function\n",
        "AlexNet.add(\n",
        "    MaxPooling2D(pool_size=(3, 3), strides=(2, 2), padding='same', name='Block_1_MaxPool')\n",
        ")  # Overlapping MaxPooling since the pooling kernel (3x3) is larger than the pooing stride (2x2).\n",
        "\n",
        "# Block 2\n",
        "AlexNet.add(Conv2D(filters=256, kernel_size=(5, 5), strides=(1, 1), padding='same', name='Block_2_Conv'))\n",
        "AlexNet.add(Activation('relu'))  # Shorter way wot write: AlexNet.add(Conv2D(..., activation='relu'))\n",
        "AlexNet.add(MaxPooling2D(pool_size=(3, 3), strides=(2, 2), padding='same', name='Block_2_maxPool'))\n",
        "\n",
        "# Block 3\n",
        "AlexNet.add(Conv2D(filters=384, kernel_size=(3, 3), strides=(1, 1), padding='same', name='Block_3_Conv'))\n",
        "AlexNet.add(Activation('relu'))\n",
        "\n",
        "# Block 4\n",
        "AlexNet.add(Conv2D(filters=384, kernel_size=(3, 3), strides=(1, 1), padding='same', name='Block_4_Conv'))\n",
        "AlexNet.add(Activation('relu'))\n",
        "\n",
        "# Block 5\n",
        "AlexNet.add(Conv2D(filters=256, kernel_size=(3, 3), strides=(1, 1), padding='same', name='Block_5_Conv'))\n",
        "AlexNet.add(Activation('relu'))\n",
        "AlexNet.add(MaxPooling2D(pool_size=(3, 3), strides=(2, 2), padding='same', name='Block_5_MaxPool'))\n",
        "\n",
        "# Flatten\n",
        "AlexNet.add(Flatten())  # Reshape the tensor to 1D tensor so that it can be used as input of a fully connected (fc) layer\n",
        "\n",
        "# Fully connected (FC) layer 1\n",
        "AlexNet.add(Dense(4096))\n",
        "AlexNet.add(Activation('relu'))  # Shorter way wot write: AlexNet.add(Dense(4096, activation='relu'))\n",
        "AlexNet.add(Dropout(rate=0.4))  # Dropout with drop rate. This is to force the layer to learn general features.\n",
        "\n",
        "# Fully connected (FC) layer 2\n",
        "AlexNet.add(Dense(4096))\n",
        "AlexNet.add(BatchNormalization())\n",
        "AlexNet.add(Activation('relu'))\n",
        "AlexNet.add(Dropout(rate=0.4))\n",
        "\n",
        "# Fully connected (FC) layer 3\n",
        "AlexNet.add(Dense(1000))\n",
        "AlexNet.add(BatchNormalization())\n",
        "AlexNet.add(Activation('relu'))\n",
        "AlexNet.add(Dropout(rate=0.4))\n",
        "\n",
        "# Fully connected (FC) layer 3\n",
        "AlexNet.add(Dense(10))  # Number of output classes\n",
        "AlexNet.add(Activation('softmax'))  # Classification network often ends with softmax activation function.\n",
        "\n",
        "# Model Summary\n",
        "AlexNet.summary()\n",
        "\n",
        "# Example of non-trainable parameters: statistics in BatchNormalization layers. They're updated with mean and variance, but they're not \"trained with backpropagation\"."
      ]
    },
    {
      "cell_type": "markdown",
      "metadata": {
        "id": "QIlMahb7CMqY"
      },
      "source": [
        "There are two popular losses for a classification problem: categorical_crossentropy and sparse_categorical_crossentropy\n",
        "* categorical_crossentropy requires one-hot encoding label.\n",
        "* sparse_categorical_crossentropy requires integer label. This is called sparse since the label representation requires much less space than one-hot encoding"
      ]
    },
    {
      "cell_type": "code",
      "execution_count": null,
      "metadata": {
        "id": "WqPbRbwXAsLs"
      },
      "outputs": [],
      "source": [
        "# Compile the model\n",
        "AlexNet.compile(\n",
        "    loss=tf.keras.losses.sparse_categorical_crossentropy,  # Define loss function\n",
        "    optimizer=tf.keras.optimizers.Adam(learning_rate=5e-5),\n",
        "    metrics=['accuracy'],\n",
        ")  # Define initial learning rate and metrics."
      ]
    },
    {
      "attachments": {},
      "cell_type": "markdown",
      "metadata": {
        "id": "-XEmPpgSCcHY"
      },
      "source": [
        "# Train"
      ]
    },
    {
      "cell_type": "code",
      "execution_count": null,
      "metadata": {
        "colab": {
          "base_uri": "https://localhost:8080/"
        },
        "id": "ydXMC8HxCa30",
        "outputId": "0a15cfbd-f937-4897-eae6-fa98d3f99850"
      },
      "outputs": [
        {
          "name": "stdout",
          "output_type": "stream",
          "text": [
            "Epoch 1/30\n",
            "88/88 [==============================] - 7s 73ms/step - loss: 2.0114 - accuracy: 0.2762 - val_loss: 2.2978 - val_accuracy: 0.1062\n",
            "Epoch 2/30\n",
            "88/88 [==============================] - 6s 69ms/step - loss: 1.5482 - accuracy: 0.4314 - val_loss: 2.2857 - val_accuracy: 0.1352\n",
            "Epoch 3/30\n",
            "88/88 [==============================] - 6s 70ms/step - loss: 1.3982 - accuracy: 0.4886 - val_loss: 2.2550 - val_accuracy: 0.2636\n",
            "Epoch 4/30\n",
            "88/88 [==============================] - 6s 69ms/step - loss: 1.2907 - accuracy: 0.5326 - val_loss: 2.1904 - val_accuracy: 0.3254\n",
            "Epoch 5/30\n",
            "88/88 [==============================] - 6s 69ms/step - loss: 1.2134 - accuracy: 0.5642 - val_loss: 2.0572 - val_accuracy: 0.3748\n",
            "Epoch 6/30\n",
            "88/88 [==============================] - 6s 69ms/step - loss: 1.1486 - accuracy: 0.5862 - val_loss: 1.7933 - val_accuracy: 0.4614\n",
            "Epoch 7/30\n",
            "88/88 [==============================] - 6s 71ms/step - loss: 1.0781 - accuracy: 0.6135 - val_loss: 1.4382 - val_accuracy: 0.5390\n",
            "Epoch 8/30\n",
            "88/88 [==============================] - 6s 68ms/step - loss: 1.0143 - accuracy: 0.6362 - val_loss: 1.2720 - val_accuracy: 0.5656\n",
            "Epoch 9/30\n",
            "88/88 [==============================] - 5s 59ms/step - loss: 0.9551 - accuracy: 0.6598 - val_loss: 1.4161 - val_accuracy: 0.5124\n",
            "Epoch 10/30\n",
            "88/88 [==============================] - 6s 68ms/step - loss: 0.8946 - accuracy: 0.6820 - val_loss: 1.1993 - val_accuracy: 0.5780\n",
            "Epoch 11/30\n",
            "88/88 [==============================] - 5s 58ms/step - loss: 0.8331 - accuracy: 0.7067 - val_loss: 1.3151 - val_accuracy: 0.5702\n",
            "Epoch 12/30\n",
            "88/88 [==============================] - 5s 58ms/step - loss: 0.7768 - accuracy: 0.7250 - val_loss: 1.3093 - val_accuracy: 0.5756\n",
            "Epoch 13/30\n",
            "88/88 [==============================] - 5s 58ms/step - loss: 0.7174 - accuracy: 0.7463 - val_loss: 1.2880 - val_accuracy: 0.5784\n",
            "Epoch 14/30\n",
            "88/88 [==============================] - 5s 59ms/step - loss: 0.6641 - accuracy: 0.7677 - val_loss: 1.5035 - val_accuracy: 0.5610\n",
            "Epoch 15/30\n",
            "88/88 [==============================] - 5s 58ms/step - loss: 0.5940 - accuracy: 0.7945 - val_loss: 1.5772 - val_accuracy: 0.5674\n",
            "Epoch 16/30\n",
            "88/88 [==============================] - 5s 58ms/step - loss: 0.5386 - accuracy: 0.8116 - val_loss: 1.6954 - val_accuracy: 0.5472\n",
            "Epoch 17/30\n",
            "88/88 [==============================] - 5s 58ms/step - loss: 0.4742 - accuracy: 0.8347 - val_loss: 1.7314 - val_accuracy: 0.5596\n",
            "Epoch 18/30\n",
            "88/88 [==============================] - 5s 58ms/step - loss: 0.4232 - accuracy: 0.8513 - val_loss: 1.7314 - val_accuracy: 0.5822\n",
            "Epoch 19/30\n",
            "88/88 [==============================] - 5s 58ms/step - loss: 0.3749 - accuracy: 0.8708 - val_loss: 1.9412 - val_accuracy: 0.5470\n",
            "Epoch 20/30\n",
            "88/88 [==============================] - 5s 59ms/step - loss: 0.3191 - accuracy: 0.8900 - val_loss: 1.8515 - val_accuracy: 0.5680\n",
            "Epoch 21/30\n",
            "88/88 [==============================] - 5s 58ms/step - loss: 0.2789 - accuracy: 0.9041 - val_loss: 1.8654 - val_accuracy: 0.5896\n",
            "Epoch 22/30\n",
            "88/88 [==============================] - 5s 58ms/step - loss: 0.2433 - accuracy: 0.9160 - val_loss: 2.1584 - val_accuracy: 0.5528\n",
            "Epoch 23/30\n",
            "88/88 [==============================] - 5s 58ms/step - loss: 0.1988 - accuracy: 0.9310 - val_loss: 2.1398 - val_accuracy: 0.5634\n",
            "Epoch 24/30\n",
            "88/88 [==============================] - 5s 58ms/step - loss: 0.1753 - accuracy: 0.9398 - val_loss: 2.1086 - val_accuracy: 0.5790\n",
            "Epoch 25/30\n",
            "88/88 [==============================] - 5s 58ms/step - loss: 0.1511 - accuracy: 0.9478 - val_loss: 2.1718 - val_accuracy: 0.5868\n",
            "Epoch 26/30\n",
            "88/88 [==============================] - 5s 58ms/step - loss: 0.1331 - accuracy: 0.9540 - val_loss: 2.2364 - val_accuracy: 0.5934\n",
            "Epoch 27/30\n",
            "88/88 [==============================] - 5s 58ms/step - loss: 0.1304 - accuracy: 0.9543 - val_loss: 2.3198 - val_accuracy: 0.5826\n",
            "Epoch 28/30\n",
            "88/88 [==============================] - 5s 58ms/step - loss: 0.1186 - accuracy: 0.9579 - val_loss: 2.3933 - val_accuracy: 0.5758\n",
            "Epoch 29/30\n",
            "88/88 [==============================] - 5s 58ms/step - loss: 0.1032 - accuracy: 0.9638 - val_loss: 2.5193 - val_accuracy: 0.5774\n",
            "Epoch 30/30\n",
            "88/88 [==============================] - 5s 58ms/step - loss: 0.0826 - accuracy: 0.9716 - val_loss: 2.6406 - val_accuracy: 0.5844\n"
          ]
        }
      ],
      "source": [
        "### Create a callback ModelCheckpoint: this callback will save a better version of model every time the optimizer finds one.\n",
        "#### filepath: path to save the better model.\n",
        "#### monitor: metrics to identify how a model is considered to be better.\n",
        "#### mode='auto'/'max'/'min': to tell if the larger/smaller the metric, the better the model.\n",
        "#### verbose: output log.\n",
        "#### save_best_only: only save the best model instead off all better models along the training.\n",
        "\n",
        "# Create a callback ModelCheckpoint. This callback will save the model when finding one better than the current best.\n",
        "mc = keras.callbacks.ModelCheckpoint(\n",
        "    filepath=\"epoch-{epoch:02d}.hdf5\",  # Path to save the model\n",
        "    monitor='val_loss',  # Metric to evaluate the model performance when looking for a better model.\n",
        "    mode='min',  # mode='auto'/'max'/'min': the monitor should be max/min to be better.\n",
        "    # In auto mode, the mode is set to max if the quantities monitored are 'acc' or start with 'fmeasure' (f-score) and are set to min for the rest of the quantities.\n",
        "    verbose=0,  # Inform every time a better model is found and saved.\n",
        "    save_best_only=True,\n",
        ")  # Only save the model if the current training epoch is the best. 'False' means save models of all training epochs\n",
        "\n",
        "# Train the model. Using Colab for training\n",
        "history = AlexNet.fit(\n",
        "    X_train,\n",
        "    y_train,  # Data feature and data label\n",
        "    batch_size=512,  # Batch size\n",
        "    epochs=30,  # Number of training epochs\n",
        "    validation_data=(X_val, y_val),  # Validation set\n",
        "    callbacks=[mc],\n",
        ")  # Use callback ModelCheckpoint during the training"
      ]
    },
    {
      "cell_type": "code",
      "execution_count": null,
      "metadata": {
        "colab": {
          "base_uri": "https://localhost:8080/",
          "height": 282
        },
        "id": "4ynctBjeFdid",
        "outputId": "07a72a9b-ffff-4dc9-a743-724de5f06ec0"
      },
      "outputs": [
        {
          "data": {
            "text/plain": [
              "<matplotlib.legend.Legend at 0x7ff6c832a310>"
            ]
          },
          "execution_count": 48,
          "metadata": {},
          "output_type": "execute_result"
        },
        {
          "data": {
            "image/png": "[encoded data removed]",
            "text/plain": [
              "<Figure size 432x288 with 2 Axes>"
            ]
          },
          "metadata": {
            "needs_background": "light"
          },
          "output_type": "display_data"
        }
      ],
      "source": [
        "# Visualize training and validation performance\n",
        "f, ax = plt.subplots(2, 1)\n",
        "\n",
        "# Plot training and validation loss\n",
        "ax[0].plot(history.history['loss'], color='b', label='Training Loss')\n",
        "ax[0].plot(history.history['val_loss'], color='r', label='Validation Loss')\n",
        "\n",
        "# Plot training and validation accuracy\n",
        "ax[1].plot(history.history['accuracy'], color='b', label='Training Accuracy')\n",
        "ax[1].plot(history.history['val_accuracy'], color='r', label='Validation Accuracy')\n",
        "\n",
        "plt.legend()"
      ]
    },
    {
      "cell_type": "code",
      "execution_count": null,
      "metadata": {
        "colab": {
          "base_uri": "https://localhost:8080/"
        },
        "id": "Cv03HKlpCa0R",
        "outputId": "f9e6a0ee-970e-4093-9de0-7717036857ff"
      },
      "outputs": [
        {
          "name": "stdout",
          "output_type": "stream",
          "text": [
            "313/313 [==============================] - 2s 6ms/step - loss: 2.5482 - accuracy: 0.5972\n"
          ]
        }
      ],
      "source": [
        "# Let us load a saved model and evaluate its performance on the test set\n",
        "model = tf.keras.models.load_model(\"/content/epoch-07.hdf5\")\n",
        "result = AlexNet.evaluate(X_test, y_test)  # If unspecified, batch_size will default to 32"
      ]
    },
    {
      "cell_type": "code",
      "execution_count": null,
      "metadata": {
        "colab": {
          "base_uri": "https://localhost:8080/"
        },
        "id": "uS0lGOs0Oeav",
        "outputId": "58011edb-d886-41bd-d4f4-37e6ec635628"
      },
      "outputs": [
        {
          "name": "stdout",
          "output_type": "stream",
          "text": [
            "['loss', 'accuracy']\n",
            "Loss and accuracy on the test set: loss = 2.5481998920440674, accuracy = 0.5971999764442444\n"
          ]
        }
      ],
      "source": [
        "# Show the model performance\n",
        "print(AlexNet.metrics_names)  # result[0] is loss, result[1] is accuracy. The metrics are defined in AlexNet.complie(...)\n",
        "print(\"Loss and accuracy on the test set: loss = {}, accuracy = {}\".format(result[0], result[1]))"
      ]
    },
    {
      "cell_type": "code",
      "execution_count": 61,
      "metadata": {
        "colab": {
          "base_uri": "https://localhost:8080/",
          "height": 70
        },
        "id": "NJPWIxKHDom2",
        "outputId": "5241d98a-2afb-4c12-83d0-b5ac91ab7ba1"
      },
      "outputs": [
        {
          "data": {
            "application/vnd.google.colaboratory.intrinsic+json": {
              "type": "string"
            },
            "text/plain": [
              "'import os\\nimport glob\\n# Get a list of all the file paths that ends with .txt from in specified directory\\nfileList = glob.glob(\\'*.hdf5\\')\\n# Iterate over the list of filepaths & remove each file.\\nfor filePath in fileList:\\n  try:\\n    os.remove(filePath)\\n  except:\\n    print(\"Error while deleting file : \", filePath)'"
            ]
          },
          "execution_count": 61,
          "metadata": {},
          "output_type": "execute_result"
        }
      ],
      "source": [
        "# This is to delete all saved models (*.hdf5) in the current directory\n",
        "\n",
        "'''import os\n",
        "import glob\n",
        "# Get a list of all the file paths that ends with .txt from in specified directory\n",
        "fileList = glob.glob('*.hdf5')\n",
        "# Iterate over the list of filepaths & remove each file.\n",
        "for filePath in fileList:\n",
        "  try:\n",
        "    os.remove(filePath)\n",
        "  except:\n",
        "    print(\"Error while deleting file : \", filePath)'''"
      ]
    },
    {
      "cell_type": "code",
      "execution_count": null,
      "metadata": {
        "id": "nb0gb_IsO9SH"
      },
      "outputs": [],
      "source": []
    }
  ],
  "metadata": {
    "accelerator": "GPU",
    "colab": {
      "collapsed_sections": [],
      "provenance": []
    },
    "kernelspec": {
      "display_name": "Python 3",
      "language": "python",
      "name": "python3"
    },
    "language_info": {
      "codemirror_mode": {
        "name": "ipython",
        "version": 3
      },
      "file_extension": ".py",
      "mimetype": "text/x-python",
      "name": "python",
      "nbconvert_exporter": "python",
      "pygments_lexer": "ipython3",
      "version": "3.13.1"
    }
  },
  "nbformat": 4,
  "nbformat_minor": 0
}
