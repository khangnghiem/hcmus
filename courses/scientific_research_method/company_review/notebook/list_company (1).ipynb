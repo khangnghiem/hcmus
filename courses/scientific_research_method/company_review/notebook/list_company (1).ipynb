{
 "cells": [
  {
   "cell_type": "code",
   "execution_count": null,
   "metadata": {},
   "outputs": [],
   "source": [
    "import requests\n",
    "from bs4 import BeautifulSoup\n",
    "from lxml import etree\n",
    "import time\n",
    "\n",
    "# List of URLs to crawl\n",
    "urls = [\n",
    "    \"https://1900.com.vn/danh-gia-dn/nab-innovation-centre-vietnam-399\",\n",
    "    \"https://1900.com.vn/danh-gia-dn/cong-ty-co-phan-giao-duc-jaxtina-3084?page=1\"\n",
    "]\n",
    "\n",
    "for url in urls:\n",
    "    # Send a GET request to the URL\n",
    "    response = requests.get(url)\n",
    "\n",
    "    # Check if the request was successful\n",
    "    if response.status_code == 200:\n",
    "        # Parse the HTML content\n",
    "        soup = BeautifulSoup(response.content, 'html.parser')\n",
    "        dom = etree.HTML(str(soup))\n",
    "        \n",
    "        # Extract the desired data using XPath\n",
    "        data = dom.xpath('/html/body/div[1]/main/div/div[2]/div[1]/div[3]/div[1]/div[2]/div/div[3]/div[1]/text()')\n",
    "        \n",
    "        # Print the extracted data\n",
    "        if data:\n",
    "            print(\"Extracted Data:\", data[0])\n",
    "        else:\n",
    "            print(\"No data found at the specified XPath.\")\n",
    "    else:\n",
    "        print(\"Failed to retrieve the page. Status code:\", response.status_code)\n",
    "    \n",
    "    # Delay of 1 second between requests\n",
    "    time.sleep(1)\n",
    "    "
   ]
  }
 ],
 "metadata": {
  "kernelspec": {
   "display_name": ".venv",
   "language": "python",
   "name": "python3"
  },
  "language_info": {
   "name": "python",
   "version": "3.12.8"
  }
 },
 "nbformat": 4,
 "nbformat_minor": 2
}
