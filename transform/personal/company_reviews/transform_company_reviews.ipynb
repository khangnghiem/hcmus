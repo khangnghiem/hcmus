{
 "cells": [
  {
   "cell_type": "code",
   "execution_count": 1,
   "id": "c7dbec4d",
   "metadata": {},
   "outputs": [
    {
     "name": "stdout",
     "output_type": "stream",
     "text": [
      "2025-04-24 00:26:51 INFO  WordSegmenter:24 - Loading Word Segmentation model\n"
     ]
    },
    {
     "name": "stderr",
     "output_type": "stream",
     "text": [
      "\u001b[32m2025-04-24 00:30:21.727\u001b[0m | \u001b[32m\u001b[1mSUCCESS \u001b[0m | \u001b[36mtransform_company_reviews\u001b[0m:\u001b[36mtransform_reviews_segmentation\u001b[0m:\u001b[36m62\u001b[0m - \u001b[32m\u001b[1mTransformed reviews to /Volumes/Seagate/Filen/data/public/transform/company_reviews/transformed_company_reviews.parquet\u001b[0m\n",
      "\u001b[32m2025-04-24 00:30:21.729\u001b[0m | \u001b[1mINFO    \u001b[0m | \u001b[36mtransform_company_reviews\u001b[0m:\u001b[36mtransform_reviews_segmentation\u001b[0m:\u001b[36m65\u001b[0m - \u001b[1mTransformed reviews shape: (180421, 7)\u001b[0m\n",
      "\u001b[32m2025-04-24 00:30:21.730\u001b[0m | \u001b[1mINFO    \u001b[0m | \u001b[36mtransform_company_reviews\u001b[0m:\u001b[36mtransform_reviews_segmentation\u001b[0m:\u001b[36m66\u001b[0m - \u001b[1mTransformed reviews columns: ['extract_date', 'endpoint', 'name', 'location', 'department', 'segmented_review', 'review_rating']\u001b[0m\n"
     ]
    },
    {
     "data": {
      "text/html": [
       "<div><style>\n",
       ".dataframe > thead > tr,\n",
       ".dataframe > tbody > tr {\n",
       "  text-align: right;\n",
       "  white-space: pre-wrap;\n",
       "}\n",
       "</style>\n",
       "<small>shape: (180_421, 7)</small><table border=\"1\" class=\"dataframe\"><thead><tr><th>extract_date</th><th>endpoint</th><th>name</th><th>location</th><th>department</th><th>segmented_review</th><th>review_rating</th></tr><tr><td>date</td><td>str</td><td>str</td><td>str</td><td>str</td><td>list[str]</td><td>f64</td></tr></thead><tbody><tr><td>2025-04-23</td><td>&quot;xoai-concept&quot;</td><td>&quot;Xoài Concept&quot;</td><td>&quot;483A Nguyễn Thị Thập, Tân Phon…</td><td>&quot;Sản phẩm&quot;</td><td>[&quot;Tốt nhất là tụi mày đổi cty đi ở chỗ cũ thế_nào cũng ăn gạch thôi , tao phang chescmm .&quot;, &quot;.&quot;]</td><td>1.0</td></tr><tr><td>2025-04-23</td><td>&quot;umbala&quot;</td><td>&quot;UMBALA&quot;</td><td>&quot;70 Lu Gia District 10 &amp;amp;amp…</td><td>&quot;Sản phẩm&quot;</td><td>[&quot;Tại Umbala_Labs , tôi được làm_việc trong 1 môi_trường &quot; crazy &quot; .&quot;, &quot;Mọi người đều làm_việc điên_cuồng , điều này thúc_đẩy tôi phải tiến_bộ mỗi ngày ..&quot;, &quot;.&quot;]</td><td>5.0</td></tr><tr><td>2025-04-23</td><td>&quot;suu-soft&quot;</td><td>&quot;Suu Soft&quot;</td><td>&quot;Nam Tu Liem, Ha Noi&quot;</td><td>&quot;Outsource&quot;</td><td>[&quot;Môi_trường tạm được .&quot;, &quot;Chưa chuyên_nghiệp lắm .&quot;, … &quot;.&quot;]</td><td>3.0</td></tr><tr><td>2025-04-23</td><td>&quot;oris-solutions&quot;</td><td>&quot;Oris Solutions&quot;</td><td>&quot;224 Điện Biên Phủ, phường Võ T…</td><td>&quot;Sản phẩm&quot;</td><td>[&quot;dfgdfgkhjweoiru928347weekjhksjdfnhgkjdnfgsrfsersewr . .&quot;]</td><td>1.0</td></tr><tr><td>2025-04-23</td><td>&quot;goldfinger&quot;</td><td>&quot;Công ty TNHH Goldfinger VN&quot;</td><td>&quot;71/4A Đ. Hiệp Thành 13, P, Quậ…</td><td>&quot;Outsource&quot;</td><td>[&quot;Làm ở đây vui mà , sao nói_khó nghe vậy.chắc bạn làm sai.nên bị la.rồi bạn quê chứ gì浪 .&quot;, &quot;.&quot;]</td><td>5.0</td></tr><tr><td>&hellip;</td><td>&hellip;</td><td>&hellip;</td><td>&hellip;</td><td>&hellip;</td><td>&hellip;</td><td>&hellip;</td></tr><tr><td>2025-04-23</td><td>&quot;fpt-software&quot;</td><td>&quot;FPT Software&quot;</td><td>&quot;Đường D1, Phường Tân Phú, Quận…</td><td>&quot;Dịch vụ&quot;</td><td>[&quot;Theo mọi người .&quot;, &quot;BA nên vào VNPTIT hay FSOFT .&quot;, … &quot;.&quot;]</td><td>4.0</td></tr><tr><td>2025-04-13</td><td>&quot;cong-ty-co-phan-25-fit-3582&quot;</td><td>&quot;25 FIT&quot;</td><td>&quot;Hồ Chí Minh&quot;</td><td>&quot;Y tế / Chăm sóc sức khỏe&quot;</td><td>[&quot;Công_ty toxic hết_mức có_thể đừng bán sức trẻ tại đây ( RV ) .&quot;, &quot;Mình chưa bao_giờ review 1 công_ty nào , nhưng phải mạnh_dạn lên_tiếng để các ace có ý_định vào làm ở khối office thì cân_nhắc đi nhé .&quot;, … &quot;Không có&quot;]</td><td>1.0</td></tr><tr><td>2025-04-13</td><td>&quot;cong-ty-co-phan-25-fit-3582&quot;</td><td>&quot;25 FIT&quot;</td><td>&quot;Hồ Chí Minh&quot;</td><td>&quot;Y tế / Chăm sóc sức khỏe&quot;</td><td>[&quot;Công_ty toxic hết_mức có_thể đừng bán sức trẻ tại đây ( RV ) .&quot;, &quot;Mình chưa bao_giờ review 1 công_ty nào , nhưng phải mạnh_dạn lên_tiếng để các ace có ý_định vào làm ở khối office thì cân_nhắc đi nhé .&quot;, … &quot;Không có&quot;]</td><td>1.0</td></tr><tr><td>2025-04-23</td><td>&quot;flearning-studio&quot;</td><td>&quot;F.Learning Studio&quot;</td><td>&quot;19 Đ. Lê Văn Lương, Nhân Chính…</td><td>&quot;Sản phẩm&quot;</td><td>[&quot;Rất ngưỡng_mộ những con người ở đây , từ các cán_bộ đến nhân_viên đều thân_thiện , giỏi_giang và tuyệt_vời .&quot;, &quot;.&quot;]</td><td>5.0</td></tr><tr><td>2025-04-23</td><td>&quot;scs-global-viet-nam&quot;</td><td>&quot;SCS Global Việt Nam&quot;</td><td>&quot;438 Nguyễn Thị Minh Khai, Phườ…</td><td>&quot;Dịch vụ&quot;</td><td>[&quot;- Lương ổn so với ngành , thưởng trung_bình 3 tháng lương .&quot;, &quot;Tổng_cộng 15 tháng lương .&quot;, … &quot;.&quot;]</td><td>4.0</td></tr></tbody></table></div>"
      ],
      "text/plain": [
       "shape: (180_421, 7)\n",
       "┌──────────────┬─────────────┬─────────────┬─────────────┬─────────────┬─────────────┬─────────────┐\n",
       "│ extract_date ┆ endpoint    ┆ name        ┆ location    ┆ department  ┆ segmented_r ┆ review_rati │\n",
       "│ ---          ┆ ---         ┆ ---         ┆ ---         ┆ ---         ┆ eview       ┆ ng          │\n",
       "│ date         ┆ str         ┆ str         ┆ str         ┆ str         ┆ ---         ┆ ---         │\n",
       "│              ┆             ┆             ┆             ┆             ┆ list[str]   ┆ f64         │\n",
       "╞══════════════╪═════════════╪═════════════╪═════════════╪═════════════╪═════════════╪═════════════╡\n",
       "│ 2025-04-23   ┆ xoai-concep ┆ Xoài        ┆ 483A Nguyễn ┆ Sản phẩm    ┆ [\"Tốt nhất  ┆ 1.0         │\n",
       "│              ┆ t           ┆ Concept     ┆ Thị Thập,   ┆             ┆ là tụi mày  ┆             │\n",
       "│              ┆             ┆             ┆ Tân Phon…   ┆             ┆ đổi cty …   ┆             │\n",
       "│ 2025-04-23   ┆ umbala      ┆ UMBALA      ┆ 70 Lu Gia   ┆ Sản phẩm    ┆ [\"Tại       ┆ 5.0         │\n",
       "│              ┆             ┆             ┆ District 10 ┆             ┆ Umbala_Labs ┆             │\n",
       "│              ┆             ┆             ┆ &amp;amp…   ┆             ┆ , tôi được  ┆             │\n",
       "│              ┆             ┆             ┆             ┆             ┆ l…          ┆             │\n",
       "│ 2025-04-23   ┆ suu-soft    ┆ Suu Soft    ┆ Nam Tu      ┆ Outsource   ┆ [\"Môi_trườn ┆ 3.0         │\n",
       "│              ┆             ┆             ┆ Liem, Ha    ┆             ┆ g tạm được  ┆             │\n",
       "│              ┆             ┆             ┆ Noi         ┆             ┆ .\", \"Chư…   ┆             │\n",
       "│ 2025-04-23   ┆ oris-soluti ┆ Oris        ┆ 224 Điện    ┆ Sản phẩm    ┆ [\"dfgdfgkhj ┆ 1.0         │\n",
       "│              ┆ ons         ┆ Solutions   ┆ Biên Phủ,   ┆             ┆ weoiru92834 ┆             │\n",
       "│              ┆             ┆             ┆ phường Võ   ┆             ┆ 7weekjhk…   ┆             │\n",
       "│              ┆             ┆             ┆ T…          ┆             ┆             ┆             │\n",
       "│ 2025-04-23   ┆ goldfinger  ┆ Công ty     ┆ 71/4A Đ.    ┆ Outsource   ┆ [\"Làm ở đây ┆ 5.0         │\n",
       "│              ┆             ┆ TNHH        ┆ Hiệp Thành  ┆             ┆ vui mà ,    ┆             │\n",
       "│              ┆             ┆ Goldfinger  ┆ 13, P, Quậ… ┆             ┆ sao nói_k…  ┆             │\n",
       "│              ┆             ┆ VN          ┆             ┆             ┆             ┆             │\n",
       "│ …            ┆ …           ┆ …           ┆ …           ┆ …           ┆ …           ┆ …           │\n",
       "│ 2025-04-23   ┆ fpt-softwar ┆ FPT         ┆ Đường D1,   ┆ Dịch vụ     ┆ [\"Theo mọi  ┆ 4.0         │\n",
       "│              ┆ e           ┆ Software    ┆ Phường Tân  ┆             ┆ người .\",   ┆             │\n",
       "│              ┆             ┆             ┆ Phú, Quận…  ┆             ┆ \"BA nên v…  ┆             │\n",
       "│ 2025-04-13   ┆ cong-ty-co- ┆ 25 FIT      ┆ Hồ Chí Minh ┆ Y tế / Chăm ┆ [\"Công_ty   ┆ 1.0         │\n",
       "│              ┆ phan-25-fit ┆             ┆             ┆ sóc sức     ┆ toxic       ┆             │\n",
       "│              ┆ -3582       ┆             ┆             ┆ khỏe        ┆ hết_mức     ┆             │\n",
       "│              ┆             ┆             ┆             ┆             ┆ có_thể…     ┆             │\n",
       "│ 2025-04-13   ┆ cong-ty-co- ┆ 25 FIT      ┆ Hồ Chí Minh ┆ Y tế / Chăm ┆ [\"Công_ty   ┆ 1.0         │\n",
       "│              ┆ phan-25-fit ┆             ┆             ┆ sóc sức     ┆ toxic       ┆             │\n",
       "│              ┆ -3582       ┆             ┆             ┆ khỏe        ┆ hết_mức     ┆             │\n",
       "│              ┆             ┆             ┆             ┆             ┆ có_thể…     ┆             │\n",
       "│ 2025-04-23   ┆ flearning-s ┆ F.Learning  ┆ 19 Đ. Lê    ┆ Sản phẩm    ┆ [\"Rất       ┆ 5.0         │\n",
       "│              ┆ tudio       ┆ Studio      ┆ Văn Lương,  ┆             ┆ ngưỡng_mộ   ┆             │\n",
       "│              ┆             ┆             ┆ Nhân Chính… ┆             ┆ những con   ┆             │\n",
       "│              ┆             ┆             ┆             ┆             ┆ ngườ…       ┆             │\n",
       "│ 2025-04-23   ┆ scs-global- ┆ SCS Global  ┆ 438 Nguyễn  ┆ Dịch vụ     ┆ [\"- Lương   ┆ 4.0         │\n",
       "│              ┆ viet-nam    ┆ Việt Nam    ┆ Thị Minh    ┆             ┆ ổn so với   ┆             │\n",
       "│              ┆             ┆             ┆ Khai, Phườ… ┆             ┆ ngành , th… ┆             │\n",
       "└──────────────┴─────────────┴─────────────┴─────────────┴─────────────┴─────────────┴─────────────┘"
      ]
     },
     "execution_count": 1,
     "metadata": {},
     "output_type": "execute_result"
    }
   ],
   "source": [
    "import polars as pl\n",
    "from transform_company_reviews import transform_reviews_segmentation\n",
    "\n",
    "\n",
    "df = transform_reviews_segmentation()\n",
    "df"
   ]
  },
  {
   "cell_type": "code",
   "execution_count": null,
   "id": "be883eca",
   "metadata": {},
   "outputs": [
    {
     "data": {
      "text/html": [
       "<div><style>\n",
       ".dataframe > thead > tr,\n",
       ".dataframe > tbody > tr {\n",
       "  text-align: right;\n",
       "  white-space: pre-wrap;\n",
       "}\n",
       "</style>\n",
       "<small>shape: (0, 7)</small><table border=\"1\" class=\"dataframe\"><thead><tr><th>extract_date</th><th>link</th><th>name</th><th>location</th><th>department</th><th>full_review</th><th>review_rating</th></tr><tr><td>date</td><td>str</td><td>str</td><td>str</td><td>str</td><td>list[str]</td><td>f64</td></tr></thead><tbody></tbody></table></div>"
      ],
      "text/plain": [
       "shape: (0, 7)\n",
       "┌──────────────┬──────┬──────┬──────────┬────────────┬─────────────┬───────────────┐\n",
       "│ extract_date ┆ link ┆ name ┆ location ┆ department ┆ full_review ┆ review_rating │\n",
       "│ ---          ┆ ---  ┆ ---  ┆ ---      ┆ ---        ┆ ---         ┆ ---           │\n",
       "│ date         ┆ str  ┆ str  ┆ str      ┆ str        ┆ list[str]   ┆ f64           │\n",
       "╞══════════════╪══════╪══════╪══════════╪════════════╪═════════════╪═══════════════╡\n",
       "└──────────────┴──────┴──────┴──────────┴────────────┴─────────────┴───────────────┘"
      ]
     },
     "execution_count": 4,
     "metadata": {},
     "output_type": "execute_result"
    }
   ],
   "source": []
  }
 ],
 "metadata": {
  "kernelspec": {
   "display_name": ".venv",
   "language": "python",
   "name": "python3"
  },
  "language_info": {
   "codemirror_mode": {
    "name": "ipython",
    "version": 3
   },
   "file_extension": ".py",
   "mimetype": "text/x-python",
   "name": "python",
   "nbconvert_exporter": "python",
   "pygments_lexer": "ipython3",
   "version": "3.12.8"
  }
 },
 "nbformat": 4,
 "nbformat_minor": 5
}
