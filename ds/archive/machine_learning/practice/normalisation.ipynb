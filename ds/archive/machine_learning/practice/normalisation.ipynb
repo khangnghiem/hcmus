{
 "cells": [
  {
   "cell_type": "code",
   "execution_count": 1,
   "metadata": {},
   "outputs": [
    {
     "name": "stdout",
     "output_type": "stream",
     "text": [
      "[-0.5  0.   0.5]\n",
      "[-0.5  0.   0.5]\n",
      "[ 0.5  0.  -0.5]\n"
     ]
    }
   ],
   "source": [
    "import numpy as np\n",
    "\n",
    "x_1 = [1,2,3]\n",
    "x_2 = [4,5,6]\n",
    "x_3 = [9,8,7]\n",
    "\n",
    "# Mean normalisation\n",
    "x_1 = (x_1 - np.mean(x_1)) / (np.max(x_1) - np.min(x_1))\n",
    "x_2 = (x_2 - np.mean(x_2)) / (np.max(x_2) - np.min(x_2))\n",
    "x_3 = (x_3 - np.mean(x_3)) / (np.max(x_3) - np.min(x_3))\n",
    "\n",
    "print(x_1)\n",
    "print(x_2)\n",
    "print(x_3)"
   ]
  },
  {
   "cell_type": "code",
   "execution_count": 2,
   "metadata": {},
   "outputs": [
    {
     "name": "stdout",
     "output_type": "stream",
     "text": [
      "[0.  0.5 1. ]\n",
      "[0.  0.5 1. ]\n",
      "[1.  0.5 0. ]\n"
     ]
    }
   ],
   "source": [
    "# Min-max scaling\n",
    "x_1_min_max = (x_1 - np.min(x_1)) / (np.max(x_1) - np.min(x_1))\n",
    "x_2_min_max = (x_2 - np.min(x_2)) / (np.max(x_2) - np.min(x_2))\n",
    "x_3_min_max = (x_3 - np.min(x_3)) / (np.max(x_3) - np.min(x_3))\n",
    "\n",
    "print(x_1_min_max)\n",
    "print(x_2_min_max)\n",
    "print(x_3_min_max)"
   ]
  },
  {
   "cell_type": "code",
   "execution_count": 9,
   "metadata": {},
   "outputs": [
    {
     "name": "stdout",
     "output_type": "stream",
     "text": [
      "[-0.70710678  0.          0.70710678]\n",
      "[-0.70710678  0.          0.70710678]\n",
      "[ 0.70710678  0.         -0.70710678]\n"
     ]
    }
   ],
   "source": [
    "import math\n",
    "\n",
    "# Unit vector scaling\n",
    "x_1_unit_vector = x_1 / np.linalg.norm(x_1)\n",
    "x_2_unit_vector = x_2 / np.linalg.norm(x_2)\n",
    "x_3_unit_vector = x_3 / np.linalg.norm(x_3)\n",
    "\n",
    "print(x_1_unit_vector)\n",
    "print(x_2_unit_vector)\n",
    "print(x_3_unit_vector)\n",
    "\n"
   ]
  }
 ],
 "metadata": {
  "kernelspec": {
   "display_name": "Python 3",
   "language": "python",
   "name": "python3"
  },
  "language_info": {
   "codemirror_mode": {
    "name": "ipython",
    "version": 3
   },
   "file_extension": ".py",
   "mimetype": "text/x-python",
   "name": "python",
   "nbconvert_exporter": "python",
   "pygments_lexer": "ipython3",
   "version": "3.13.1"
  }
 },
 "nbformat": 4,
 "nbformat_minor": 2
}
