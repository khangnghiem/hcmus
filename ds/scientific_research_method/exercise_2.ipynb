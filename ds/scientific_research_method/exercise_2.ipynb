{
 "cells": [
  {
   "cell_type": "code",
   "execution_count": 4,
   "metadata": {},
   "outputs": [],
   "source": [
    "from PIL import Image \n",
    "import numpy as np\n",
    "\n",
    "image = Image.open('./assets/images/monkey.jpg')\n",
    "\n",
    "def add_noise(img: Image, noise_level: int) -> Image:\n",
    "    np_img = np.array(img)\n",
    "    noise = np.random.normal(0, noise_level, np_img.shape).astype(np.uint8)  # Increased noise level\n",
    "    noisy_img = Image.fromarray(np.clip(np_img + noise, 0, 255).astype(np.uint8))\n",
    "    return noisy_img\n",
    "\n",
    "# Generate and save multiple noisy images with varying noise levels\n",
    "for noise_level in range(5, 100, 5):\n",
    "    noisy_image = add_noise(image, noise_level)\n",
    "    noisy_image.save(f\"./assets/images/noisy_image_{noise_level}.jpg\")\n"
   ]
  },
  {
   "cell_type": "code",
   "execution_count": 13,
   "metadata": {},
   "outputs": [],
   "source": [
    "# Load monkey image\n",
    "monkey_image = Image.open(\"./assets/images/monkey.jpg\")\n",
    "\n",
    "heavy_noise_monkey_image = add_noise(monkey_image)\n",
    "\n",
    "# Save transformed image\n",
    "heavy_noise_monkey_image.save(\"./assets/images/transformed_heavy_noise_monkey.jpg\")"
   ]
  },
  {
   "cell_type": "code",
   "execution_count": 15,
   "metadata": {},
   "outputs": [],
   "source": []
  }
 ],
 "metadata": {
  "kernelspec": {
   "display_name": "Python 3",
   "language": "python",
   "name": "python3"
  },
  "language_info": {
   "codemirror_mode": {
    "name": "ipython",
    "version": 3
   },
   "file_extension": ".py",
   "mimetype": "text/x-python",
   "name": "python",
   "nbconvert_exporter": "python",
   "pygments_lexer": "ipython3",
   "version": "3.13.1"
  }
 },
 "nbformat": 4,
 "nbformat_minor": 2
}
