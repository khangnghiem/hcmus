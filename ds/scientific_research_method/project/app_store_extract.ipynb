{
 "cells": [
  {
   "cell_type": "code",
   "execution_count": 8,
   "metadata": {},
   "outputs": [
    {
     "data": {
      "text/plain": [
       "polars.config.Config"
      ]
     },
     "execution_count": 8,
     "metadata": {},
     "output_type": "execute_result"
    }
   ],
   "source": [
    "import polars as pl\n",
    "pl.Config.set_fmt_str_lengths(200)"
   ]
  },
  {
   "cell_type": "code",
   "execution_count": 5,
   "metadata": {},
   "outputs": [
    {
     "data": {
      "text/html": [
       "<div><style>\n",
       ".dataframe > thead > tr,\n",
       ".dataframe > tbody > tr {\n",
       "  text-align: right;\n",
       "  white-space: pre-wrap;\n",
       "}\n",
       "</style>\n",
       "<small>shape: (3, 30)</small><table border=\"1\" class=\"dataframe\"><thead><tr><th>id</th><th>run_id</th><th>app_id</th><th>app_version</th><th>app_name</th><th>app_url</th><th>country_code</th><th>app_flavor</th><th>app_size</th><th>app_type</th><th>artist_name</th><th>distribution_kind</th><th>user_rating_value</th><th>user_rating_count</th><th>user_rating_label</th><th>app_store_position</th><th>app_store_genre_name</th><th>app_store_genre_code</th><th>app_store_chart</th><th>content_rating</th><th>version_release_date</th><th>release_date</th><th>privacy_policy_url</th><th>has_in_app_purchases</th><th>seller</th><th>price_formatted</th><th>price</th><th>currency_code</th><th>insert_timestamp</th><th>web_url</th></tr><tr><td>i64</td><td>i64</td><td>i64</td><td>str</td><td>str</td><td>str</td><td>str</td><td>str</td><td>i64</td><td>str</td><td>str</td><td>str</td><td>f64</td><td>i64</td><td>str</td><td>i64</td><td>str</td><td>i64</td><td>str</td><td>str</td><td>date</td><td>date</td><td>str</td><td>i64</td><td>str</td><td>str</td><td>i64</td><td>str</td><td>datetime[μs]</td><td>str</td></tr></thead><tbody><tr><td>130243682</td><td>95</td><td>1023873772</td><td>&quot;3.62&quot;</td><td>&quot;Partner Next&quot;</td><td>&quot;https://apps.apple.com/us/app/…</td><td>&quot;us&quot;</td><td>&quot;iosSoftware&quot;</td><td>103370752</td><td>&quot;apps&quot;</td><td>&quot;Partner Software&quot;</td><td>&quot;APP_STORE&quot;</td><td>4.4</td><td>9</td><td>&quot;4.4 stars&quot;</td><td>0</td><td>null</td><td>0</td><td>null</td><td>&quot;4+&quot;</td><td>2023-09-12</td><td>2015-09-22</td><td>&quot;https://www.partnersoftware.co…</td><td>0</td><td>&quot;Partner Software Inc.&quot;</td><td>&quot;$0.00&quot;</td><td>0</td><td>&quot;USD&quot;</td><td>2024-01-11 05:03:49</td><td>null</td></tr><tr><td>130243683</td><td>95</td><td>1501237924</td><td>&quot;0.3.1&quot;</td><td>&quot;Audactive&quot;</td><td>&quot;https://apps.apple.com/us/app/…</td><td>&quot;us&quot;</td><td>&quot;iosSoftware&quot;</td><td>77096960</td><td>&quot;apps&quot;</td><td>&quot;WellSource Ltd.&quot;</td><td>&quot;APP_STORE&quot;</td><td>0.0</td><td>0</td><td>&quot;0 stars&quot;</td><td>0</td><td>null</td><td>0</td><td>null</td><td>&quot;17+&quot;</td><td>2021-11-10</td><td>2020-05-15</td><td>&quot;https://cognify.app/legal/&quot;</td><td>0</td><td>&quot;WellSource Ltd.&quot;</td><td>&quot;$0.00&quot;</td><td>0</td><td>&quot;USD&quot;</td><td>2024-01-11 05:03:49</td><td>null</td></tr><tr><td>130243684</td><td>95</td><td>1591780100</td><td>&quot;1.0.3&quot;</td><td>&quot;Perimeter Visitor Management&quot;</td><td>&quot;https://apps.apple.com/us/app/…</td><td>&quot;us&quot;</td><td>&quot;iosSoftware&quot;</td><td>27092992</td><td>&quot;apps&quot;</td><td>&quot;Perimeter Technology Sdn. Bhd.&quot;</td><td>&quot;APP_STORE&quot;</td><td>0.0</td><td>0</td><td>&quot;0 stars&quot;</td><td>0</td><td>null</td><td>0</td><td>null</td><td>&quot;4+&quot;</td><td>2022-01-17</td><td>2021-12-07</td><td>&quot;https://www.perimeter.com.my/l…</td><td>0</td><td>&quot;Perimeter Technology Sdn Bhd&quot;</td><td>&quot;$0.00&quot;</td><td>0</td><td>&quot;USD&quot;</td><td>2024-01-11 05:03:49</td><td>null</td></tr></tbody></table></div>"
      ],
      "text/plain": [
       "shape: (3, 30)\n",
       "┌───────────┬────────┬────────────┬─────────────┬───┬───────┬──────────────┬─────────────┬─────────┐\n",
       "│ id        ┆ run_id ┆ app_id     ┆ app_version ┆ … ┆ price ┆ currency_cod ┆ insert_time ┆ web_url │\n",
       "│ ---       ┆ ---    ┆ ---        ┆ ---         ┆   ┆ ---   ┆ e            ┆ stamp       ┆ ---     │\n",
       "│ i64       ┆ i64    ┆ i64        ┆ str         ┆   ┆ i64   ┆ ---          ┆ ---         ┆ str     │\n",
       "│           ┆        ┆            ┆             ┆   ┆       ┆ str          ┆ datetime[μs ┆         │\n",
       "│           ┆        ┆            ┆             ┆   ┆       ┆              ┆ ]           ┆         │\n",
       "╞═══════════╪════════╪════════════╪═════════════╪═══╪═══════╪══════════════╪═════════════╪═════════╡\n",
       "│ 130243682 ┆ 95     ┆ 1023873772 ┆ 3.62        ┆ … ┆ 0     ┆ USD          ┆ 2024-01-11  ┆ null    │\n",
       "│           ┆        ┆            ┆             ┆   ┆       ┆              ┆ 05:03:49    ┆         │\n",
       "│ 130243683 ┆ 95     ┆ 1501237924 ┆ 0.3.1       ┆ … ┆ 0     ┆ USD          ┆ 2024-01-11  ┆ null    │\n",
       "│           ┆        ┆            ┆             ┆   ┆       ┆              ┆ 05:03:49    ┆         │\n",
       "│ 130243684 ┆ 95     ┆ 1591780100 ┆ 1.0.3       ┆ … ┆ 0     ┆ USD          ┆ 2024-01-11  ┆ null    │\n",
       "│           ┆        ┆            ┆             ┆   ┆       ┆              ┆ 05:03:49    ┆         │\n",
       "└───────────┴────────┴────────────┴─────────────┴───┴───────┴──────────────┴─────────────┴─────────┘"
      ]
     },
     "execution_count": 5,
     "metadata": {},
     "output_type": "execute_result"
    }
   ],
   "source": [
    "df = pl.read_csv(\n",
    "    # \"hf://datasets/commoncrawl/statistics/tlds.csv\",\n",
    "    # \"hf://datasets/masoodali/apple-app-store-labels-policies/app_store/app-to-policy.csv\",\n",
    "    # \"hf://datasets/masoodali/apple-app-store-labels-policies/app_store/app_genre.csv\",\n",
    "    # \"hf://datasets/masoodali/apple-app-store-labels-policies/app_store/app_store_labels.csv\",\n",
    "    \"hf://datasets/masoodali/apple-app-store-labels-policies/app_store/apps.csv\",\n",
    "    try_parse_dates=True,\n",
    ")\n",
    "df.head(3)\n"
   ]
  },
  {
   "cell_type": "code",
   "execution_count": 10,
   "metadata": {},
   "outputs": [
    {
     "data": {
      "text/html": [
       "<div><style>\n",
       ".dataframe > thead > tr,\n",
       ".dataframe > tbody > tr {\n",
       "  text-align: right;\n",
       "  white-space: pre-wrap;\n",
       "}\n",
       "</style>\n",
       "<small>shape: (1_239_642, 30)</small><table border=\"1\" class=\"dataframe\"><thead><tr><th>id</th><th>run_id</th><th>app_id</th><th>app_version</th><th>app_name</th><th>app_url</th><th>country_code</th><th>app_flavor</th><th>app_size</th><th>app_type</th><th>artist_name</th><th>distribution_kind</th><th>user_rating_value</th><th>user_rating_count</th><th>user_rating_label</th><th>app_store_position</th><th>app_store_genre_name</th><th>app_store_genre_code</th><th>app_store_chart</th><th>content_rating</th><th>version_release_date</th><th>release_date</th><th>privacy_policy_url</th><th>has_in_app_purchases</th><th>seller</th><th>price_formatted</th><th>price</th><th>currency_code</th><th>insert_timestamp</th><th>web_url</th></tr><tr><td>i64</td><td>i64</td><td>i64</td><td>str</td><td>str</td><td>str</td><td>str</td><td>str</td><td>i64</td><td>str</td><td>str</td><td>str</td><td>f64</td><td>i64</td><td>str</td><td>i64</td><td>str</td><td>i64</td><td>str</td><td>str</td><td>date</td><td>date</td><td>str</td><td>i64</td><td>str</td><td>str</td><td>i64</td><td>str</td><td>datetime[μs]</td><td>str</td></tr></thead><tbody><tr><td>130243682</td><td>95</td><td>1023873772</td><td>&quot;3.62&quot;</td><td>&quot;Partner Next&quot;</td><td>&quot;https://apps.apple.com/us/app/partner-next/id1023873772&quot;</td><td>&quot;us&quot;</td><td>&quot;iosSoftware&quot;</td><td>103370752</td><td>&quot;apps&quot;</td><td>&quot;Partner Software&quot;</td><td>&quot;APP_STORE&quot;</td><td>4.4</td><td>9</td><td>&quot;4.4 stars&quot;</td><td>0</td><td>null</td><td>0</td><td>null</td><td>&quot;4+&quot;</td><td>2023-09-12</td><td>2015-09-22</td><td>&quot;https://www.partnersoftware.com/terms-of-use/&quot;</td><td>0</td><td>&quot;Partner Software Inc.&quot;</td><td>&quot;$0.00&quot;</td><td>0</td><td>&quot;USD&quot;</td><td>2024-01-11 05:03:49</td><td>null</td></tr><tr><td>130243683</td><td>95</td><td>1501237924</td><td>&quot;0.3.1&quot;</td><td>&quot;Audactive&quot;</td><td>&quot;https://apps.apple.com/us/app/audactive/id1501237924&quot;</td><td>&quot;us&quot;</td><td>&quot;iosSoftware&quot;</td><td>77096960</td><td>&quot;apps&quot;</td><td>&quot;WellSource Ltd.&quot;</td><td>&quot;APP_STORE&quot;</td><td>0.0</td><td>0</td><td>&quot;0 stars&quot;</td><td>0</td><td>null</td><td>0</td><td>null</td><td>&quot;17+&quot;</td><td>2021-11-10</td><td>2020-05-15</td><td>&quot;https://cognify.app/legal/&quot;</td><td>0</td><td>&quot;WellSource Ltd.&quot;</td><td>&quot;$0.00&quot;</td><td>0</td><td>&quot;USD&quot;</td><td>2024-01-11 05:03:49</td><td>null</td></tr><tr><td>130243684</td><td>95</td><td>1591780100</td><td>&quot;1.0.3&quot;</td><td>&quot;Perimeter Visitor Management&quot;</td><td>&quot;https://apps.apple.com/us/app/perimeter-visitor-management/id1591780100&quot;</td><td>&quot;us&quot;</td><td>&quot;iosSoftware&quot;</td><td>27092992</td><td>&quot;apps&quot;</td><td>&quot;Perimeter Technology Sdn. Bhd.&quot;</td><td>&quot;APP_STORE&quot;</td><td>0.0</td><td>0</td><td>&quot;0 stars&quot;</td><td>0</td><td>null</td><td>0</td><td>null</td><td>&quot;4+&quot;</td><td>2022-01-17</td><td>2021-12-07</td><td>&quot;https://www.perimeter.com.my/legal/privacy-policy/&quot;</td><td>0</td><td>&quot;Perimeter Technology Sdn Bhd&quot;</td><td>&quot;$0.00&quot;</td><td>0</td><td>&quot;USD&quot;</td><td>2024-01-11 05:03:49</td><td>null</td></tr><tr><td>130243685</td><td>95</td><td>1327764448</td><td>&quot;1.2&quot;</td><td>&quot;Exandas GIS&quot;</td><td>&quot;https://apps.apple.com/us/app/exandas-gis/id1327764448&quot;</td><td>&quot;us&quot;</td><td>&quot;iosSoftware&quot;</td><td>1029120</td><td>&quot;apps&quot;</td><td>&quot;3pi Information Systems&quot;</td><td>&quot;APP_STORE&quot;</td><td>0.0</td><td>0</td><td>&quot;0 stars&quot;</td><td>0</td><td>null</td><td>0</td><td>null</td><td>&quot;4+&quot;</td><td>2020-12-27</td><td>2018-01-03</td><td>&quot;https://goo.gl/fj7faZ&quot;</td><td>0</td><td>&quot;3PI INFORMATION SYSTEMS SOLE SHAREHOLDER CO. LTD&quot;</td><td>&quot;$0.00&quot;</td><td>0</td><td>&quot;USD&quot;</td><td>2024-01-11 05:03:50</td><td>null</td></tr><tr><td>130243686</td><td>95</td><td>1563607064</td><td>&quot;3.0.4&quot;</td><td>&quot;B&amp;C Revenue Book&quot;</td><td>&quot;https://apps.apple.com/us/app/b-c-revenue-book/id1563607064&quot;</td><td>&quot;us&quot;</td><td>&quot;iosSoftware&quot;</td><td>44254208</td><td>&quot;apps&quot;</td><td>&quot;Josh Leaver&quot;</td><td>&quot;APP_STORE&quot;</td><td>4.6</td><td>14</td><td>&quot;4.6 stars&quot;</td><td>0</td><td>null</td><td>0</td><td>null</td><td>&quot;4+&quot;</td><td>2022-10-29</td><td>2021-05-06</td><td>&quot;http://bc.streamers.network/privacy&quot;</td><td>0</td><td>&quot;Josh Leaver&quot;</td><td>&quot;$0.00&quot;</td><td>0</td><td>&quot;USD&quot;</td><td>2024-01-11 05:03:50</td><td>null</td></tr><tr><td>&hellip;</td><td>&hellip;</td><td>&hellip;</td><td>&hellip;</td><td>&hellip;</td><td>&hellip;</td><td>&hellip;</td><td>&hellip;</td><td>&hellip;</td><td>&hellip;</td><td>&hellip;</td><td>&hellip;</td><td>&hellip;</td><td>&hellip;</td><td>&hellip;</td><td>&hellip;</td><td>&hellip;</td><td>&hellip;</td><td>&hellip;</td><td>&hellip;</td><td>&hellip;</td><td>&hellip;</td><td>&hellip;</td><td>&hellip;</td><td>&hellip;</td><td>&hellip;</td><td>&hellip;</td><td>&hellip;</td><td>&hellip;</td><td>&hellip;</td></tr><tr><td>131483319</td><td>95</td><td>313639973</td><td>&quot;1.4.2&quot;</td><td>&quot;Calories&quot;</td><td>&quot;https://apps.apple.com/us/app/calories/id313639973&quot;</td><td>&quot;us&quot;</td><td>&quot;iosSoftware&quot;</td><td>2435072</td><td>&quot;apps&quot;</td><td>&quot;Piet Jonas&quot;</td><td>&quot;APP_STORE&quot;</td><td>1.7</td><td>3</td><td>&quot;1.7 stars&quot;</td><td>0</td><td>null</td><td>0</td><td>null</td><td>&quot;4+&quot;</td><td>2023-03-26</td><td>2009-04-30</td><td>&quot;http://start.speedymarks.com/policies/privacyPolicyApp.html&quot;</td><td>0</td><td>&quot;Piet Jonas&quot;</td><td>&quot;$0.99&quot;</td><td>1</td><td>&quot;USD&quot;</td><td>2024-01-13 19:17:34</td><td>null</td></tr><tr><td>131483320</td><td>95</td><td>1569395974</td><td>&quot;2.0&quot;</td><td>&quot;MK Dosa Corner, Milton Keynes&quot;</td><td>&quot;https://apps.apple.com/us/app/mk-dosa-corner-milton-keynes/id1569395974&quot;</td><td>&quot;us&quot;</td><td>&quot;iosSoftware&quot;</td><td>39544832</td><td>&quot;apps&quot;</td><td>&quot;Malik Aslam&quot;</td><td>&quot;APP_STORE&quot;</td><td>0.0</td><td>0</td><td>&quot;0 stars&quot;</td><td>0</td><td>null</td><td>0</td><td>null</td><td>&quot;4+&quot;</td><td>2022-04-09</td><td>2021-05-27</td><td>&quot;https://mkdosaa.co.uk/&quot;</td><td>0</td><td>&quot;Malik Aslam&quot;</td><td>&quot;$0.00&quot;</td><td>0</td><td>&quot;USD&quot;</td><td>2024-01-13 19:17:34</td><td>null</td></tr><tr><td>131483321</td><td>95</td><td>1474613978</td><td>&quot;2.2&quot;</td><td>&quot;People Matters Sphere&quot;</td><td>&quot;https://apps.apple.com/us/app/people-matters-sphere/id1474613978&quot;</td><td>&quot;us&quot;</td><td>&quot;iosSoftware&quot;</td><td>13346816</td><td>&quot;apps&quot;</td><td>&quot;People Matters Media Pvt. Ltd.&quot;</td><td>&quot;APP_STORE&quot;</td><td>5.0</td><td>2</td><td>&quot;5.0 stars&quot;</td><td>0</td><td>null</td><td>0</td><td>null</td><td>&quot;4+&quot;</td><td>2019-12-17</td><td>2019-08-24</td><td>&quot;https://www.peoplematters.in/app-privacy-and-policy&quot;</td><td>0</td><td>&quot;People Matters Media Private Limited&quot;</td><td>&quot;$0.00&quot;</td><td>0</td><td>&quot;USD&quot;</td><td>2024-01-13 19:17:34</td><td>null</td></tr><tr><td>131483322</td><td>95</td><td>1516071043</td><td>&quot;1.0&quot;</td><td>&quot;Norwegian-Russian Dictionary&quot;</td><td>&quot;https://apps.apple.com/us/app/norwegian-russian-dictionary/id1516071043&quot;</td><td>&quot;us&quot;</td><td>&quot;iosSoftware&quot;</td><td>30106624</td><td>&quot;apps&quot;</td><td>&quot;OOO Soft Save Serevice&quot;</td><td>&quot;APP_STORE&quot;</td><td>0.0</td><td>0</td><td>&quot;0 stars&quot;</td><td>0</td><td>null</td><td>0</td><td>null</td><td>&quot;4+&quot;</td><td>2020-06-02</td><td>2020-06-02</td><td>&quot;https://www.facebook.com/ilhom.velikiy&quot;</td><td>0</td><td>&quot;Soft Save Service OOO&quot;</td><td>&quot;$0.00&quot;</td><td>0</td><td>&quot;USD&quot;</td><td>2024-01-13 19:17:35</td><td>null</td></tr><tr><td>131483323</td><td>95</td><td>1600824850</td><td>&quot;1.7&quot;</td><td>&quot;çå£«å°æ¹ç­è©¦ 2024&quot;</td><td>&quot;https://apps.apple.com/us/app/%E7%9A%84%E5%A3%AB%E5%9C%B0%E6%96%B9%E7%AD%86%E8%A9%A6-2024/id1600824850&quot;</td><td>&quot;us&quot;</td><td>&quot;iosSoftware&quot;</td><td>23863296</td><td>&quot;apps&quot;</td><td>&quot;Foodmatesss Limited&quot;</td><td>&quot;APP_STORE&quot;</td><td>5.0</td><td>1</td><td>&quot;5.0 stars&quot;</td><td>0</td><td>null</td><td>0</td><td>null</td><td>&quot;4+&quot;</td><td>2023-08-25</td><td>2021-12-29</td><td>&quot;https://www.termsfeed.com/live/ac2af130-e3a1-4ff6-8f97-002d575c4dc2&quot;</td><td>0</td><td>&quot;Foodmatesss Limited&quot;</td><td>&quot;$0.00&quot;</td><td>0</td><td>&quot;USD&quot;</td><td>2024-01-13 19:17:35</td><td>null</td></tr></tbody></table></div>"
      ],
      "text/plain": [
       "shape: (1_239_642, 30)\n",
       "┌───────────┬────────┬────────────┬─────────────┬───┬───────┬──────────────┬─────────────┬─────────┐\n",
       "│ id        ┆ run_id ┆ app_id     ┆ app_version ┆ … ┆ price ┆ currency_cod ┆ insert_time ┆ web_url │\n",
       "│ ---       ┆ ---    ┆ ---        ┆ ---         ┆   ┆ ---   ┆ e            ┆ stamp       ┆ ---     │\n",
       "│ i64       ┆ i64    ┆ i64        ┆ str         ┆   ┆ i64   ┆ ---          ┆ ---         ┆ str     │\n",
       "│           ┆        ┆            ┆             ┆   ┆       ┆ str          ┆ datetime[μs ┆         │\n",
       "│           ┆        ┆            ┆             ┆   ┆       ┆              ┆ ]           ┆         │\n",
       "╞═══════════╪════════╪════════════╪═════════════╪═══╪═══════╪══════════════╪═════════════╪═════════╡\n",
       "│ 130243682 ┆ 95     ┆ 1023873772 ┆ 3.62        ┆ … ┆ 0     ┆ USD          ┆ 2024-01-11  ┆ null    │\n",
       "│           ┆        ┆            ┆             ┆   ┆       ┆              ┆ 05:03:49    ┆         │\n",
       "│ 130243683 ┆ 95     ┆ 1501237924 ┆ 0.3.1       ┆ … ┆ 0     ┆ USD          ┆ 2024-01-11  ┆ null    │\n",
       "│           ┆        ┆            ┆             ┆   ┆       ┆              ┆ 05:03:49    ┆         │\n",
       "│ 130243684 ┆ 95     ┆ 1591780100 ┆ 1.0.3       ┆ … ┆ 0     ┆ USD          ┆ 2024-01-11  ┆ null    │\n",
       "│           ┆        ┆            ┆             ┆   ┆       ┆              ┆ 05:03:49    ┆         │\n",
       "│ 130243685 ┆ 95     ┆ 1327764448 ┆ 1.2         ┆ … ┆ 0     ┆ USD          ┆ 2024-01-11  ┆ null    │\n",
       "│           ┆        ┆            ┆             ┆   ┆       ┆              ┆ 05:03:50    ┆         │\n",
       "│ 130243686 ┆ 95     ┆ 1563607064 ┆ 3.0.4       ┆ … ┆ 0     ┆ USD          ┆ 2024-01-11  ┆ null    │\n",
       "│           ┆        ┆            ┆             ┆   ┆       ┆              ┆ 05:03:50    ┆         │\n",
       "│ …         ┆ …      ┆ …          ┆ …           ┆ … ┆ …     ┆ …            ┆ …           ┆ …       │\n",
       "│ 131483319 ┆ 95     ┆ 313639973  ┆ 1.4.2       ┆ … ┆ 1     ┆ USD          ┆ 2024-01-13  ┆ null    │\n",
       "│           ┆        ┆            ┆             ┆   ┆       ┆              ┆ 19:17:34    ┆         │\n",
       "│ 131483320 ┆ 95     ┆ 1569395974 ┆ 2.0         ┆ … ┆ 0     ┆ USD          ┆ 2024-01-13  ┆ null    │\n",
       "│           ┆        ┆            ┆             ┆   ┆       ┆              ┆ 19:17:34    ┆         │\n",
       "│ 131483321 ┆ 95     ┆ 1474613978 ┆ 2.2         ┆ … ┆ 0     ┆ USD          ┆ 2024-01-13  ┆ null    │\n",
       "│           ┆        ┆            ┆             ┆   ┆       ┆              ┆ 19:17:34    ┆         │\n",
       "│ 131483322 ┆ 95     ┆ 1516071043 ┆ 1.0         ┆ … ┆ 0     ┆ USD          ┆ 2024-01-13  ┆ null    │\n",
       "│           ┆        ┆            ┆             ┆   ┆       ┆              ┆ 19:17:35    ┆         │\n",
       "│ 131483323 ┆ 95     ┆ 1600824850 ┆ 1.7         ┆ … ┆ 0     ┆ USD          ┆ 2024-01-13  ┆ null    │\n",
       "│           ┆        ┆            ┆             ┆   ┆       ┆              ┆ 19:17:35    ┆         │\n",
       "└───────────┴────────┴────────────┴─────────────┴───┴───────┴──────────────┴─────────────┴─────────┘"
      ]
     },
     "execution_count": 10,
     "metadata": {},
     "output_type": "execute_result"
    }
   ],
   "source": [
    "df[[\"app_url\"]]\n",
    "df"
   ]
  }
 ],
 "metadata": {
  "kernelspec": {
   "display_name": ".venv",
   "language": "python",
   "name": "python3"
  },
  "language_info": {
   "codemirror_mode": {
    "name": "ipython",
    "version": 3
   },
   "file_extension": ".py",
   "mimetype": "text/x-python",
   "name": "python",
   "nbconvert_exporter": "python",
   "pygments_lexer": "ipython3",
   "version": "3.12.8"
  }
 },
 "nbformat": 4,
 "nbformat_minor": 2
}
