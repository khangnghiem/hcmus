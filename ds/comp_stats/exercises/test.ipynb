{
 "cells": [
  {
   "cell_type": "code",
   "execution_count": null,
   "metadata": {
    "vscode": {
     "languageId": "r"
    }
   },
   "outputs": [
    {
     "ename": "",
     "evalue": "",
     "output_type": "error",
     "traceback": [
      "\u001b[1;31mFailed to start the Kernel. \n",
      "\u001b[1;31mThe kernel died. Error: ... View Jupyter <a href='command:jupyter.viewOutput'>log</a> for further details."
     ]
    }
   ],
   "source": [
    "y <- c(225, 171, 198, 189, 189, 135, 162, 135, 117, 162)\n",
    "\n",
    "f <- \\(y, theta, alpha) {\n",
    "    (alpha / theta) * (y / theta)^(alpha - 1) * exp(-(y / theta)^alpha)\n",
    "}\n",
    "\n",
    "ll <- \\(y, theta, alpha) {\n",
    "    sum(log(alpha) - log(theta) + (alpha - 1) * log(y) - (alpha - 1) * log(theta) - (y / theta)^alpha)\n",
    "}\n",
    "\n",
    "theta_values <- seq(0.1, 400, by = 20)\n",
    "alpha_values <- seq(0.1, 10, by = 1)\n",
    "\n",
    "matrix_alpha_theta <- matrix(0, nrow = length(theta_values), ncol = length(alpha_values))\n",
    "\n",
    "for (i in 1:length(theta_values)) {\n",
    "    for (j in 1:length(alpha_values)) {\n",
    "        matrix_alpha_theta[i, j] <- ll(y, theta_values[i], alpha_values[j])\n",
    "    }\n",
    "}\n",
    "\n",
    "# print(matrix_alpha_theta)\n",
    "# print(max(matrix_alpha_theta))\n",
    "# print(min(matrix_alpha_theta))\n",
    "\n",
    "contour(theta_values, alpha_values, matrix_alpha_theta,\n",
    "    levels = seq(-550, -40, by = 20),\n",
    "    xlab = \"theta_values\", ylab = \"alpha_values\"\n",
    ")\n",
    "\n",
    "\n"
   ]
  },
  {
   "cell_type": "code",
   "execution_count": 2,
   "metadata": {
    "vscode": {
     "languageId": "r"
    }
   },
   "outputs": [
    {
     "ename": "ModuleNotFoundError",
     "evalue": "No module named 'torch'",
     "output_type": "error",
     "traceback": [
      "\u001b[0;31m---------------------------------------------------------------------------\u001b[0m",
      "\u001b[0;31mModuleNotFoundError\u001b[0m                       Traceback (most recent call last)",
      "Cell \u001b[0;32mIn[2], line 1\u001b[0m\n\u001b[0;32m----> 1\u001b[0m \u001b[38;5;28;01mimport\u001b[39;00m \u001b[38;5;21;01mtorch\u001b[39;00m\n\u001b[1;32m      3\u001b[0m torch\u001b[38;5;241m.\u001b[39mrand\n",
      "\u001b[0;31mModuleNotFoundError\u001b[0m: No module named 'torch'"
     ]
    }
   ],
   "source": [
    "import torch\n",
    "\n",
    "torch.rand"
   ]
  },
  {
   "cell_type": "code",
   "execution_count": null,
   "metadata": {
    "vscode": {
     "languageId": "r"
    }
   },
   "outputs": [],
   "source": [
    "# Generate random data\n",
    "set.seed(123)\n",
    "x <- rnorm(100)\n",
    "y <- rnorm(100)\n",
    "\n",
    "# Plot the random data\n",
    "plot(x, y, main = \"Random Scatter Plot\", xlab = \"X-axis\", ylab = \"Y-axis\", col = \"blue\", pch = 19)\n",
    "\n"
   ]
  }
 ],
 "metadata": {
  "kernelspec": {
   "display_name": "Ark R Kernel",
   "language": "R",
   "name": "ark"
  },
  "language_info": {
   "codemirror_mode": {
    "name": "ipython",
    "version": 3
   },
   "file_extension": ".py",
   "mimetype": "text/x-python",
   "name": "R",
   "nbconvert_exporter": "python",
   "pygments_lexer": "ipython3",
   "version": "3.13.1"
  }
 },
 "nbformat": 4,
 "nbformat_minor": 2
}
