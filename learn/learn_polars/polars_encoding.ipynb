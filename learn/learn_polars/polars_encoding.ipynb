{
 "cells": [
  {
   "cell_type": "code",
   "execution_count": 1,
   "metadata": {},
   "outputs": [
    {
     "data": {
      "text/html": [
       "<div><style>\n",
       ".dataframe > thead > tr,\n",
       ".dataframe > tbody > tr {\n",
       "  text-align: right;\n",
       "  white-space: pre-wrap;\n",
       "}\n",
       "</style>\n",
       "<small>shape: (4, 2)</small><table border=\"1\" class=\"dataframe\"><thead><tr><th>car</th><th>color</th></tr><tr><td>str</td><td>str</td></tr></thead><tbody><tr><td>&quot;Toyota&quot;</td><td>&quot;Red&quot;</td></tr><tr><td>&quot;Ford&quot;</td><td>&quot;Blue&quot;</td></tr><tr><td>&quot;BMW&quot;</td><td>&quot;Black&quot;</td></tr><tr><td>&quot;Audi&quot;</td><td>&quot;White&quot;</td></tr></tbody></table></div>"
      ],
      "text/plain": [
       "shape: (4, 2)\n",
       "┌────────┬───────┐\n",
       "│ car    ┆ color │\n",
       "│ ---    ┆ ---   │\n",
       "│ str    ┆ str   │\n",
       "╞════════╪═══════╡\n",
       "│ Toyota ┆ Red   │\n",
       "│ Ford   ┆ Blue  │\n",
       "│ BMW    ┆ Black │\n",
       "│ Audi   ┆ White │\n",
       "└────────┴───────┘"
      ]
     },
     "execution_count": 1,
     "metadata": {},
     "output_type": "execute_result"
    }
   ],
   "source": [
    "import polars as pl\n",
    "\n",
    "car_color = pl.DataFrame({\n",
    "    \"car\": [\"Toyota\", \"Ford\", \"BMW\", \"Audi\"],\n",
    "    \"color\": [\"Red\", \"Blue\", \"Black\", \"White\"]\n",
    "})\n",
    "car_color"
   ]
  },
  {
   "cell_type": "code",
   "execution_count": 3,
   "metadata": {},
   "outputs": [
    {
     "data": {
      "text/plain": [
       "PosixPath('/Users/khangnghiem/Library/CloudStorage/GoogleDrive-khangnghiem@gmail.com/My Drive/learn/learn_polars/data/mnist')"
      ]
     },
     "execution_count": 3,
     "metadata": {},
     "output_type": "execute_result"
    }
   ],
   "source": [
    "from pathlib import Path\n",
    "DATA_PATH = Path.cwd() / \"data\"\n",
    "PATH = DATA_PATH / \"mnist\"\n",
    "PATH"
   ]
  }
 ],
 "metadata": {
  "kernelspec": {
   "display_name": "Python 3",
   "language": "python",
   "name": "python3"
  },
  "language_info": {
   "codemirror_mode": {
    "name": "ipython",
    "version": 3
   },
   "file_extension": ".py",
   "mimetype": "text/x-python",
   "name": "python",
   "nbconvert_exporter": "python",
   "pygments_lexer": "ipython3",
   "version": "3.13.1"
  }
 },
 "nbformat": 4,
 "nbformat_minor": 2
}
