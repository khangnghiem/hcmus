{
 "cells": [
  {
   "cell_type": "code",
   "execution_count": 1,
   "metadata": {},
   "outputs": [
    {
     "name": "stdout",
     "output_type": "stream",
     "text": [
      "Unexpected exception formatting exception. Falling back to standard exception\n"
     ]
    },
    {
     "name": "stderr",
     "output_type": "stream",
     "text": [
      "Traceback (most recent call last):\n",
      "  File \"<frozen importlib._bootstrap>\", line 1147, in _find_and_load_unlocked\n",
      "  File \"<frozen importlib._bootstrap>\", line 676, in _load_unlocked\n",
      "  File \"<frozen importlib._bootstrap>\", line 573, in module_from_spec\n",
      "  File \"<frozen importlib._bootstrap_external>\", line 1233, in create_module\n",
      "  File \"<frozen importlib._bootstrap>\", line 241, in _call_with_frames_removed\n",
      "ImportError: dlopen(/Users/khangnghiem/Filen/learn/.venv/lib/python3.11/site-packages/torch/_C.cpython-311-darwin.so, 0x0002): Library not loaded: @loader_path/libc10.dylib\n",
      "  Referenced from: <93B052AD-B16C-3D0F-A6FC-DFFBB7CD9584> /Users/khangnghiem/Filen/learn/.venv/lib/python3.11/site-packages/torch/lib/libtorch_python.dylib\n",
      "  Reason: tried: '/Users/khangnghiem/Filen/learn/.venv/lib/python3.11/site-packages/torch/lib/libc10.dylib' (no such file), '/usr/local/lib/libc10.dylib' (no such file), '/usr/lib/libc10.dylib' (no such file, not in dyld cache)\n",
      "\n",
      "During handling of the above exception, another exception occurred:\n",
      "\n",
      "Traceback (most recent call last):\n",
      "  File \"/Users/khangnghiem/Filen/learn/.venv/lib/python3.11/site-packages/IPython/core/interactiveshell.py\", line 3577, in run_code\n",
      "  File \"/var/folders/ds/qgc7ldz113jb3ym8xw9kxxmh0000gn/T/ipykernel_3906/113888284.py\", line 1, in <module>\n",
      "    import torch\n",
      "  File \"/Users/khangnghiem/Filen/learn/.venv/lib/python3.11/site-packages/torch/__init__.py\", line 237, in <module>\n",
      "  File \"<frozen importlib._bootstrap>\", line 1176, in _find_and_load\n",
      "  File \"<frozen importlib._bootstrap>\", line 1150, in _find_and_load_unlocked\n",
      "KeyboardInterrupt\n",
      "\n",
      "During handling of the above exception, another exception occurred:\n",
      "\n",
      "Traceback (most recent call last):\n",
      "  File \"/Users/khangnghiem/Filen/learn/.venv/lib/python3.11/site-packages/pygments/styles/__init__.py\", line 45, in get_style_by_name\n",
      "ModuleNotFoundError: No module named 'pygments.styles.default'\n",
      "\n",
      "During handling of the above exception, another exception occurred:\n",
      "\n",
      "Traceback (most recent call last):\n",
      "  File \"/Users/khangnghiem/Filen/learn/.venv/lib/python3.11/site-packages/IPython/core/interactiveshell.py\", line 2168, in showtraceback\n",
      "  File \"/Users/khangnghiem/Filen/learn/.venv/lib/python3.11/site-packages/IPython/core/ultratb.py\", line 1457, in structured_traceback\n",
      "  File \"/Users/khangnghiem/Filen/learn/.venv/lib/python3.11/site-packages/IPython/core/ultratb.py\", line 1348, in structured_traceback\n",
      "  File \"/Users/khangnghiem/Filen/learn/.venv/lib/python3.11/site-packages/IPython/core/ultratb.py\", line 1195, in structured_traceback\n",
      "  File \"/Users/khangnghiem/Filen/learn/.venv/lib/python3.11/site-packages/IPython/core/ultratb.py\", line 1085, in format_exception_as_a_whole\n",
      "  File \"/Users/khangnghiem/Filen/learn/.venv/lib/python3.11/site-packages/IPython/core/ultratb.py\", line 1136, in get_records\n",
      "  File \"/Users/khangnghiem/Filen/learn/.venv/lib/python3.11/site-packages/pygments/styles/__init__.py\", line 47, in get_style_by_name\n",
      "pygments.util.ClassNotFound: Could not find style module 'pygments.styles.default', though it should be builtin.\n"
     ]
    }
   ],
   "source": [
    "import torch\n",
    "import numpy as np\n",
    "\n",
    "data = [[1, 2], [3, 4]]\n",
    "x_data = torch.tensor(data)\n",
    "np_array = np.array(data)\n",
    "x_np = torch.from_numpy(np_array)\n",
    "x_ones = torch.ones_like(x_data)\n",
    "x_rand = torch.rand_like(x_data, dtype=torch.float)\n",
    "\n",
    "shape = (2, 3,)\n",
    "rand_tensor = torch.rand(shape)\n",
    "ones_tensor = torch.ones(shape)\n",
    "zeros_tensor = torch.zeros(shape)\n",
    "\n",
    "tensor = torch.rand(3, 4)\n",
    "\n",
    "print(f\"{data=}\")\n",
    "print(f\"{x_data=}\")\n",
    "print(f\"{x_np=}\")\n",
    "print(f\"{x_ones=}\")\n",
    "print(f\"{x_rand=}\")\n",
    "print(f\"{rand_tensor=}\")\n",
    "print(f\"{ones_tensor=}\")\n",
    "print(f\"{zeros_tensor=}\")\n",
    "\n",
    "print(f\"{tensor.shape=}\")\n",
    "print(f\"{tensor.dtype=}\")\n",
    "print(f\"{tensor.device=}\")"
   ]
  },
  {
   "cell_type": "code",
   "execution_count": 11,
   "metadata": {},
   "outputs": [
    {
     "name": "stdout",
     "output_type": "stream",
     "text": [
      "tensor.device=device(type='cpu')\n"
     ]
    }
   ],
   "source": [
    "if torch.cuda.is_available():\n",
    "    tensor = tensor.to('cuda')\n",
    "print(f\"{tensor.device=}\")"
   ]
  },
  {
   "cell_type": "code",
   "execution_count": 17,
   "metadata": {},
   "outputs": [
    {
     "name": "stdout",
     "output_type": "stream",
     "text": [
      "tensor[0,:]=tensor([1., 1., 1., 1., 1., 1., 1., 1.])\n",
      "tensor[0]=tensor([1., 1., 1., 1., 1., 1., 1., 1.])\n",
      "tensor[:,0]=tensor([1., 1., 1., 1.])\n",
      "tensor[:,-1]=tensor([1., 1., 1., 1.])\n",
      "tensor=tensor([[1., 0., 1., 1., 1., 1., 1., 1.],\n",
      "        [1., 0., 1., 1., 1., 1., 1., 1.],\n",
      "        [1., 0., 1., 1., 1., 1., 1., 1.],\n",
      "        [1., 0., 1., 1., 1., 1., 1., 1.]])\n",
      "t1=tensor([[1., 0., 1., 1., 1., 1., 1., 1., 1., 0., 1., 1., 1., 1., 1., 1., 1., 0.,\n",
      "         1., 1., 1., 1., 1., 1.],\n",
      "        [1., 0., 1., 1., 1., 1., 1., 1., 1., 0., 1., 1., 1., 1., 1., 1., 1., 0.,\n",
      "         1., 1., 1., 1., 1., 1.],\n",
      "        [1., 0., 1., 1., 1., 1., 1., 1., 1., 0., 1., 1., 1., 1., 1., 1., 1., 0.,\n",
      "         1., 1., 1., 1., 1., 1.],\n",
      "        [1., 0., 1., 1., 1., 1., 1., 1., 1., 0., 1., 1., 1., 1., 1., 1., 1., 0.,\n",
      "         1., 1., 1., 1., 1., 1.]])\n"
     ]
    }
   ],
   "source": [
    "tensor = torch.ones(4, 8)\n",
    "print(f\"{tensor[0,:]=}\")\n",
    "print(f\"{tensor[0]=}\")\n",
    "print(f\"{tensor[:,0]=}\")\n",
    "print(f\"{tensor[:,-1]=}\")\n",
    "tensor[:,1] = 0\n",
    "print(f\"{tensor=}\")\n",
    "t1 = torch.cat([tensor, tensor, tensor], dim=1)\n",
    "print(f\"{t1=}\")"
   ]
  },
  {
   "cell_type": "code",
   "execution_count": 23,
   "metadata": {},
   "outputs": [
    {
     "name": "stdout",
     "output_type": "stream",
     "text": [
      "y1=tensor([[277., 277., 277., 277.],\n",
      "        [277., 277., 277., 277.],\n",
      "        [277., 277., 277., 277.],\n",
      "        [277., 277., 277., 277.]])\n",
      "y2=tensor([[277., 277., 277., 277.],\n",
      "        [277., 277., 277., 277.],\n",
      "        [277., 277., 277., 277.],\n",
      "        [277., 277., 277., 277.]])\n",
      "y3=tensor([[277., 277., 277., 277.],\n",
      "        [277., 277., 277., 277.],\n",
      "        [277., 277., 277., 277.],\n",
      "        [277., 277., 277., 277.]])\n",
      "tensor=tensor([[6., 5., 6., 6., 6., 6., 6., 6.],\n",
      "        [6., 5., 6., 6., 6., 6., 6., 6.],\n",
      "        [6., 5., 6., 6., 6., 6., 6., 6.],\n",
      "        [6., 5., 6., 6., 6., 6., 6., 6.]])\n",
      "z1=tensor([[36., 25., 36., 36., 36., 36., 36., 36.],\n",
      "        [36., 25., 36., 36., 36., 36., 36., 36.],\n",
      "        [36., 25., 36., 36., 36., 36., 36., 36.],\n",
      "        [36., 25., 36., 36., 36., 36., 36., 36.]])\n",
      "z2=tensor([[36., 25., 36., 36., 36., 36., 36., 36.],\n",
      "        [36., 25., 36., 36., 36., 36., 36., 36.],\n",
      "        [36., 25., 36., 36., 36., 36., 36., 36.],\n",
      "        [36., 25., 36., 36., 36., 36., 36., 36.]])\n",
      "z3=tensor([[36., 25., 36., 36., 36., 36., 36., 36.],\n",
      "        [36., 25., 36., 36., 36., 36., 36., 36.],\n",
      "        [36., 25., 36., 36., 36., 36., 36., 36.],\n",
      "        [36., 25., 36., 36., 36., 36., 36., 36.]])\n"
     ]
    }
   ],
   "source": [
    "\n",
    "y1 = tensor @ tensor.T\n",
    "y2 = tensor.matmul(tensor.T) \n",
    "y3 = torch.rand_like(y1)\n",
    "torch.matmul(tensor, tensor.T, out=y3)\n",
    "print(f\"{y1=}\")\n",
    "print(f\"{y2=}\")\n",
    "print(f\"{y3=}\")\n",
    "\n",
    "z1 = tensor * tensor\n",
    "z2 = tensor.mul(tensor)\n",
    "z3 = torch.rand_like(tensor)\n",
    "torch.mul(tensor, tensor, out=z3)\n",
    "print(f\"{tensor=}\")\n",
    "print(f\"{z1=}\")\n",
    "print(f\"{z2=}\")\n",
    "print(f\"{z3=}\")"
   ]
  }
 ],
 "metadata": {
  "kernelspec": {
   "display_name": ".venv",
   "language": "python",
   "name": "python3"
  },
  "language_info": {
   "codemirror_mode": {
    "name": "ipython",
    "version": 3
   },
   "file_extension": ".py",
   "mimetype": "text/x-python",
   "name": "python",
   "nbconvert_exporter": "python",
   "pygments_lexer": "ipython3",
   "version": "3.11.11"
  }
 },
 "nbformat": 4,
 "nbformat_minor": 2
}
