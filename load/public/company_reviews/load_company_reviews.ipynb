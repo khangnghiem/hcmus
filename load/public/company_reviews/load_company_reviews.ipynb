{
 "cells": [
  {
   "cell_type": "code",
   "execution_count": 1,
   "id": "1e083ad1",
   "metadata": {},
   "outputs": [
    {
     "name": "stderr",
     "output_type": "stream",
     "text": [
      "\u001b[32m2025-04-24 00:24:47.573\u001b[0m | \u001b[34m\u001b[1mDEBUG   \u001b[0m | \u001b[36mutils.io_helpers\u001b[0m:\u001b[36minsert_into_db\u001b[0m:\u001b[36m36\u001b[0m - \u001b[34m\u001b[1mINSERT OR IGNORE INTO company_reviews.review SELECT * from data;\u001b[0m\n",
      "\u001b[32m2025-04-24 00:24:52.150\u001b[0m | \u001b[32m\u001b[1mSUCCESS \u001b[0m | \u001b[36mutils.io_helpers\u001b[0m:\u001b[36minsert_into_db\u001b[0m:\u001b[36m38\u001b[0m - \u001b[32m\u001b[1mLoaded 95940 into company_reviews.review\u001b[0m\n",
      "\u001b[32m2025-04-24 00:24:52.152\u001b[0m | \u001b[1mINFO    \u001b[0m | \u001b[36mutils.io_helpers\u001b[0m:\u001b[36minsert_into_db\u001b[0m:\u001b[36m39\u001b[0m - \u001b[1mTotal count of company_reviews.review = 92421\u001b[0m\n",
      "\u001b[32m2025-04-24 00:24:52.806\u001b[0m | \u001b[32m\u001b[1mSUCCESS \u001b[0m | \u001b[36mutils.io_helpers\u001b[0m:\u001b[36mwrite_parquet\u001b[0m:\u001b[36m50\u001b[0m - \u001b[32m\u001b[1mCOPY company_reviews.review TO '/Volumes/Seagate/Filen/data/public/load/company_reviews/2025-04-23_congtytui_review.parquet' (FORMAT parquet);\u001b[0m\n",
      "\u001b[32m2025-04-24 00:24:52.807\u001b[0m | \u001b[32m\u001b[1mSUCCESS \u001b[0m | \u001b[36mload_company_reviews_db\u001b[0m:\u001b[36mload_db_company_reviews\u001b[0m:\u001b[36m86\u001b[0m - \u001b[32m\u001b[1mLoaded /Volumes/Seagate/Filen/data/public/load/company_reviews/2025-04-23_congtytui_review.parquet into /Volumes/Seagate/Filen/data/public/load/company_reviews/\u001b[0m\n",
      "\u001b[32m2025-04-24 00:24:54.004\u001b[0m | \u001b[34m\u001b[1mDEBUG   \u001b[0m | \u001b[36mutils.io_helpers\u001b[0m:\u001b[36minsert_into_db\u001b[0m:\u001b[36m36\u001b[0m - \u001b[34m\u001b[1mINSERT OR IGNORE INTO company_reviews.review SELECT * from data;\u001b[0m\n",
      "\u001b[32m2025-04-24 00:24:55.060\u001b[0m | \u001b[32m\u001b[1mSUCCESS \u001b[0m | \u001b[36mutils.io_helpers\u001b[0m:\u001b[36minsert_into_db\u001b[0m:\u001b[36m38\u001b[0m - \u001b[32m\u001b[1mLoaded 44625 into company_reviews.review\u001b[0m\n",
      "\u001b[32m2025-04-24 00:24:55.061\u001b[0m | \u001b[1mINFO    \u001b[0m | \u001b[36mutils.io_helpers\u001b[0m:\u001b[36minsert_into_db\u001b[0m:\u001b[36m39\u001b[0m - \u001b[1mTotal count of company_reviews.review = 136421\u001b[0m\n",
      "\u001b[32m2025-04-24 00:24:57.028\u001b[0m | \u001b[32m\u001b[1mSUCCESS \u001b[0m | \u001b[36mutils.io_helpers\u001b[0m:\u001b[36mwrite_parquet\u001b[0m:\u001b[36m50\u001b[0m - \u001b[32m\u001b[1mCOPY company_reviews.review TO '/Volumes/Seagate/Filen/data/public/load/company_reviews/2025-04-13_company_1900_review.parquet' (FORMAT parquet);\u001b[0m\n",
      "\u001b[32m2025-04-24 00:24:57.028\u001b[0m | \u001b[32m\u001b[1mSUCCESS \u001b[0m | \u001b[36mload_company_reviews_db\u001b[0m:\u001b[36mload_db_company_reviews\u001b[0m:\u001b[36m86\u001b[0m - \u001b[32m\u001b[1mLoaded /Volumes/Seagate/Filen/data/public/load/company_reviews/2025-04-13_company_1900_review.parquet into /Volumes/Seagate/Filen/data/public/load/company_reviews/\u001b[0m\n",
      "\u001b[32m2025-04-24 00:25:00.340\u001b[0m | \u001b[34m\u001b[1mDEBUG   \u001b[0m | \u001b[36mutils.io_helpers\u001b[0m:\u001b[36minsert_into_db\u001b[0m:\u001b[36m36\u001b[0m - \u001b[34m\u001b[1mINSERT OR IGNORE INTO company_reviews.company SELECT * from data;\u001b[0m\n",
      "\u001b[32m2025-04-24 00:25:00.482\u001b[0m | \u001b[32m\u001b[1mSUCCESS \u001b[0m | \u001b[36mutils.io_helpers\u001b[0m:\u001b[36minsert_into_db\u001b[0m:\u001b[36m38\u001b[0m - \u001b[32m\u001b[1mLoaded 18922 into company_reviews.company\u001b[0m\n",
      "\u001b[32m2025-04-24 00:25:00.483\u001b[0m | \u001b[1mINFO    \u001b[0m | \u001b[36mutils.io_helpers\u001b[0m:\u001b[36minsert_into_db\u001b[0m:\u001b[36m39\u001b[0m - \u001b[1mTotal count of company_reviews.company = 18920\u001b[0m\n",
      "\u001b[32m2025-04-24 00:25:00.516\u001b[0m | \u001b[32m\u001b[1mSUCCESS \u001b[0m | \u001b[36mutils.io_helpers\u001b[0m:\u001b[36mwrite_parquet\u001b[0m:\u001b[36m50\u001b[0m - \u001b[32m\u001b[1mCOPY company_reviews.company TO '/Volumes/Seagate/Filen/data/public/load/company_reviews/2025-04-13_company_1900_list.parquet' (FORMAT parquet);\u001b[0m\n",
      "\u001b[32m2025-04-24 00:25:00.516\u001b[0m | \u001b[32m\u001b[1mSUCCESS \u001b[0m | \u001b[36mload_company_reviews_db\u001b[0m:\u001b[36mload_db_company_reviews\u001b[0m:\u001b[36m68\u001b[0m - \u001b[32m\u001b[1mLoaded /Volumes/Seagate/Filen/data/public/load/company_reviews/2025-04-13_company_1900_list.parquet into /Volumes/Seagate/Filen/data/public/load/company_reviews/\u001b[0m\n",
      "\u001b[32m2025-04-24 00:25:00.828\u001b[0m | \u001b[34m\u001b[1mDEBUG   \u001b[0m | \u001b[36mutils.io_helpers\u001b[0m:\u001b[36minsert_into_db\u001b[0m:\u001b[36m36\u001b[0m - \u001b[34m\u001b[1mINSERT OR IGNORE INTO company_reviews.company SELECT * from data;\u001b[0m\n",
      "\u001b[32m2025-04-24 00:25:00.901\u001b[0m | \u001b[32m\u001b[1mSUCCESS \u001b[0m | \u001b[36mutils.io_helpers\u001b[0m:\u001b[36minsert_into_db\u001b[0m:\u001b[36m38\u001b[0m - \u001b[32m\u001b[1mLoaded 7364 into company_reviews.company\u001b[0m\n",
      "\u001b[32m2025-04-24 00:25:00.902\u001b[0m | \u001b[1mINFO    \u001b[0m | \u001b[36mutils.io_helpers\u001b[0m:\u001b[36minsert_into_db\u001b[0m:\u001b[36m39\u001b[0m - \u001b[1mTotal count of company_reviews.company = 26282\u001b[0m\n",
      "\u001b[32m2025-04-24 00:25:00.914\u001b[0m | \u001b[32m\u001b[1mSUCCESS \u001b[0m | \u001b[36mutils.io_helpers\u001b[0m:\u001b[36mwrite_parquet\u001b[0m:\u001b[36m50\u001b[0m - \u001b[32m\u001b[1mCOPY company_reviews.company TO '/Volumes/Seagate/Filen/data/public/load/company_reviews/2025-04-23_congtytui_list.parquet' (FORMAT parquet);\u001b[0m\n",
      "\u001b[32m2025-04-24 00:25:00.914\u001b[0m | \u001b[32m\u001b[1mSUCCESS \u001b[0m | \u001b[36mload_company_reviews_db\u001b[0m:\u001b[36mload_db_company_reviews\u001b[0m:\u001b[36m68\u001b[0m - \u001b[32m\u001b[1mLoaded /Volumes/Seagate/Filen/data/public/load/company_reviews/2025-04-23_congtytui_list.parquet into /Volumes/Seagate/Filen/data/public/load/company_reviews/\u001b[0m\n",
      "\u001b[32m2025-04-24 00:25:01.655\u001b[0m | \u001b[34m\u001b[1mDEBUG   \u001b[0m | \u001b[36mutils.io_helpers\u001b[0m:\u001b[36minsert_into_db\u001b[0m:\u001b[36m36\u001b[0m - \u001b[34m\u001b[1mINSERT OR IGNORE INTO company_reviews.overview SELECT * from data;\u001b[0m\n",
      "\u001b[32m2025-04-24 00:25:02.081\u001b[0m | \u001b[32m\u001b[1mSUCCESS \u001b[0m | \u001b[36mutils.io_helpers\u001b[0m:\u001b[36minsert_into_db\u001b[0m:\u001b[36m38\u001b[0m - \u001b[32m\u001b[1mLoaded 18915 into company_reviews.overview\u001b[0m\n",
      "\u001b[32m2025-04-24 00:25:02.082\u001b[0m | \u001b[1mINFO    \u001b[0m | \u001b[36mutils.io_helpers\u001b[0m:\u001b[36minsert_into_db\u001b[0m:\u001b[36m39\u001b[0m - \u001b[1mTotal count of company_reviews.overview = 18915\u001b[0m\n",
      "\u001b[32m2025-04-24 00:25:02.169\u001b[0m | \u001b[32m\u001b[1mSUCCESS \u001b[0m | \u001b[36mutils.io_helpers\u001b[0m:\u001b[36mwrite_parquet\u001b[0m:\u001b[36m50\u001b[0m - \u001b[32m\u001b[1mCOPY company_reviews.overview TO '/Volumes/Seagate/Filen/data/public/load/company_reviews/2025-04-13_company_1900_overview.parquet' (FORMAT parquet);\u001b[0m\n",
      "\u001b[32m2025-04-24 00:25:02.169\u001b[0m | \u001b[32m\u001b[1mSUCCESS \u001b[0m | \u001b[36mload_company_reviews_db\u001b[0m:\u001b[36mload_db_company_reviews\u001b[0m:\u001b[36m77\u001b[0m - \u001b[32m\u001b[1mLoaded /Volumes/Seagate/Filen/data/public/load/company_reviews/2025-04-13_company_1900_overview.parquet into /Volumes/Seagate/Filen/data/public/load/company_reviews/\u001b[0m\n"
     ]
    }
   ],
   "source": [
    "from load_company_reviews_db import load_db_company_reviews\n",
    "\n",
    "try:\n",
    "    load_db_company_reviews()\n",
    "except Exception as e:\n",
    "    print(f\"Error loading DB companies: {e}\")\n"
   ]
  }
 ],
 "metadata": {
  "kernelspec": {
   "display_name": ".venv",
   "language": "python",
   "name": "python3"
  },
  "language_info": {
   "codemirror_mode": {
    "name": "ipython",
    "version": 3
   },
   "file_extension": ".py",
   "mimetype": "text/x-python",
   "name": "python",
   "nbconvert_exporter": "python",
   "pygments_lexer": "ipython3",
   "version": "3.12.8"
  }
 },
 "nbformat": 4,
 "nbformat_minor": 5
}
