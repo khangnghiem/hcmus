{
 "cells": [
  {
   "cell_type": "code",
   "execution_count": 1,
   "id": "ee648f61",
   "metadata": {},
   "outputs": [],
   "source": [
    "import duckdb as db"
   ]
  },
  {
   "cell_type": "code",
   "execution_count": null,
   "id": "37f407a0",
   "metadata": {},
   "outputs": [
    {
     "data": {
      "text/plain": [
       "<duckdb.duckdb.DuckDBPyConnection at 0x107a4c4b0>"
      ]
     },
     "execution_count": 2,
     "metadata": {},
     "output_type": "execute_result"
    }
   ],
   "source": [
    "db.connect(\"/Volumes/Seagate/Filen/data/public/load/public.db\")\n"
   ]
  },
  {
   "cell_type": "code",
   "execution_count": null,
   "id": "600f3870",
   "metadata": {},
   "outputs": [],
   "source": []
  }
 ],
 "metadata": {
  "kernelspec": {
   "display_name": ".venv",
   "language": "python",
   "name": "python3"
  },
  "language_info": {
   "codemirror_mode": {
    "name": "ipython",
    "version": 3
   },
   "file_extension": ".py",
   "mimetype": "text/x-python",
   "name": "python",
   "nbconvert_exporter": "python",
   "pygments_lexer": "ipython3",
   "version": "3.12.8"
  }
 },
 "nbformat": 4,
 "nbformat_minor": 5
}
