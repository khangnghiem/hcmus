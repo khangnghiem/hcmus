{
 "cells": [
  {
   "cell_type": "code",
   "execution_count": 1,
   "id": "bc99b0fe",
   "metadata": {},
   "outputs": [
    {
     "name": "stderr",
     "output_type": "stream",
     "text": [
      "No files have been modified since last commit. Skipping to prevent empty commit.\n",
      "\u001b[32m2025-04-27 19:59:57.873\u001b[0m | \u001b[32m\u001b[1mSUCCESS \u001b[0m | \u001b[36mhf_sync\u001b[0m:\u001b[36msync_hf_content\u001b[0m:\u001b[36m28\u001b[0m - \u001b[32m\u001b[1mUploaded /extract to khangnghiem/public successfully.\u001b[0m\n",
      "No files have been modified since last commit. Skipping to prevent empty commit.\n",
      "\u001b[32m2025-04-27 20:00:00.628\u001b[0m | \u001b[32m\u001b[1mSUCCESS \u001b[0m | \u001b[36mhf_sync\u001b[0m:\u001b[36msync_hf_content\u001b[0m:\u001b[36m28\u001b[0m - \u001b[32m\u001b[1mUploaded /load to khangnghiem/public successfully.\u001b[0m\n",
      "No files have been modified since last commit. Skipping to prevent empty commit.\n",
      "\u001b[32m2025-04-27 20:00:02.608\u001b[0m | \u001b[32m\u001b[1mSUCCESS \u001b[0m | \u001b[36mhf_sync\u001b[0m:\u001b[36msync_hf_content\u001b[0m:\u001b[36m28\u001b[0m - \u001b[32m\u001b[1mUploaded /transform to khangnghiem/public successfully.\u001b[0m\n",
      "No files have been modified since last commit. Skipping to prevent empty commit.\n",
      "\u001b[32m2025-04-27 20:00:50.689\u001b[0m | \u001b[32m\u001b[1mSUCCESS \u001b[0m | \u001b[36mhf_sync\u001b[0m:\u001b[36msync_hf_content\u001b[0m:\u001b[36m28\u001b[0m - \u001b[32m\u001b[1mUploaded /models to khangnghiem/public successfully.\u001b[0m\n",
      "\u001b[32m2025-04-27 20:00:52.521\u001b[0m | \u001b[32m\u001b[1mSUCCESS \u001b[0m | \u001b[36mhf_sync\u001b[0m:\u001b[36msync_hf_content\u001b[0m:\u001b[36m28\u001b[0m - \u001b[32m\u001b[1mUploaded /modeling to khangnghiem/public successfully.\u001b[0m\n"
     ]
    }
   ],
   "source": [
    "from hf_sync import sync_hf\n",
    "\n",
    "sync_hf(\"dataset\")\n",
    "sync_hf(\"model\")\n"
   ]
  }
 ],
 "metadata": {
  "kernelspec": {
   "display_name": ".venv",
   "language": "python",
   "name": "python3"
  },
  "language_info": {
   "codemirror_mode": {
    "name": "ipython",
    "version": 3
   },
   "file_extension": ".py",
   "mimetype": "text/x-python",
   "name": "python",
   "nbconvert_exporter": "python",
   "pygments_lexer": "ipython3",
   "version": "3.12.8"
  }
 },
 "nbformat": 4,
 "nbformat_minor": 5
}
