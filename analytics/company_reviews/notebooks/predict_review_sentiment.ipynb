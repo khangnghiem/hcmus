{
 "cells": [
  {
   "cell_type": "code",
   "execution_count": 13,
   "id": "ea54cca2",
   "metadata": {},
   "outputs": [
    {
     "name": "stderr",
     "output_type": "stream",
     "text": [
      "Some weights of RobertaModel were not initialized from the model checkpoint at vinai/phobert-base-v2 and are newly initialized: ['pooler.dense.bias', 'pooler.dense.weight']\n",
      "You should probably TRAIN this model on a down-stream task to be able to use it for predictions and inference.\n"
     ]
    },
    {
     "data": {
      "text/plain": [
       "<All keys matched successfully>"
      ]
     },
     "execution_count": 13,
     "metadata": {},
     "output_type": "execute_result"
    }
   ],
   "source": [
    "from transformers import AutoModel, AutoTokenizer\n",
    "import torch\n",
    "import torch.nn as nn\n",
    "\n",
    "model = \"/Volumes/Seagate/Filen/data/public/models/company_reviews/10000_samples_best_phobert_sentiment.bin\"\n",
    "\n",
    "\n",
    "class SentimentClassifier(nn.Module):\n",
    "    def __init__(self, n_classes, bert_model):\n",
    "        super().__init__()\n",
    "        self.phobert = bert_model\n",
    "        self.drop = nn.Dropout(p=0.3)\n",
    "        self.out = nn.Linear(self.phobert.config.hidden_size, n_classes)\n",
    "\n",
    "    def forward(self, input_ids, attention_mask):\n",
    "        output = self.phobert(input_ids=input_ids, attention_mask=attention_mask)\n",
    "        pooled = output.last_hidden_state.mean(dim=1)\n",
    "        return self.out(self.drop(pooled))\n",
    "\n",
    "\n",
    "tokenizer = AutoTokenizer.from_pretrained(\"vinai/phobert-base-v2\")\n",
    "bert_model = AutoModel.from_pretrained(\"vinai/phobert-base-v2\")\n",
    "classifier = SentimentClassifier(n_classes=3, bert_model=bert_model).to(\"cpu\")\n",
    "classifier.load_state_dict(torch.load(model))"
   ]
  },
  {
   "cell_type": "code",
   "execution_count": null,
   "id": "19f7fad9",
   "metadata": {},
   "outputs": [],
   "source": [
    "def encode(review):\n",
    "    encoding = tokenizer.encode_plus(\n",
    "        review,\n",
    "        add_special_tokens=True,\n",
    "        max_length=256,\n",
    "        padding=\"max_length\",\n",
    "        truncation=True,\n",
    "        return_tensors=\"pt\",\n",
    "    )\n",
    "    input_review = {\n",
    "        \"input_ids\": encoding[\"input_ids\"],\n",
    "        \"attention_mask\": encoding[\"attention_mask\"],\n",
    "    }\n",
    "\n",
    "    return input_review\n",
    "\n",
    "\n",
    "classifier.eval()\n",
    "classes = {\n",
    "    0: \"Negative\",\n",
    "    1: \"Neutral\",\n",
    "    2: \"Positive\",\n",
    "}"
   ]
  },
  {
   "cell_type": "code",
   "execution_count": 64,
   "id": "90e4b03e",
   "metadata": {},
   "outputs": [
    {
     "name": "stdout",
     "output_type": "stream",
     "text": [
      "Predicted class: Negative\n",
      "Predicted class: Positive\n",
      "Predicted class: Negative\n",
      "Predicted class: Positive\n",
      "Predicted class: Negative\n",
      "Predicted class: Negative\n"
     ]
    }
   ],
   "source": [
    "review = [\n",
    "    \"Ủa chừng nào có lương?\",\n",
    "    \"Ở đây nhiều đồ ăn\",\n",
    "    \"Đồng nghiệp không ổn định\",\n",
    "    \"Làm ở đây cũng tạm OK\",\n",
    "    \"Ahaha mắc cười ghê\",\n",
    "    \"Ahihi tưởng thế nào\",\n",
    "]\n",
    "input_review = [encode(review) for review in review]\n",
    "\n",
    "for each_input in input_review:\n",
    "    with torch.no_grad():\n",
    "        logits = classifier(**each_input).cpu().numpy()\n",
    "        predicted_class = logits.argmax(axis=1)[0]\n",
    "        print(f\"Predicted class: {classes[predicted_class]}\")\n"
   ]
  }
 ],
 "metadata": {
  "kernelspec": {
   "display_name": ".venv",
   "language": "python",
   "name": "python3"
  },
  "language_info": {
   "codemirror_mode": {
    "name": "ipython",
    "version": 3
   },
   "file_extension": ".py",
   "mimetype": "text/x-python",
   "name": "python",
   "nbconvert_exporter": "python",
   "pygments_lexer": "ipython3",
   "version": "3.12.8"
  }
 },
 "nbformat": 4,
 "nbformat_minor": 5
}
